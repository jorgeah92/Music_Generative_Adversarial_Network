{
 "cells": [
  {
   "cell_type": "code",
   "execution_count": null,
   "metadata": {},
   "outputs": [],
   "source": []
  },
  {
   "cell_type": "code",
   "execution_count": null,
   "metadata": {},
   "outputs": [],
   "source": []
  },
  {
   "cell_type": "code",
   "execution_count": 1,
   "metadata": {},
   "outputs": [],
   "source": [
    "import tensorflow as tf\n",
    "tf.enable_eager_execution()"
   ]
  },
  {
   "cell_type": "code",
   "execution_count": 2,
   "metadata": {},
   "outputs": [],
   "source": [
    "from tensorflow.keras.layers import Input, Reshape, Dropout, Dense \n",
    "from tensorflow.keras.layers import Flatten, BatchNormalization\n",
    "from tensorflow.keras.layers import Activation, ZeroPadding2D,ZeroPadding1D\n",
    "from tensorflow.keras.layers import LeakyReLU\n",
    "from tensorflow.keras.layers import UpSampling2D, Conv2D, Conv1D,UpSampling1D\n",
    "from tensorflow.keras.models import Sequential, Model, load_model\n",
    "from tensorflow.keras.optimizers import Adam\n",
    "import numpy as np\n",
    "from PIL import Image\n",
    "#from tqdm import tqdm\n",
    "import os \n",
    "import time\n",
    "import matplotlib.pyplot as plt"
   ]
  },
  {
   "cell_type": "code",
   "execution_count": 2,
   "metadata": {},
   "outputs": [
    {
     "name": "stdout",
     "output_type": "stream",
     "text": [
      "Collecting mido\n",
      "  Downloading https://files.pythonhosted.org/packages/20/0a/81beb587b1ae832ea6a1901dc7c6faa380e8dd154e0a862f0a9f3d2afab9/mido-1.2.9-py2.py3-none-any.whl (52kB)\n",
      "\u001b[K    100% |################################| 61kB 2.9MB/s ta 0:00:01\n",
      "\u001b[?25hInstalling collected packages: mido\n",
      "Successfully installed mido-1.2.9\n"
     ]
    }
   ],
   "source": [
    "#!pip3 install mido"
   ]
  },
  {
   "cell_type": "code",
   "execution_count": 3,
   "metadata": {},
   "outputs": [
    {
     "name": "stdout",
     "output_type": "stream",
     "text": [
      "Collecting music21\n",
      "  Downloading https://files.pythonhosted.org/packages/43/f3/da0ab10ffb5e58e2690b8dff310bb53f35af213a8853ec72c08df41ea080/music21-6.7.1.tar.gz (19.2MB)\n",
      "\u001b[K    100% |################################| 19.3MB 34kB/s eta 0:00:011   16% |#####                           | 3.2MB 7.8MB/s eta 0:00:03    19% |######                          | 3.8MB 10.2MB/s eta 0:00:02    24% |#######                         | 4.6MB 8.6MB/s eta 0:00:02    36% |###########                     | 7.1MB 6.2MB/s eta 0:00:02    38% |############                    | 7.4MB 8.5MB/s eta 0:00:02    51% |################                | 10.0MB 5.2MB/s eta 0:00:02    63% |####################            | 12.3MB 8.4MB/s eta 0:00:01    66% |#####################           | 12.9MB 15.5MB/s eta 0:00:01    95% |##############################  | 18.4MB 5.6MB/s eta 0:00:01    97% |############################### | 18.8MB 10.6MB/s eta 0:00:01\n",
      "\u001b[?25hRequirement already satisfied: chardet in /usr/lib/python3/dist-packages (from music21)\n",
      "Requirement already satisfied: joblib in /usr/local/lib/python3.6/dist-packages (from music21)\n",
      "Collecting more-itertools (from music21)\n",
      "  Downloading https://files.pythonhosted.org/packages/05/47/514062a0798c2e9bdfd4514bacf9971fc8961b715f01487e4cfda3cc45a7/more_itertools-8.7.0-py3-none-any.whl (48kB)\n",
      "\u001b[K    100% |################################| 51kB 3.4MB/s eta 0:00:01\n",
      "\u001b[?25hCollecting webcolors (from music21)\n",
      "  Downloading https://files.pythonhosted.org/packages/12/05/3350559de9714b202e443a9e6312937341bd5f79f4e4f625744295e7dd17/webcolors-1.11.1-py3-none-any.whl\n",
      "Building wheels for collected packages: music21\n",
      "  Running setup.py bdist_wheel for music21 ... \u001b[?25ldone\n",
      "\u001b[?25h  Stored in directory: /root/.cache/pip/wheels/1a/0f/0e/f78ad56a2738f4ea5082dd4283d7b7cce18a8ba20c3e609b6c\n",
      "Successfully built music21\n",
      "Installing collected packages: more-itertools, webcolors, music21\n",
      "Successfully installed more-itertools-8.7.0 music21-6.7.1 webcolors-1.11.1\n"
     ]
    }
   ],
   "source": [
    "#!pip3 install music21"
   ]
  },
  {
   "cell_type": "code",
   "execution_count": 3,
   "metadata": {},
   "outputs": [],
   "source": [
    "from mido import MidiFile, MidiTrack, Message\n",
    "from music21 import *\n",
    "from IPython.display import Image\n",
    "import pandas as pd\n",
    "import numpy as np\n",
    "import math\n",
    "import glob"
   ]
  },
  {
   "cell_type": "code",
   "execution_count": 20,
   "metadata": {},
   "outputs": [],
   "source": [
    "def recreate_midi(df_first_notes, speed=20000):\n",
    "    # function to take a dataframe created by something like parse_notes() or a gan and return a midi\n",
    "    \n",
    "    # Can start by reverse scaling the note:\n",
    "    df_reversed = df_first_notes.copy()\n",
    "    df_reversed['note'] = round(df_reversed['note'] * 88 + 20)  # might want to have something more special than round()\n",
    "    df_reversed.note = df_reversed.note.astype(int)\n",
    "    df_reversed['velocity'] = 60  # create a uniform middling velocity\n",
    "\n",
    "    # recreate the absolute time index and drop time_since_last (we'll recreate it with the stop signals)\n",
    "    df_reversed['time_index'] = df_reversed.time_since_last.cumsum()\n",
    "    df_reversed = df_reversed.drop(columns = 'time_since_last')\n",
    "\n",
    "    # create a stop signal for each note at the appropriate time_index:\n",
    "    for i in range(len(df_reversed)):\n",
    "        stop_note = pd.DataFrame([[df_reversed.note[i], 0, 0, df_reversed.duration[i] + df_reversed.time_index[i]]],\n",
    "                                 columns=['note', 'duration', 'velocity', 'time_index'])\n",
    "        df_reversed = df_reversed.append(stop_note, ignore_index=True)\n",
    "    df_reversed = df_reversed.sort_values('time_index').reset_index(drop=True)\n",
    "\n",
    "    # recreate time_since last with the stop note signals\n",
    "    df_reversed['time'] = [0] + [df_reversed.time_index[i+1] - df_reversed.time_index[i] \n",
    "                                 for i in range(len(df_reversed)-1)]\n",
    "    # and now we don't need duration or time_index so can drop those\n",
    "    df_reversed = df_reversed.drop(columns = {'time_index','duration'})\n",
    "\n",
    "    # finally, we need to scale the time since last note appropriately:\n",
    "    df_reversed['time'] = round(df_reversed['time'] * speed)\n",
    "    df_reversed.time = df_reversed.time.astype(int)\n",
    "\n",
    "    # finally, recreate the midi and return\n",
    "    mid_remade = MidiFile()\n",
    "    track = MidiTrack()\n",
    "    mid_remade.tracks.append(track)\n",
    "    track.append(Message('program_change', program=0, time=0))\n",
    "    for i in range(len(df_reversed)):\n",
    "        track.append(Message('note_on', note=df_reversed.note[i], velocity=df_reversed.velocity[i], time=df_reversed.time[i]))\n",
    "\n",
    "    return mid_remade"
   ]
  },
  {
   "cell_type": "code",
   "execution_count": 5,
   "metadata": {},
   "outputs": [
    {
     "name": "stdout",
     "output_type": "stream",
     "text": [
      "Untitled.ipynb\tsong_long_generator.h5\n"
     ]
    }
   ],
   "source": [
    "!ls"
   ]
  },
  {
   "cell_type": "code",
   "execution_count": 4,
   "metadata": {},
   "outputs": [
    {
     "name": "stdout",
     "output_type": "stream",
     "text": [
      "WARNING:tensorflow:No training configuration found in save file: the model was *not* compiled. Compile it manually.\n"
     ]
    }
   ],
   "source": [
    "# Loading the model\n",
    "model = load_model('song_long_generator.h5')"
   ]
  },
  {
   "cell_type": "code",
   "execution_count": 11,
   "metadata": {},
   "outputs": [],
   "source": [
    "# feeding random noise into the model\n",
    "noise = tf.random.normal([1, 100])\n",
    "generated_song = model(noise, training=False)"
   ]
  },
  {
   "cell_type": "code",
   "execution_count": 12,
   "metadata": {},
   "outputs": [],
   "source": [
    "array = generated_song.numpy()"
   ]
  },
  {
   "cell_type": "code",
   "execution_count": 13,
   "metadata": {},
   "outputs": [],
   "source": [
    "# Adjust for negative values in the model\n",
    "array = np.where(array<0, 0.0001, array)"
   ]
  },
  {
   "cell_type": "code",
   "execution_count": 15,
   "metadata": {},
   "outputs": [],
   "source": [
    "midi_df = pd.DataFrame(array[0],columns=[\"note\", \"duration\",'time_since_last'])"
   ]
  },
  {
   "cell_type": "code",
   "execution_count": 16,
   "metadata": {},
   "outputs": [
    {
     "data": {
      "text/html": [
       "<div>\n",
       "<style scoped>\n",
       "    .dataframe tbody tr th:only-of-type {\n",
       "        vertical-align: middle;\n",
       "    }\n",
       "\n",
       "    .dataframe tbody tr th {\n",
       "        vertical-align: top;\n",
       "    }\n",
       "\n",
       "    .dataframe thead th {\n",
       "        text-align: right;\n",
       "    }\n",
       "</style>\n",
       "<table border=\"1\" class=\"dataframe\">\n",
       "  <thead>\n",
       "    <tr style=\"text-align: right;\">\n",
       "      <th></th>\n",
       "      <th>note</th>\n",
       "      <th>duration</th>\n",
       "      <th>time_since_last</th>\n",
       "    </tr>\n",
       "  </thead>\n",
       "  <tbody>\n",
       "    <tr>\n",
       "      <th>0</th>\n",
       "      <td>0.456541</td>\n",
       "      <td>0.005347</td>\n",
       "      <td>0.009016</td>\n",
       "    </tr>\n",
       "    <tr>\n",
       "      <th>1</th>\n",
       "      <td>0.401147</td>\n",
       "      <td>0.000100</td>\n",
       "      <td>0.006355</td>\n",
       "    </tr>\n",
       "    <tr>\n",
       "      <th>2</th>\n",
       "      <td>0.479832</td>\n",
       "      <td>0.010043</td>\n",
       "      <td>0.000100</td>\n",
       "    </tr>\n",
       "    <tr>\n",
       "      <th>3</th>\n",
       "      <td>0.458423</td>\n",
       "      <td>0.005118</td>\n",
       "      <td>0.003468</td>\n",
       "    </tr>\n",
       "    <tr>\n",
       "      <th>4</th>\n",
       "      <td>0.307731</td>\n",
       "      <td>0.002722</td>\n",
       "      <td>0.002264</td>\n",
       "    </tr>\n",
       "  </tbody>\n",
       "</table>\n",
       "</div>"
      ],
      "text/plain": [
       "       note  duration  time_since_last\n",
       "0  0.456541  0.005347         0.009016\n",
       "1  0.401147  0.000100         0.006355\n",
       "2  0.479832  0.010043         0.000100\n",
       "3  0.458423  0.005118         0.003468\n",
       "4  0.307731  0.002722         0.002264"
      ]
     },
     "execution_count": 16,
     "metadata": {},
     "output_type": "execute_result"
    }
   ],
   "source": [
    "midi_df.head()"
   ]
  },
  {
   "cell_type": "code",
   "execution_count": 21,
   "metadata": {},
   "outputs": [],
   "source": [
    "# Save the midi file\n",
    "mid_remade = recreate_midi(midi_df)"
   ]
  },
  {
   "cell_type": "code",
   "execution_count": 22,
   "metadata": {},
   "outputs": [],
   "source": [
    "mid_remade.save('mid_test_3.mid')"
   ]
  },
  {
   "cell_type": "code",
   "execution_count": null,
   "metadata": {},
   "outputs": [],
   "source": []
  }
 ],
 "metadata": {
  "kernelspec": {
   "display_name": "Python 3",
   "language": "python",
   "name": "python3"
  },
  "language_info": {
   "codemirror_mode": {
    "name": "ipython",
    "version": 3
   },
   "file_extension": ".py",
   "mimetype": "text/x-python",
   "name": "python",
   "nbconvert_exporter": "python",
   "pygments_lexer": "ipython3",
   "version": "3.7.1"
  }
 },
 "nbformat": 4,
 "nbformat_minor": 4
}
