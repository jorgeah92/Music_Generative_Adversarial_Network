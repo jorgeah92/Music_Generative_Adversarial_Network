{
 "cells": [
  {
   "cell_type": "code",
   "execution_count": 184,
   "metadata": {},
   "outputs": [],
   "source": [
    "from mido import MidiFile\n",
    "import pandas as pd\n",
    "import numpy as np\n",
    "import math\n",
    "import glob"
   ]
  },
  {
   "cell_type": "code",
   "execution_count": 185,
   "metadata": {},
   "outputs": [],
   "source": [
    "def parse_notes(file_name, song_len):\n",
    "    \n",
    "    # start by reading the file:\n",
    "    message_strings_split = []\n",
    "    mid = MidiFile(file_name) \n",
    "    for i in mid.tracks[1][2:-1]: \n",
    "        message_string = str(i)\n",
    "        message_strings_split.append(message_string.split(\" \"))\n",
    "        \n",
    "    # now extract all the relevant information from the message and create a data frame:\n",
    "    message_type = []\n",
    "    for item in message_strings_split:\n",
    "        message_type.append(item[0])\n",
    "    df1 = pd.DataFrame(message_type)\n",
    "    attributes = []\n",
    "    for item in message_strings_split:\n",
    "        attributes.append(item[1:])\n",
    "    attributes_dict = [{}]    \n",
    "    for item in attributes:\n",
    "        for i in item:\n",
    "            key, val = i.split(\"=\")\n",
    "            if key in attributes_dict[-1]:\n",
    "                attributes_dict.append({})\n",
    "            attributes_dict[-1][key] = val\n",
    "    df2 = pd.DataFrame.from_dict(attributes_dict)\n",
    "    df_complete = pd.concat([df1, df2], axis=1)\n",
    "    \n",
    "    # control change messages are for the pedal...let's simplify by not having those, and don't need all columns:\n",
    "    df_notes = df_complete[df_complete[0] == 'note_on'].drop(columns={0,'channel'}).reset_index(drop=True)\n",
    "    if 'control' in df_notes.columns:\n",
    "        df_notes = df_notes.drop(columns={'control','value'})\n",
    "    \n",
    "    # change some of the data types:\n",
    "    df_notes.time = df_notes.time.astype(float)\n",
    "    df_notes.note = df_notes.note.astype(int)\n",
    "    df_notes.velocity = df_notes.velocity.astype(int)\n",
    "    \n",
    "    # create a time elapsed attribute equal to the cumulative sum of time.\n",
    "    df_notes['time_elapsed'] = df_notes.time.cumsum()\n",
    "    \n",
    "    # say we would work with a small note subset of the song\n",
    "    # for speed we'll just work with the first bit of the song for calculating durations:\n",
    "    df_song_intro = df_notes.loc[0:song_len*3].copy()\n",
    "    \n",
    "    # find the duration each note was played based on the stop note signals (note on with velocity == 0)\n",
    "    duration = [0] * len(df_song_intro)\n",
    "    for i in range(len(df_song_intro)):\n",
    "        if df_notes['velocity'][i] != 0 and i < len(df_song_intro) - 1:            \n",
    "            j = i + 1\n",
    "            while df_song_intro['note'][j] != df_song_intro['note'][i]:\n",
    "                if j >= len(df_song_intro) - 1:\n",
    "                    break\n",
    "                else:\n",
    "                    j += 1\n",
    "            duration[i] = df_song_intro['time_elapsed'][j] - df_song_intro['time_elapsed'][i]\n",
    "    df_song_intro['duration'] = duration\n",
    "\n",
    "    # now drop the \"notes off\" signal rows (this info is in the duration column)\n",
    "    df_song_intro = df_song_intro[df_song_intro['velocity'] != 0].reset_index(drop=True)\n",
    "    # simplify again to start without dynamics:\n",
    "    df_song_intro = df_song_intro.drop(columns={'time','velocity'})\n",
    "    \n",
    "    # now formally take just the first bit of the song:\n",
    "    df_first_notes = df_song_intro.loc[0:song_len-1].copy()\n",
    "    if len(df_first_notes) < song_len:\n",
    "        return np.zeros((1,200,3))\n",
    "    \n",
    "    # now, let's normalize the time elapsed and make duration a fraction of time elapsed:\n",
    "    df_first_notes['time_elapsed'] -= df_first_notes['time_elapsed'][0]\n",
    "    df_first_notes['duration'] /= df_first_notes['time_elapsed'][song_len-1]\n",
    "    df_first_notes['time_elapsed'] /= df_first_notes['time_elapsed'][song_len-1]\n",
    "    \n",
    "    # finally, let's recreate the \"time since last event\" nature of a midi file for time_elapsed:\n",
    "    time_since_last = [0] * song_len\n",
    "    for i in range(1, song_len):\n",
    "        time_since_last[i] = df_first_notes['time_elapsed'][i] - df_first_notes['time_elapsed'][i-1]\n",
    "    df_first_notes['time_since_last'] = time_since_last\n",
    "    df_first_notes = df_first_notes.drop(columns='time_elapsed')\n",
    "    \n",
    "    # lastly, need to normalize the notes...MIDI for piano returns 21 to 108, so:\n",
    "    df_first_notes['note'] -= 20\n",
    "    df_first_notes['note'] /= 88\n",
    "    \n",
    "    return df_first_notes"
   ]
  },
  {
   "cell_type": "code",
   "execution_count": 187,
   "metadata": {},
   "outputs": [],
   "source": [
    "# Parse all files into np array:\n",
    "song_len = 200\n",
    "all_songs = np.zeros((1,200,3))  # create a blank first \"song\" to just append things to uniformly in loop\n",
    "\n",
    "for file_name in glob.glob(\"All_Maestro/*.midi\"):\n",
    "    song_notes = parse_notes(file_name, song_len)\n",
    "    if not np.array_equal(song_notes, np.zeros((1,200,3))):\n",
    "        transpose_notes = song_notes.copy()\n",
    "        for i in range(-5,7):\n",
    "            transpose_notes['note'] = song_notes['note'] + i/88\n",
    "            transpose_notes['note'] = [1/88 if i <= 0 else i for i in transpose_notes['note']] # can't go below bottom A\n",
    "            transpose_notes['note'] = [1 if i > 1 else i for i in transpose_notes['note']] # can't go above top C\n",
    "            all_songs = np.append(all_songs, transpose_notes.to_numpy().reshape((1,200,3)), axis=0)\n",
    "\n",
    "all_songs = np.delete(all_songs, 0, 0)  # delete that first blank song"
   ]
  },
  {
   "cell_type": "code",
   "execution_count": 191,
   "metadata": {},
   "outputs": [],
   "source": [
    "np.save('All_Maestro_Parsed', all_songs) # save the parse data for later use"
   ]
  },
  {
   "cell_type": "code",
   "execution_count": 142,
   "metadata": {},
   "outputs": [],
   "source": [
    "all_maestro = np.load('All_Maestro_Parsed.npy') # test loading of saved array"
   ]
  },
  {
   "cell_type": "code",
   "execution_count": 188,
   "metadata": {},
   "outputs": [
    {
     "data": {
      "text/plain": [
       "(15300, 200, 3)"
      ]
     },
     "execution_count": 188,
     "metadata": {},
     "output_type": "execute_result"
    }
   ],
   "source": [
    "all_songs.shape"
   ]
  },
  {
   "cell_type": "code",
   "execution_count": 190,
   "metadata": {},
   "outputs": [
    {
     "data": {
      "text/plain": [
       "array([[[1.81818182e-01, 8.45376135e-03, 0.00000000e+00],\n",
       "        [2.61363636e-01, 9.27628948e-02, 1.71360027e-04],\n",
       "        [1.70454545e-01, 1.23379220e-02, 7.19712115e-03],\n",
       "        ...,\n",
       "        [5.34090909e-01, 8.51088136e-03, 2.28480037e-04],\n",
       "        [5.34090909e-01, 1.14240018e-03, 1.35374422e-02],\n",
       "        [3.97727273e-01, 6.85440110e-04, 1.08528017e-03]],\n",
       "\n",
       "       [[1.93181818e-01, 8.45376135e-03, 0.00000000e+00],\n",
       "        [2.72727273e-01, 9.27628948e-02, 1.71360027e-04],\n",
       "        [1.81818182e-01, 1.23379220e-02, 7.19712115e-03],\n",
       "        ...,\n",
       "        [5.45454545e-01, 8.51088136e-03, 2.28480037e-04],\n",
       "        [5.45454545e-01, 1.14240018e-03, 1.35374422e-02],\n",
       "        [4.09090909e-01, 6.85440110e-04, 1.08528017e-03]],\n",
       "\n",
       "       [[2.04545455e-01, 8.45376135e-03, 0.00000000e+00],\n",
       "        [2.84090909e-01, 9.27628948e-02, 1.71360027e-04],\n",
       "        [1.93181818e-01, 1.23379220e-02, 7.19712115e-03],\n",
       "        ...,\n",
       "        [5.56818182e-01, 8.51088136e-03, 2.28480037e-04],\n",
       "        [5.56818182e-01, 1.14240018e-03, 1.35374422e-02],\n",
       "        [4.20454545e-01, 6.85440110e-04, 1.08528017e-03]],\n",
       "\n",
       "       ...,\n",
       "\n",
       "       [[3.97727273e-01, 1.61718361e-02, 0.00000000e+00],\n",
       "        [3.63636364e-01, 1.34765301e-02, 1.65864986e-04],\n",
       "        [4.43181818e-01, 1.48449162e-02, 0.00000000e+00],\n",
       "        ...,\n",
       "        [3.63636364e-01, 2.90263725e-04, 4.85155084e-03],\n",
       "        [3.97727273e-01, 1.24398739e-03, 2.90263725e-04],\n",
       "        [4.43181818e-01, 1.36838613e-03, 1.40985238e-03]],\n",
       "\n",
       "       [[4.09090909e-01, 1.61718361e-02, 0.00000000e+00],\n",
       "        [3.75000000e-01, 1.34765301e-02, 1.65864986e-04],\n",
       "        [4.54545455e-01, 1.48449162e-02, 0.00000000e+00],\n",
       "        ...,\n",
       "        [3.75000000e-01, 2.90263725e-04, 4.85155084e-03],\n",
       "        [4.09090909e-01, 1.24398739e-03, 2.90263725e-04],\n",
       "        [4.54545455e-01, 1.36838613e-03, 1.40985238e-03]],\n",
       "\n",
       "       [[4.20454545e-01, 1.61718361e-02, 0.00000000e+00],\n",
       "        [3.86363636e-01, 1.34765301e-02, 1.65864986e-04],\n",
       "        [4.65909091e-01, 1.48449162e-02, 0.00000000e+00],\n",
       "        ...,\n",
       "        [3.86363636e-01, 2.90263725e-04, 4.85155084e-03],\n",
       "        [4.20454545e-01, 1.24398739e-03, 2.90263725e-04],\n",
       "        [4.65909091e-01, 1.36838613e-03, 1.40985238e-03]]])"
      ]
     },
     "execution_count": 190,
     "metadata": {},
     "output_type": "execute_result"
    }
   ],
   "source": [
    "all_songs"
   ]
  },
  {
   "cell_type": "code",
   "execution_count": null,
   "metadata": {},
   "outputs": [],
   "source": []
  }
 ],
 "metadata": {
  "kernelspec": {
   "display_name": "Python 3",
   "language": "python",
   "name": "python3"
  },
  "language_info": {
   "codemirror_mode": {
    "name": "ipython",
    "version": 3
   },
   "file_extension": ".py",
   "mimetype": "text/x-python",
   "name": "python",
   "nbconvert_exporter": "python",
   "pygments_lexer": "ipython3",
   "version": "3.7.7"
  }
 },
 "nbformat": 4,
 "nbformat_minor": 4
}
