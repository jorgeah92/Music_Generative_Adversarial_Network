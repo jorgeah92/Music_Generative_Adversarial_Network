{
 "cells": [
  {
   "cell_type": "code",
   "execution_count": 39,
   "id": "automatic-pharmacology",
   "metadata": {},
   "outputs": [],
   "source": [
    "# Nicely formatted time string\n",
    "def hms_string(sec_elapsed):\n",
    "    h = int(sec_elapsed / (60 * 60))\n",
    "    m = int((sec_elapsed % (60 * 60)) / 60)\n",
    "    s = sec_elapsed % 60\n",
    "    return \"{}:{:>02}:{:>05.2f}\".format(h, m, s)"
   ]
  },
  {
   "cell_type": "code",
   "execution_count": null,
   "id": "minute-harvey",
   "metadata": {},
   "outputs": [],
   "source": []
  },
  {
   "cell_type": "code",
   "execution_count": 80,
   "id": "motivated-confusion",
   "metadata": {
    "scrolled": true
   },
   "outputs": [],
   "source": [
    "import tensorflow as tf\n",
    "from tensorflow.keras.layers import Input, Reshape, Dropout, Dense \n",
    "from tensorflow.keras.layers import Flatten, BatchNormalization\n",
    "from tensorflow.keras.layers import Activation, ZeroPadding2D,ZeroPadding1D\n",
    "from tensorflow.keras.layers import LeakyReLU\n",
    "from tensorflow.keras.layers import UpSampling2D, Conv2D, Conv1D,UpSampling1D\n",
    "from tensorflow.keras.models import Sequential, Model, load_model\n",
    "from tensorflow.keras.optimizers import Adam\n",
    "import numpy as np\n",
    "from PIL import Image\n",
    "from tqdm import tqdm\n",
    "import os \n",
    "import time\n",
    "import matplotlib.pyplot as plt"
   ]
  },
  {
   "cell_type": "code",
   "execution_count": 95,
   "id": "level-questionnaire",
   "metadata": {},
   "outputs": [
    {
     "name": "stdout",
     "output_type": "stream",
     "text": [
      "2.0.0-alpha0\n"
     ]
    }
   ],
   "source": [
    "#print(tf.__version__)"
   ]
  },
  {
   "cell_type": "code",
   "execution_count": null,
   "id": "hollywood-values",
   "metadata": {},
   "outputs": [],
   "source": [
    "#!pip3 install gast==0.2.2"
   ]
  },
  {
   "cell_type": "code",
   "execution_count": 72,
   "id": "fresh-religion",
   "metadata": {},
   "outputs": [
    {
     "name": "stdout",
     "output_type": "stream",
     "text": [
      "Will generate 96px square images.\n"
     ]
    }
   ],
   "source": [
    "# Generation resolution - Must be square \n",
    "# Training data is also scaled to this.\n",
    "# Note GENERATE_RES 4 or higher  \n",
    "# will blow Google CoLab's memory and have not\n",
    "# been tested extensivly.\n",
    "GENERATE_RES = 3 # Generation resolution factor \n",
    "# (1=32, 2=64, 3=96, 4=128, etc.)\n",
    "GENERATE_SQUARE = 32 * GENERATE_RES # rows/cols (should be square)\n",
    "IMAGE_CHANNELS = 3\n",
    "\n",
    "# Preview image \n",
    "PREVIEW_ROWS = 4\n",
    "PREVIEW_COLS = 7\n",
    "PREVIEW_MARGIN = 16\n",
    "\n",
    "# Size vector to generate images from\n",
    "SEED_SIZE = 100\n",
    "\n",
    "# Configuration\n",
    "DATA_PATH = 'faces/'\n",
    "EPOCHS = 50\n",
    "BATCH_SIZE = 32\n",
    "BUFFER_SIZE = 60000\n",
    "\n",
    "print(f\"Will generate {GENERATE_SQUARE}px square images.\")"
   ]
  },
  {
   "cell_type": "code",
   "execution_count": 4,
   "id": "flush-illinois",
   "metadata": {
    "scrolled": true
   },
   "outputs": [
    {
     "name": "stdout",
     "output_type": "stream",
     "text": [
      "Music Generator.ipynb     \u001b[34mfaces\u001b[m\u001b[m                     \u001b[34mmidi-lstm-gan\u001b[m\u001b[m\r\n",
      "Pokemon code tryout.ipynb image GANs.ipynb\r\n",
      "\u001b[34mface_images\u001b[m\u001b[m               \u001b[34mmaestro-v1.0.0\u001b[m\u001b[m\r\n"
     ]
    }
   ],
   "source": [
    "!ls"
   ]
  },
  {
   "cell_type": "code",
   "execution_count": 42,
   "id": "unavailable-lodge",
   "metadata": {
    "scrolled": true
   },
   "outputs": [
    {
     "name": "stderr",
     "output_type": "stream",
     "text": [
      "\r",
      "  0%|          | 0/3155 [00:00<?, ?it/s]"
     ]
    },
    {
     "name": "stdout",
     "output_type": "stream",
     "text": [
      "Looking for file: faces/training_data_96_96_2.npy\n",
      "Loading training images...\n"
     ]
    },
    {
     "name": "stderr",
     "output_type": "stream",
     "text": [
      "100%|██████████| 3155/3155 [00:09<00:00, 328.69it/s]\n"
     ]
    },
    {
     "name": "stdout",
     "output_type": "stream",
     "text": [
      "Saving training image binary...\n",
      "Image preprocess time: 0:00:10.22\n"
     ]
    }
   ],
   "source": [
    "# Image set has 11,682 images.  Can take over an hour \n",
    "# for initial preprocessing.\n",
    "# Because of this time needed, save a Numpy preprocessed file.\n",
    "# Note, that file is large enough to cause problems for \n",
    "# sume verisons of Pickle,\n",
    "# so Numpy binary files are used.\n",
    "training_binary_path = os.path.join(DATA_PATH,\n",
    "        f'training_data_{GENERATE_SQUARE}_{GENERATE_SQUARE}_2.npy')\n",
    "\n",
    "print(f\"Looking for file: {training_binary_path}\")\n",
    "\n",
    "if not os.path.isfile(training_binary_path):\n",
    "    start = time.time()\n",
    "    print(\"Loading training images...\")\n",
    "\n",
    "    training_data = []\n",
    "    faces_path = os.path.join(DATA_PATH,'temp_faces')\n",
    "    for filename in tqdm(os.listdir(faces_path)):\n",
    "        path = os.path.join(faces_path,filename)\n",
    "        image = Image.open(path).resize((GENERATE_SQUARE,\n",
    "            GENERATE_SQUARE),Image.ANTIALIAS)\n",
    "        training_data.append(np.asarray(image))\n",
    "    training_data = np.reshape(training_data,(-1,GENERATE_SQUARE,\n",
    "            GENERATE_SQUARE,IMAGE_CHANNELS))\n",
    "    training_data = training_data.astype(np.float32)\n",
    "    training_data = training_data / 127.5 - 1.\n",
    "\n",
    "\n",
    "    print(\"Saving training image binary...\")\n",
    "    #np.save(training_binary_path,training_data)\n",
    "    elapsed = time.time()-start\n",
    "    print (f'Image preprocess time: {hms_string(elapsed)}')\n",
    "else:\n",
    "    print(\"Loading previous training pickle...\")\n",
    "    training_data = np.load(training_binary_path)"
   ]
  },
  {
   "cell_type": "code",
   "execution_count": 43,
   "id": "racial-wilderness",
   "metadata": {},
   "outputs": [
    {
     "data": {
      "text/plain": [
       "'faces/temp_faces'"
      ]
     },
     "execution_count": 43,
     "metadata": {},
     "output_type": "execute_result"
    }
   ],
   "source": [
    "faces_path = os.path.join(DATA_PATH,'temp_faces')\n",
    "faces_path"
   ]
  },
  {
   "cell_type": "code",
   "execution_count": 16,
   "id": "found-religious",
   "metadata": {},
   "outputs": [],
   "source": [
    "temp_face_1 = os.listdir(faces_path)[0]"
   ]
  },
  {
   "cell_type": "code",
   "execution_count": 17,
   "id": "activated-banks",
   "metadata": {},
   "outputs": [
    {
     "data": {
      "text/plain": [
       "'rjobyr.9.jpg'"
      ]
     },
     "execution_count": 17,
     "metadata": {},
     "output_type": "execute_result"
    }
   ],
   "source": [
    "temp_face_1"
   ]
  },
  {
   "cell_type": "code",
   "execution_count": 18,
   "id": "manual-wisconsin",
   "metadata": {},
   "outputs": [],
   "source": [
    "path = os.path.join(faces_path,temp_face_1)"
   ]
  },
  {
   "cell_type": "code",
   "execution_count": 21,
   "id": "unlimited-control",
   "metadata": {
    "scrolled": true
   },
   "outputs": [
    {
     "data": {
      "image/png": "[encoded data removed]",
      "text/plain": [
       "<PIL.JpegImagePlugin.JpegImageFile image mode=RGB size=196x196 at 0x7FCB02593160>"
      ]
     },
     "execution_count": 21,
     "metadata": {},
     "output_type": "execute_result"
    }
   ],
   "source": [
    "image = Image.open(path)\n",
    "image"
   ]
  },
  {
   "cell_type": "code",
   "execution_count": 24,
   "id": "multiple-bacon",
   "metadata": {
    "scrolled": true
   },
   "outputs": [
    {
     "data": {
      "text/plain": [
       "array([[[[-0.03529412,  0.05882359, -0.02745098],\n",
       "         [-0.02745098,  0.06666672, -0.01960784],\n",
       "         [-0.0745098 ,  0.01176476, -0.09019607],\n",
       "         ...,\n",
       "         [-0.01176471,  0.05098045, -0.12941176],\n",
       "         [-0.05098039,  0.03529418, -0.05882353],\n",
       "         [-0.05098039,  0.02745104, -0.05098039]],\n",
       "\n",
       "        [[ 0.02745104,  0.11372554,  0.082353  ],\n",
       "         [-0.00392157,  0.09019613,  0.04313731],\n",
       "         [-0.02745098,  0.06666672,  0.01176476],\n",
       "         ...,\n",
       "         [-0.02745098,  0.03529418, -0.12156862],\n",
       "         [-0.02745098,  0.04313731, -0.05098039],\n",
       "         [-0.02745098,  0.04313731, -0.05098039]],\n",
       "\n",
       "        [[-0.6       , -0.5137255 , -0.47450978],\n",
       "         [-0.5372549 , -0.45098037, -0.41960782],\n",
       "         [-0.46666664, -0.38039213, -0.3490196 ],\n",
       "         ...,\n",
       "         [-0.01960784,  0.02745104, -0.08235294],\n",
       "         [-0.04313725,  0.01176476, -0.09019607],\n",
       "         [-0.03529412,  0.02745104, -0.0745098 ]],\n",
       "\n",
       "        ...,\n",
       "\n",
       "        [[ 0.00392163,  0.16078436,  0.14509809],\n",
       "         [-0.00392157,  0.16078436,  0.13725495],\n",
       "         [-0.01176471,  0.15294123,  0.11372554],\n",
       "         ...,\n",
       "         [ 0.20784318,  0.28627455,  0.22352946],\n",
       "         [ 0.18431377,  0.28627455,  0.21568632],\n",
       "         [ 0.18431377,  0.28627455,  0.21568632]],\n",
       "\n",
       "        [[ 0.01176476,  0.17647064,  0.10588241],\n",
       "         [-0.00392157,  0.1686275 ,  0.082353  ],\n",
       "         [ 0.00392163,  0.17647064,  0.082353  ],\n",
       "         ...,\n",
       "         [ 0.20784318,  0.32549024,  0.22352946],\n",
       "         [ 0.18431377,  0.3176471 ,  0.2313726 ],\n",
       "         [ 0.18431377,  0.30980396,  0.23921573]],\n",
       "\n",
       "        [[-0.00392157,  0.16078436,  0.09019613],\n",
       "         [-0.01960784,  0.15294123,  0.06666672],\n",
       "         [-0.01176471,  0.16078436,  0.05882359],\n",
       "         ...,\n",
       "         [ 0.18431377,  0.30980396,  0.22352946],\n",
       "         [ 0.20000005,  0.32549024,  0.26274514],\n",
       "         [ 0.20000005,  0.3176471 ,  0.27058828]]],\n",
       "\n",
       "\n",
       "       [[[-0.23921567, -0.05882353, -0.26274508],\n",
       "         [-0.23137254, -0.05098039, -0.25490195],\n",
       "         [-0.19999999, -0.02745098, -0.19999999],\n",
       "         ...,\n",
       "         [-0.00392157,  0.21568632,  0.12941182],\n",
       "         [-0.00392157,  0.20000005,  0.10588241],\n",
       "         [-0.00392157,  0.20000005,  0.10588241]],\n",
       "\n",
       "        [[-0.23921567, -0.05882353, -0.26274508],\n",
       "         [-0.23137254, -0.05098039, -0.23921567],\n",
       "         [-0.19999999, -0.01960784, -0.19999999],\n",
       "         ...,\n",
       "         [-0.00392157,  0.20000005,  0.11372554],\n",
       "         [-0.01176471,  0.19215691,  0.11372554],\n",
       "         [-0.00392157,  0.20000005,  0.12156868]],\n",
       "\n",
       "        [[-0.23137254, -0.05098039, -0.25490195],\n",
       "         [-0.2235294 , -0.04313725, -0.23921567],\n",
       "         [-0.19215685, -0.01960784, -0.19215685],\n",
       "         ...,\n",
       "         [-0.00392157,  0.20000005,  0.11372554],\n",
       "         [ 0.0196079 ,  0.21568632,  0.16078436],\n",
       "         [ 0.00392163,  0.20784318,  0.15294123]],\n",
       "\n",
       "        ...,\n",
       "\n",
       "        [[ 0.27843142,  0.4039216 ,  0.20000005],\n",
       "         [-0.00392157,  0.12156868, -0.08235294],\n",
       "         [-0.1372549 , -0.01176471, -0.21568626],\n",
       "         ...,\n",
       "         [ 0.16078436,  0.654902  ,  0.8980392 ],\n",
       "         [-0.60784316, -0.41960782, -0.21568626],\n",
       "         [-0.7647059 , -0.60784316, -0.42745095]],\n",
       "\n",
       "        [[ 0.30980396,  0.47450984,  0.3176471 ],\n",
       "         [ 0.12941182,  0.27058828,  0.10588241],\n",
       "         [-0.0745098 ,  0.03529418, -0.15294117],\n",
       "         ...,\n",
       "         [ 0.09803927,  0.35686278,  0.62352943],\n",
       "         [-0.62352943, -0.47450978, -0.3098039 ],\n",
       "         [-0.75686276, -0.6156863 , -0.46666664]],\n",
       "\n",
       "        [[ 0.24705887,  0.41960788,  0.27058828],\n",
       "         [ 0.2313726 ,  0.37254906,  0.21568632],\n",
       "         [ 0.01176476,  0.12156868, -0.05882353],\n",
       "         ...,\n",
       "         [-0.11372548,  0.09803927,  0.32549024],\n",
       "         [-0.60784316, -0.45098037, -0.31764704],\n",
       "         [-0.6313726 , -0.4823529 , -0.36470586]]],\n",
       "\n",
       "\n",
       "       [[[-0.03529412,  0.06666672,  0.20000005],\n",
       "         [-0.01960784,  0.082353  ,  0.21568632],\n",
       "         [-0.03529412,  0.05882359,  0.20000005],\n",
       "         ...,\n",
       "         [-0.00392157,  0.04313731,  0.1686275 ],\n",
       "         [-0.02745098,  0.0196079 ,  0.12156868],\n",
       "         [-0.02745098,  0.0196079 ,  0.12156868]],\n",
       "\n",
       "        [[-0.06666666,  0.05882359,  0.18431377],\n",
       "         [-0.01960784,  0.09803927,  0.22352946],\n",
       "         [-0.03529412,  0.07450986,  0.20000005],\n",
       "         ...,\n",
       "         [-0.02745098,  0.0196079 ,  0.15294123],\n",
       "         [-0.04313725,  0.00392163,  0.12156868],\n",
       "         [-0.03529412,  0.01176476,  0.12156868]],\n",
       "\n",
       "        [[-0.05098039,  0.09019613,  0.23921573],\n",
       "         [-0.04313725,  0.09019613,  0.22352946],\n",
       "         [-0.05882353,  0.07450986,  0.20000005],\n",
       "         ...,\n",
       "         [-0.02745098,  0.02745104,  0.1686275 ],\n",
       "         [-0.03529412,  0.02745104,  0.13725495],\n",
       "         [-0.03529412,  0.02745104,  0.12941182]],\n",
       "\n",
       "        ...,\n",
       "\n",
       "        [[-0.01960784,  0.13725495,  0.41176474],\n",
       "         [-0.01176471,  0.14509809,  0.41960788],\n",
       "         [-0.01176471,  0.14509809,  0.41960788],\n",
       "         ...,\n",
       "         [ 0.02745104,  0.02745104,  0.10588241],\n",
       "         [ 0.01176476,  0.04313731,  0.10588241],\n",
       "         [ 0.01176476,  0.04313731,  0.10588241]],\n",
       "\n",
       "        [[-0.05098039,  0.15294123,  0.41176474],\n",
       "         [-0.05882353,  0.14509809,  0.4039216 ],\n",
       "         [-0.03529412,  0.15294123,  0.41960788],\n",
       "         ...,\n",
       "         [-0.00392157,  0.03529418,  0.09019613],\n",
       "         [ 0.01176476,  0.04313731,  0.13725495],\n",
       "         [-0.00392157,  0.02745104,  0.12156868]],\n",
       "\n",
       "        [[-0.05098039,  0.15294123,  0.41176474],\n",
       "         [-0.05882353,  0.14509809,  0.4039216 ],\n",
       "         [-0.03529412,  0.16078436,  0.427451  ],\n",
       "         ...,\n",
       "         [ 0.082353  ,  0.12156868,  0.17647064],\n",
       "         [ 0.0196079 ,  0.05098045,  0.14509809],\n",
       "         [-0.01176471,  0.0196079 ,  0.12156868]]],\n",
       "\n",
       "\n",
       "       ...,\n",
       "\n",
       "\n",
       "       [[[-0.18431371, -0.06666666, -0.24705881],\n",
       "         [-0.17647058, -0.06666666, -0.24705881],\n",
       "         [-0.16862744, -0.05882353, -0.23921567],\n",
       "         ...,\n",
       "         [ 0.01176476,  0.1686275 ,  0.082353  ],\n",
       "         [ 0.0196079 ,  0.19215691,  0.09019613],\n",
       "         [ 0.00392163,  0.17647064,  0.07450986]],\n",
       "\n",
       "        [[-0.19215685, -0.0745098 , -0.25490195],\n",
       "         [-0.19215685, -0.0745098 , -0.25490195],\n",
       "         [-0.18431371, -0.06666666, -0.24705881],\n",
       "         ...,\n",
       "         [-0.00392157,  0.15294123,  0.06666672],\n",
       "         [-0.01176471,  0.16078436,  0.06666672],\n",
       "         [ 0.01176476,  0.18431377,  0.09019613]],\n",
       "\n",
       "        [[-0.20784312, -0.05882353, -0.24705881],\n",
       "         [-0.20784312, -0.05882353, -0.24705881],\n",
       "         [-0.19999999, -0.05098039, -0.23921567],\n",
       "         ...,\n",
       "         [ 0.01176476,  0.17647064,  0.082353  ],\n",
       "         [-0.01960784,  0.13725495,  0.07450986],\n",
       "         [ 0.00392163,  0.1686275 ,  0.11372554]],\n",
       "\n",
       "        ...,\n",
       "\n",
       "        [[ 0.05882359,  0.12941182, -0.10588235],\n",
       "         [ 0.32549024,  0.39607847,  0.16078436],\n",
       "         [ 0.28627455,  0.37254906,  0.15294123],\n",
       "         ...,\n",
       "         [ 0.16078436,  0.38823533,  0.49803925],\n",
       "         [ 0.11372554,  0.254902  ,  0.45882356],\n",
       "         [-0.1607843 , -0.02745098,  0.16078436]],\n",
       "\n",
       "        [[-0.01960784,  0.09019613, -0.09803921],\n",
       "         [ 0.19215691,  0.3176471 ,  0.11372554],\n",
       "         [ 0.27058828,  0.41176474,  0.19215691],\n",
       "         ...,\n",
       "         [ 0.09019613,  0.3176471 ,  0.4039216 ],\n",
       "         [ 0.07450986,  0.24705887,  0.37254906],\n",
       "         [-0.01960784,  0.14509809,  0.27058828]],\n",
       "\n",
       "        [[-0.01176471,  0.10588241, -0.0745098 ],\n",
       "         [ 0.18431377,  0.30980396,  0.11372554],\n",
       "         [ 0.21568632,  0.36470592,  0.15294123],\n",
       "         ...,\n",
       "         [ 0.02745104,  0.24705887,  0.35686278],\n",
       "         [ 0.07450986,  0.24705887,  0.3803922 ],\n",
       "         [ 0.03529418,  0.20000005,  0.3411765 ]]],\n",
       "\n",
       "\n",
       "       [[[ 0.01176476,  0.18431377,  0.2941177 ],\n",
       "         [ 0.02745104,  0.20000005,  0.30980396],\n",
       "         [ 0.00392163,  0.17647064,  0.28627455],\n",
       "         ...,\n",
       "         [ 0.05098045,  0.20784318,  0.39607847],\n",
       "         [ 0.07450986,  0.21568632,  0.4039216 ],\n",
       "         [ 0.082353  ,  0.22352946,  0.41176474]],\n",
       "\n",
       "        [[ 0.00392163,  0.17647064,  0.27843142],\n",
       "         [-0.01176471,  0.16078436,  0.26274514],\n",
       "         [ 0.0196079 ,  0.18431377,  0.30196083],\n",
       "         ...,\n",
       "         [ 0.05882359,  0.21568632,  0.39607847],\n",
       "         [ 0.06666672,  0.20000005,  0.39607847],\n",
       "         [ 0.082353  ,  0.22352946,  0.41960788]],\n",
       "\n",
       "        [[ 0.01176476,  0.18431377,  0.2941177 ],\n",
       "         [-0.00392157,  0.1686275 ,  0.28627455],\n",
       "         [ 0.01176476,  0.18431377,  0.30980396],\n",
       "         ...,\n",
       "         [ 0.05882359,  0.2313726 ,  0.3803922 ],\n",
       "         [ 0.05882359,  0.20784318,  0.4039216 ],\n",
       "         [ 0.07450986,  0.21568632,  0.41960788]],\n",
       "\n",
       "        ...,\n",
       "\n",
       "        [[-0.8352941 , -0.8039216 , -0.73333335],\n",
       "         [-0.8117647 , -0.78039217, -0.70980394],\n",
       "         [-0.81960785, -0.7882353 , -0.7176471 ],\n",
       "         ...,\n",
       "         [-0.29411763, -0.06666666,  0.2313726 ],\n",
       "         [-0.54509807, -0.3960784 , -0.12156862],\n",
       "         [-0.3333333 , -0.17647058,  0.12156868]],\n",
       "\n",
       "        [[-0.84313726, -0.81960785, -0.7490196 ],\n",
       "         [-0.81960785, -0.79607844, -0.7254902 ],\n",
       "         [-0.81960785, -0.79607844, -0.7254902 ],\n",
       "         ...,\n",
       "         [-0.41960782, -0.27058822,  0.03529418],\n",
       "         [-0.52156866, -0.3490196 , -0.05098039],\n",
       "         [-0.372549  , -0.18431371,  0.11372554]],\n",
       "\n",
       "        [[-0.84313726, -0.81960785, -0.7490196 ],\n",
       "         [-0.81960785, -0.79607844, -0.7254902 ],\n",
       "         [-0.81960785, -0.79607844, -0.7254902 ],\n",
       "         ...,\n",
       "         [-0.42745095, -0.2862745 ,  0.03529418],\n",
       "         [-0.5058824 , -0.32549018, -0.01176471],\n",
       "         [-0.36470586, -0.17647058,  0.15294123]]],\n",
       "\n",
       "\n",
       "       [[[-0.0745098 ,  0.09803927,  0.26274514],\n",
       "         [-0.05882353,  0.11372554,  0.27843142],\n",
       "         [-0.09803921,  0.07450986,  0.23921573],\n",
       "         ...,\n",
       "         [-0.01176471,  0.11372554,  0.2941177 ],\n",
       "         [-0.01176471,  0.11372554,  0.2941177 ],\n",
       "         [-0.00392157,  0.12156868,  0.30196083]],\n",
       "\n",
       "        [[-0.06666666,  0.09803927,  0.254902  ],\n",
       "         [-0.05882353,  0.10588241,  0.27058828],\n",
       "         [-0.09019607,  0.07450986,  0.23921573],\n",
       "         ...,\n",
       "         [-0.01176471,  0.11372554,  0.2941177 ],\n",
       "         [-0.02745098,  0.09803927,  0.27843142],\n",
       "         [-0.02745098,  0.09803927,  0.27843142]],\n",
       "\n",
       "        [[-0.02745098,  0.11372554,  0.27058828],\n",
       "         [-0.02745098,  0.10588241,  0.26274514],\n",
       "         [-0.03529412,  0.10588241,  0.26274514],\n",
       "         ...,\n",
       "         [ 0.0196079 ,  0.14509809,  0.32549024],\n",
       "         [-0.00392157,  0.12156868,  0.30196083],\n",
       "         [-0.00392157,  0.12156868,  0.30196083]],\n",
       "\n",
       "        ...,\n",
       "\n",
       "        [[-0.6627451 , -0.5529412 , -0.18431371],\n",
       "         [-0.6392157 , -0.5294118 , -0.1607843 ],\n",
       "         [-0.6392157 , -0.5294118 , -0.1607843 ],\n",
       "         ...,\n",
       "         [-0.19999999, -0.0745098 ,  0.64705884],\n",
       "         [-0.32549018, -0.31764704,  0.28627455],\n",
       "         [-0.2235294 , -0.23137254,  0.38823533]],\n",
       "\n",
       "        [[-0.73333335, -0.5686275 , -0.26274508],\n",
       "         [-0.6862745 , -0.52156866, -0.21568626],\n",
       "         [-0.654902  , -0.5058824 , -0.19999999],\n",
       "         ...,\n",
       "         [ 0.09019613,  0.23921573,  0.8666667 ],\n",
       "         [-0.3333333 , -0.30196077,  0.3803922 ],\n",
       "         [-0.24705881, -0.21568626,  0.4666667 ]],\n",
       "\n",
       "        [[-0.75686276, -0.5764706 , -0.30196077],\n",
       "         [-0.7254902 , -0.54509807, -0.27058822],\n",
       "         [-0.7019608 , -0.5372549 , -0.26274508],\n",
       "         ...,\n",
       "         [ 0.22352946,  0.3803922 ,  0.9607843 ],\n",
       "         [-0.2235294 , -0.19215685,  0.5294118 ],\n",
       "         [-0.15294117, -0.12941176,  0.5921569 ]]]], dtype=float32)"
      ]
     },
     "execution_count": 24,
     "metadata": {},
     "output_type": "execute_result"
    }
   ],
   "source": [
    "training_data"
   ]
  },
  {
   "cell_type": "code",
   "execution_count": 30,
   "id": "above-cornell",
   "metadata": {},
   "outputs": [
    {
     "data": {
      "text/plain": [
       "(3155, 96, 96, 3)"
      ]
     },
     "execution_count": 30,
     "metadata": {},
     "output_type": "execute_result"
    }
   ],
   "source": [
    "training_data.shape"
   ]
  },
  {
   "cell_type": "code",
   "execution_count": 28,
   "id": "specified-headquarters",
   "metadata": {},
   "outputs": [
    {
     "data": {
      "text/plain": [
       "array([[ 0.02745104,  0.11372554,  0.082353  ],\n",
       "       [-0.00392157,  0.09019613,  0.04313731],\n",
       "       [-0.02745098,  0.06666672,  0.01176476],\n",
       "       [-0.00392157,  0.09019613,  0.0196079 ],\n",
       "       [-0.00392157,  0.09019613,  0.01176476],\n",
       "       [ 0.00392163,  0.09803927,  0.00392163],\n",
       "       [-0.01176471,  0.09019613, -0.01176471],\n",
       "       [-0.01960784,  0.07450986, -0.02745098],\n",
       "       [-0.01176471,  0.07450986, -0.03529412],\n",
       "       [-0.02745098,  0.06666672, -0.05098039],\n",
       "       [-0.03529412,  0.05098045, -0.05882353],\n",
       "       [-0.03529412,  0.05882359, -0.05882353],\n",
       "       [-0.02745098,  0.06666672, -0.04313725],\n",
       "       [-0.01960784,  0.06666672, -0.04313725],\n",
       "       [-0.01176471,  0.082353  , -0.03529412],\n",
       "       [-0.01176471,  0.07450986, -0.02745098],\n",
       "       [-0.01960784,  0.06666672, -0.02745098],\n",
       "       [-0.01176471,  0.06666672, -0.01960784],\n",
       "       [ 0.00392163,  0.07450986, -0.01960784],\n",
       "       [-0.01176471,  0.05882359, -0.04313725],\n",
       "       [-0.04313725,  0.02745104, -0.0745098 ],\n",
       "       [-0.01960784,  0.05098045, -0.05882353],\n",
       "       [ 0.00392163,  0.05882359, -0.04313725],\n",
       "       [-0.01960784,  0.06666672, -0.0745098 ],\n",
       "       [-0.04313725,  0.082353  , -0.11372548],\n",
       "       [-0.03529412,  0.082353  , -0.09803921],\n",
       "       [-0.02745098,  0.082353  , -0.09019607],\n",
       "       [-0.04313725,  0.05882359, -0.09803921],\n",
       "       [-0.06666666,  0.0196079 , -0.12156862],\n",
       "       [-0.03529412,  0.03529418, -0.09803921],\n",
       "       [-0.04313725,  0.02745104, -0.10588235],\n",
       "       [-0.06666666,  0.00392163, -0.12941176],\n",
       "       [-0.03529412,  0.03529418, -0.09803921],\n",
       "       [-0.02745098,  0.04313731, -0.09803921],\n",
       "       [-0.05098039,  0.0196079 , -0.12941176],\n",
       "       [-0.06666666,  0.00392163, -0.17647058],\n",
       "       [-0.05098039,  0.02745104, -0.16862744],\n",
       "       [-0.04313725,  0.03529418, -0.1607843 ],\n",
       "       [-0.05098039,  0.02745104, -0.17647058],\n",
       "       [-0.05098039,  0.00392163, -0.1372549 ],\n",
       "       [-0.05098039,  0.00392163, -0.12156862],\n",
       "       [-0.02745098,  0.0196079 , -0.11372548],\n",
       "       [-0.05098039, -0.00392157, -0.1372549 ],\n",
       "       [-0.02745098,  0.02745104, -0.10588235],\n",
       "       [-0.02745098,  0.02745104, -0.10588235],\n",
       "       [-0.04313725,  0.00392163, -0.12941176],\n",
       "       [-0.02745098,  0.0196079 , -0.11372548],\n",
       "       [-0.01960784,  0.02745104, -0.09019607],\n",
       "       [-0.02745098,  0.0196079 , -0.09019607],\n",
       "       [-0.01176471,  0.04313731, -0.0745098 ],\n",
       "       [-0.03529412,  0.02745104, -0.09803921],\n",
       "       [-0.05098039,  0.02745104, -0.10588235],\n",
       "       [-0.05098039,  0.03529418, -0.09803921],\n",
       "       [-0.05882353,  0.03529418, -0.09803921],\n",
       "       [-0.06666666,  0.03529418, -0.10588235],\n",
       "       [-0.01960784,  0.04313731, -0.09019607],\n",
       "       [-0.02745098,  0.04313731, -0.09019607],\n",
       "       [-0.02745098,  0.03529418, -0.09803921],\n",
       "       [-0.02745098,  0.03529418, -0.09019607],\n",
       "       [-0.01176471,  0.05098045, -0.08235294],\n",
       "       [-0.01960784,  0.05098045, -0.08235294],\n",
       "       [-0.02745098,  0.03529418, -0.09803921],\n",
       "       [-0.02745098,  0.04313731, -0.09019607],\n",
       "       [-0.01176471,  0.05882359, -0.09019607],\n",
       "       [-0.01176471,  0.05882359, -0.09019607],\n",
       "       [-0.01176471,  0.05882359, -0.09019607],\n",
       "       [-0.01960784,  0.05098045, -0.09803921],\n",
       "       [-0.02745098,  0.03529418, -0.10588235],\n",
       "       [-0.02745098,  0.03529418, -0.10588235],\n",
       "       [-0.02745098,  0.03529418, -0.10588235],\n",
       "       [-0.02745098,  0.04313731, -0.10588235],\n",
       "       [ 0.00392163,  0.06666672, -0.0745098 ],\n",
       "       [-0.00392157,  0.05882359, -0.08235294],\n",
       "       [-0.02745098,  0.04313731, -0.09803921],\n",
       "       [-0.01960784,  0.04313731, -0.09803921],\n",
       "       [-0.03529412,  0.03529418, -0.10588235],\n",
       "       [-0.03529412,  0.03529418, -0.10588235],\n",
       "       [-0.03529412,  0.03529418, -0.10588235],\n",
       "       [-0.03529412,  0.0196079 , -0.10588235],\n",
       "       [-0.02745098,  0.02745104, -0.09803921],\n",
       "       [-0.01960784,  0.03529418, -0.09019607],\n",
       "       [-0.01960784,  0.03529418, -0.09019607],\n",
       "       [-0.01176471,  0.03529418, -0.09019607],\n",
       "       [-0.01176471,  0.03529418, -0.08235294],\n",
       "       [-0.01176471,  0.03529418, -0.08235294],\n",
       "       [-0.01176471,  0.03529418, -0.08235294],\n",
       "       [-0.02745098,  0.06666672, -0.09803921],\n",
       "       [-0.05098039,  0.05882359, -0.11372548],\n",
       "       [-0.04313725,  0.05098045, -0.11372548],\n",
       "       [-0.02745098,  0.06666672, -0.09803921],\n",
       "       [-0.02745098,  0.05098045, -0.11372548],\n",
       "       [-0.01960784,  0.05098045, -0.10588235],\n",
       "       [-0.01176471,  0.05098045, -0.10588235],\n",
       "       [-0.02745098,  0.03529418, -0.12156862],\n",
       "       [-0.02745098,  0.04313731, -0.05098039],\n",
       "       [-0.02745098,  0.04313731, -0.05098039]], dtype=float32)"
      ]
     },
     "execution_count": 28,
     "metadata": {},
     "output_type": "execute_result"
    }
   ],
   "source": [
    "training_data[0][1]"
   ]
  },
  {
   "cell_type": "code",
   "execution_count": 26,
   "id": "metropolitan-bouquet",
   "metadata": {},
   "outputs": [
    {
     "data": {
      "text/plain": [
       "3"
      ]
     },
     "execution_count": 26,
     "metadata": {},
     "output_type": "execute_result"
    }
   ],
   "source": [
    "len(training_data[0][0])"
   ]
  },
  {
   "cell_type": "code",
   "execution_count": 11,
   "id": "unknown-steam",
   "metadata": {},
   "outputs": [
    {
     "data": {
      "text/plain": [
       "array([-0.03529412,  0.05882359, -0.02745098], dtype=float32)"
      ]
     },
     "execution_count": 11,
     "metadata": {},
     "output_type": "execute_result"
    }
   ],
   "source": [
    "training_data[0][0][0]"
   ]
  },
  {
   "cell_type": "code",
   "execution_count": null,
   "id": "measured-hopkins",
   "metadata": {},
   "outputs": [],
   "source": []
  },
  {
   "cell_type": "code",
   "execution_count": null,
   "id": "exposed-candy",
   "metadata": {},
   "outputs": [],
   "source": []
  },
  {
   "cell_type": "markdown",
   "id": "focused-fireplace",
   "metadata": {},
   "source": [
    "# Midi data"
   ]
  },
  {
   "cell_type": "code",
   "execution_count": 31,
   "id": "israeli-bridges",
   "metadata": {},
   "outputs": [
    {
     "name": "stdout",
     "output_type": "stream",
     "text": [
      "All_Maestro_Parsed.npy      \u001b[34mfaces\u001b[m\u001b[m\r\n",
      "Music Generator.ipynb       image GANs-Copy1.ipynb\r\n",
      "Parse MIDI Files Test.ipynb image GANs.ipynb\r\n",
      "Parse MIDI Files.ipynb      \u001b[34mmaestro-v1.0.0\u001b[m\u001b[m\r\n",
      "Pokemon code tryout.ipynb   \u001b[34mmidi-lstm-gan\u001b[m\u001b[m\r\n",
      "\u001b[34mface_images\u001b[m\u001b[m\r\n"
     ]
    }
   ],
   "source": [
    "!ls\n"
   ]
  },
  {
   "cell_type": "code",
   "execution_count": 73,
   "id": "tamil-exhaust",
   "metadata": {},
   "outputs": [],
   "source": [
    "training_data_midi = np.load('All_Maestro_Parsed.npy')"
   ]
  },
  {
   "cell_type": "code",
   "execution_count": 74,
   "id": "entertaining-grace",
   "metadata": {},
   "outputs": [
    {
     "data": {
      "text/plain": [
       "(15300, 200, 3)"
      ]
     },
     "execution_count": 74,
     "metadata": {},
     "output_type": "execute_result"
    }
   ],
   "source": [
    "training_data_midi.shape"
   ]
  },
  {
   "cell_type": "code",
   "execution_count": 75,
   "id": "right-expert",
   "metadata": {},
   "outputs": [],
   "source": [
    "train_data_midi_temp = training_data_midi[:3000,:192,:]"
   ]
  },
  {
   "cell_type": "code",
   "execution_count": 76,
   "id": "right-ghana",
   "metadata": {},
   "outputs": [
    {
     "data": {
      "text/plain": [
       "(3000, 192, 3)"
      ]
     },
     "execution_count": 76,
     "metadata": {},
     "output_type": "execute_result"
    }
   ],
   "source": [
    "train_data_midi_temp.shape"
   ]
  },
  {
   "cell_type": "code",
   "execution_count": 77,
   "id": "scenic-tuning",
   "metadata": {},
   "outputs": [
    {
     "data": {
      "text/plain": [
       "(200, 3)"
      ]
     },
     "execution_count": 77,
     "metadata": {},
     "output_type": "execute_result"
    }
   ],
   "source": [
    "training_data_midi[0].shape"
   ]
  },
  {
   "cell_type": "code",
   "execution_count": 78,
   "id": "light-pacific",
   "metadata": {},
   "outputs": [],
   "source": [
    "train_dataset_midi = tf.data.Dataset.from_tensor_slices(train_data_midi_temp) \\\n",
    "    .shuffle(BUFFER_SIZE).batch(BATCH_SIZE)"
   ]
  },
  {
   "cell_type": "code",
   "execution_count": null,
   "id": "automotive-lawsuit",
   "metadata": {},
   "outputs": [],
   "source": []
  },
  {
   "cell_type": "code",
   "execution_count": 56,
   "id": "bound-trunk",
   "metadata": {},
   "outputs": [
    {
     "data": {
      "text/plain": [
       "<BatchDataset shapes: (None, 192, 3), types: tf.float64>"
      ]
     },
     "execution_count": 56,
     "metadata": {},
     "output_type": "execute_result"
    }
   ],
   "source": [
    "train_dataset_midi"
   ]
  },
  {
   "cell_type": "code",
   "execution_count": 49,
   "id": "governing-boston",
   "metadata": {},
   "outputs": [
    {
     "data": {
      "text/plain": [
       "array([[1.81818182e-01, 8.45376135e-03, 0.00000000e+00],\n",
       "       [2.61363636e-01, 9.27628948e-02, 1.71360027e-04],\n",
       "       [1.70454545e-01, 1.23379220e-02, 7.19712115e-03],\n",
       "       [1.25000000e-01, 5.94048095e-02, 7.19712115e-03],\n",
       "       [1.81818182e-01, 6.07756897e-02, 5.27217684e-02],\n",
       "       [2.72727273e-01, 2.09630434e-02, 1.73073628e-02],\n",
       "       [2.50000000e-01, 2.23339236e-02, 1.57651225e-02],\n",
       "       [2.61363636e-01, 9.82464157e-02, 1.97635232e-02],\n",
       "       [1.70454545e-01, 7.59696122e-03, 7.31136117e-03],\n",
       "       [1.25000000e-01, 5.85480094e-02, 8.22528132e-03],\n",
       "       [1.81818182e-01, 6.32318501e-02, 5.12937682e-02],\n",
       "       [2.72727273e-01, 2.51328040e-02, 2.16484835e-02],\n",
       "       [2.50000000e-01, 1.81641629e-02, 1.79356829e-02],\n",
       "       [2.61363636e-01, 2.62809162e-01, 1.58793625e-02],\n",
       "       [1.70454545e-01, 1.02244816e-02, 7.31136117e-03],\n",
       "       [1.25000000e-01, 3.90129662e-02, 8.79648141e-03],\n",
       "       [1.81818182e-01, 2.05632033e-03, 4.03838465e-02],\n",
       "       [1.81818182e-01, 4.16976067e-03, 2.26766436e-02],\n",
       "       [1.70454545e-01, 5.31216085e-03, 6.28320101e-03],\n",
       "       [1.25000000e-01, 1.89067230e-02, 7.76832124e-03],\n",
       "       [1.81818182e-01, 5.42640087e-03, 1.68504027e-02],\n",
       "       [1.70454545e-01, 4.79808077e-03, 6.79728109e-03],\n",
       "       [1.25000000e-01, 1.82784029e-03, 7.88256126e-03],\n",
       "       [1.25000000e-01, 1.94208031e-03, 1.79356829e-02],\n",
       "       [1.81818182e-01, 2.22768036e-03, 1.92494431e-02],\n",
       "       [1.70454545e-01, 1.88496030e-03, 1.50225624e-02],\n",
       "       [1.81818182e-01, 1.99920032e-03, 1.19952019e-02],\n",
       "       [1.70454545e-01, 2.17056035e-03, 1.18809619e-02],\n",
       "       [1.25000000e-01, 2.28480037e-03, 1.59364825e-02],\n",
       "       [1.81818182e-01, 2.05632033e-03, 4.40395270e-02],\n",
       "       [4.54545455e-01, 1.65648027e-03, 7.42560119e-04],\n",
       "       [4.77272727e-01, 3.59856058e-03, 1.81641629e-02],\n",
       "       [1.81818182e-01, 1.71360027e-03, 2.68464043e-03],\n",
       "       [4.88636364e-01, 6.34032101e-03, 1.99920032e-03],\n",
       "       [2.61363636e-01, 2.57040041e-03, 1.02816016e-03],\n",
       "       [3.52272727e-01, 1.59936026e-03, 2.57040041e-03],\n",
       "       [5.11363636e-01, 7.53984121e-03, 3.31296053e-03],\n",
       "       [1.81818182e-01, 1.82784029e-03, 4.56960073e-03],\n",
       "       [5.34090909e-01, 2.74176044e-03, 1.48512024e-03],\n",
       "       [2.61363636e-01, 1.08528017e-03, 6.28320101e-04],\n",
       "       [3.52272727e-01, 7.42560119e-04, 1.14240018e-03],\n",
       "       [4.88636364e-01, 7.99680128e-04, 1.37088022e-03],\n",
       "       [4.77272727e-01, 1.77072028e-03, 9.13920146e-04],\n",
       "       [4.88636364e-01, 4.22688068e-03, 2.11344034e-03],\n",
       "       [4.77272727e-01, 2.74176044e-03, 3.25584052e-03],\n",
       "       [1.81818182e-01, 2.22768036e-03, 1.42800023e-03],\n",
       "       [2.61363636e-01, 2.17056035e-03, 1.37088022e-03],\n",
       "       [4.54545455e-01, 1.48512024e-03, 1.08528017e-03],\n",
       "       [3.52272727e-01, 1.71360027e-03, 6.85440110e-04],\n",
       "       [1.81818182e-01, 1.13097618e-02, 1.10241618e-02],\n",
       "       [2.61363636e-01, 6.34032101e-03, 5.71200091e-03],\n",
       "       [5.90909091e-01, 1.06814417e-02, 4.79808077e-03],\n",
       "       [3.52272727e-01, 2.85600046e-04, 7.99680128e-04],\n",
       "       [5.11363636e-01, 6.28320101e-04, 9.88176158e-03],\n",
       "       [5.34090909e-01, 5.14080082e-03, 1.21094419e-02],\n",
       "       [2.38636364e-01, 2.17056035e-03, 2.68464043e-03],\n",
       "       [3.18181818e-01, 4.56960073e-04, 2.68464043e-03],\n",
       "       [5.45454545e-01, 3.42720055e-03, 3.42720055e-04],\n",
       "       [4.09090909e-01, 7.42560119e-04, 2.85600046e-04],\n",
       "       [5.68181818e-01, 4.16976067e-03, 2.85600046e-03],\n",
       "       [2.38636364e-01, 6.85440110e-04, 3.25584052e-03],\n",
       "       [3.18181818e-01, 8.56800137e-04, 4.56960073e-04],\n",
       "       [5.90909091e-01, 2.62752042e-03, 1.14240018e-04],\n",
       "       [4.09090909e-01, 3.99840064e-04, 5.71200091e-04],\n",
       "       [5.45454545e-01, 0.00000000e+00, 2.28480037e-03],\n",
       "       [5.45454545e-01, 2.22768036e-03, 1.48512024e-03],\n",
       "       [5.68181818e-01, 3.54144057e-03, 3.59856058e-03],\n",
       "       [1.81818182e-01, 1.77072028e-03, 2.57040041e-03],\n",
       "       [5.45454545e-01, 1.42800023e-03, 5.14080082e-04],\n",
       "       [2.61363636e-01, 2.68464043e-03, 7.99680128e-04],\n",
       "       [5.22727273e-01, 1.31376021e-03, 1.99920032e-03],\n",
       "       [3.52272727e-01, 1.31376021e-03, 9.71040155e-04],\n",
       "       [5.34090909e-01, 1.77072028e-03, 2.28480037e-04],\n",
       "       [1.81818182e-01, 4.28400069e-03, 9.42480151e-03],\n",
       "       [2.61363636e-01, 1.99920032e-03, 4.05552065e-03],\n",
       "       [4.88636364e-01, 1.44513623e-02, 8.56800137e-04],\n",
       "       [3.52272727e-01, 6.85440110e-04, 0.00000000e+00],\n",
       "       [5.11363636e-01, 2.05632033e-03, 3.99840064e-04],\n",
       "       [4.54545455e-01, 3.99840064e-04, 1.44513623e-02],\n",
       "       [4.77272727e-01, 3.48432056e-03, 1.08528017e-02],\n",
       "       [1.81818182e-01, 1.99920032e-03, 1.02816016e-03],\n",
       "       [2.61363636e-01, 6.28320101e-04, 2.51328040e-03],\n",
       "       [4.88636364e-01, 5.19792083e-03, 1.71360027e-04],\n",
       "       [3.52272727e-01, 7.42560119e-04, 2.85600046e-04],\n",
       "       [5.11363636e-01, 4.11264066e-03, 2.45616039e-03],\n",
       "       [1.81818182e-01, 7.99680128e-04, 2.39904038e-03],\n",
       "       [2.61363636e-01, 1.14240018e-03, 4.56960073e-04],\n",
       "       [5.34090909e-01, 1.14240018e-03, 3.42720055e-04],\n",
       "       [3.52272727e-01, 3.42720055e-04, 4.56960073e-04],\n",
       "       [4.88636364e-01, 2.79888045e-03, 6.28320101e-04],\n",
       "       [4.77272727e-01, 9.13920146e-04, 3.25584052e-03],\n",
       "       [4.88636364e-01, 4.79808077e-03, 1.71360027e-03],\n",
       "       [4.77272727e-01, 3.02736048e-03, 3.42720055e-03],\n",
       "       [1.81818182e-01, 1.71360027e-03, 2.85600046e-04],\n",
       "       [2.61363636e-01, 2.28480037e-03, 1.71360027e-03],\n",
       "       [4.54545455e-01, 1.19952019e-03, 9.71040155e-04],\n",
       "       [3.52272727e-01, 1.37088022e-03, 9.71040155e-04],\n",
       "       [1.81818182e-01, 5.99760096e-03, 8.68224139e-03],\n",
       "       [2.61363636e-01, 4.62672074e-03, 3.88416062e-03],\n",
       "       [5.34090909e-01, 8.51088136e-03, 5.71200091e-05],\n",
       "       [3.52272727e-01, 3.99840064e-03, 6.28320101e-04],\n",
       "       [5.22727273e-01, 5.71200091e-05, 2.97024048e-03],\n",
       "       [5.34090909e-01, 6.28320101e-04, 9.88176158e-03],\n",
       "       [3.97727273e-01, 1.59936026e-03, 5.14080082e-04],\n",
       "       [4.20454545e-01, 2.74176044e-03, 1.07385617e-02],\n",
       "       [2.95454545e-01, 6.34032101e-03, 1.14240018e-04],\n",
       "       [3.40909091e-01, 3.88416062e-03, 4.56960073e-04],\n",
       "       [4.31818182e-01, 6.51168104e-03, 1.71360027e-04],\n",
       "       [2.04545455e-01, 5.14080082e-03, 5.71200091e-05],\n",
       "       [4.54545455e-01, 5.88336094e-03, 3.99840064e-03],\n",
       "       [3.40909091e-01, 4.11264066e-03, 3.08448049e-03],\n",
       "       [4.77272727e-01, 6.39744102e-03, 1.14240018e-04],\n",
       "       [2.84090909e-01, 4.34112069e-03, 5.71200091e-05],\n",
       "       [2.04545455e-01, 3.82704061e-03, 2.28480037e-04],\n",
       "       [3.86363636e-01, 4.56960073e-03, 4.74096076e-03],\n",
       "       [3.97727273e-01, 7.08288113e-03, 7.42560119e-03],\n",
       "       [2.61363636e-01, 1.25664020e-03, 4.11264066e-03],\n",
       "       [3.40909091e-01, 5.42640087e-03, 5.71200091e-04],\n",
       "       [4.43181818e-01, 4.34112069e-03, 2.97024048e-03],\n",
       "       [3.97727273e-01, 1.34803222e-02, 9.88176158e-03],\n",
       "       [2.61363636e-01, 2.63323242e-02, 3.59856058e-03],\n",
       "       [3.75000000e-01, 1.76500828e-02, 7.08288113e-03],\n",
       "       [4.09090909e-01, 1.59936026e-03, 4.91232079e-03],\n",
       "       [4.43181818e-01, 1.09670418e-02, 1.31376021e-03],\n",
       "       [4.31818182e-01, 4.96944080e-03, 6.28320101e-04],\n",
       "       [4.09090909e-01, 1.11955218e-02, 1.88496030e-03],\n",
       "       [3.97727273e-01, 7.59696122e-03, 1.14811218e-02],\n",
       "       [4.54545455e-01, 1.65648027e-03, 8.22528132e-03],\n",
       "       [4.77272727e-01, 2.57040041e-03, 1.69646427e-02],\n",
       "       [1.81818182e-01, 2.28480037e-03, 1.37088022e-03],\n",
       "       [2.61363636e-01, 1.19952019e-03, 2.51328040e-03],\n",
       "       [4.88636364e-01, 2.22768036e-03, 2.28480037e-04],\n",
       "       [3.52272727e-01, 8.56800137e-04, 8.56800137e-04],\n",
       "       [5.11363636e-01, 4.74096076e-03, 1.31376021e-03],\n",
       "       [1.81818182e-01, 1.88496030e-03, 2.34192037e-03],\n",
       "       [5.34090909e-01, 1.54224025e-03, 1.77072028e-03],\n",
       "       [2.61363636e-01, 6.28320101e-04, 1.71360027e-04],\n",
       "       [3.52272727e-01, 2.85600046e-04, 8.56800137e-04],\n",
       "       [4.88636364e-01, 5.71200091e-05, 1.02816016e-03],\n",
       "       [4.77272727e-01, 1.94208031e-03, 1.19952019e-03],\n",
       "       [4.88636364e-01, 3.71280059e-03, 2.85600046e-03],\n",
       "       [4.77272727e-01, 1.71360027e-03, 3.65568058e-03],\n",
       "       [2.61363636e-01, 2.05632033e-03, 2.85600046e-03],\n",
       "       [4.54545455e-01, 1.37088022e-03, 5.71200091e-04],\n",
       "       [1.81818182e-01, 2.28480037e-03, 5.71200091e-05],\n",
       "       [3.52272727e-01, 1.82784029e-03, 6.85440110e-04],\n",
       "       [1.81818182e-01, 7.36848118e-03, 1.07956817e-02],\n",
       "       [2.61363636e-01, 3.65568058e-03, 6.34032101e-03],\n",
       "       [3.52272727e-01, 4.96944080e-03, 1.14240018e-04],\n",
       "       [5.90909091e-01, 4.22688068e-03, 1.71360027e-04],\n",
       "       [5.90909091e-01, 3.08448049e-03, 8.62512138e-03],\n",
       "       [5.11363636e-01, 1.71360027e-04, 3.76992060e-03],\n",
       "       [5.34090909e-01, 1.09099217e-02, 1.11384018e-02],\n",
       "       [2.38636364e-01, 4.91232079e-03, 4.16976067e-03],\n",
       "       [3.18181818e-01, 2.68464043e-03, 4.74096076e-03],\n",
       "       [5.45454545e-01, 5.02656080e-03, 1.71360027e-04],\n",
       "       [4.09090909e-01, 9.13920146e-04, 2.28480037e-03],\n",
       "       [5.68181818e-01, 1.82784029e-03, 2.11344034e-03],\n",
       "       [2.38636364e-01, 7.99680128e-04, 6.85440110e-04],\n",
       "       [5.90909091e-01, 5.76912092e-03, 6.28320101e-04],\n",
       "       [3.18181818e-01, 1.19952019e-03, 6.28320101e-04],\n",
       "       [4.09090909e-01, 1.31376021e-03, 2.28480037e-04],\n",
       "       [5.45454545e-01, 1.31376021e-03, 3.08448049e-03],\n",
       "       [5.45454545e-01, 9.13920146e-04, 1.65648027e-03],\n",
       "       [5.68181818e-01, 3.65568058e-03, 2.45616039e-03],\n",
       "       [5.45454545e-01, 2.45616039e-03, 2.85600046e-03],\n",
       "       [1.81818182e-01, 2.28480037e-03, 8.56800137e-04],\n",
       "       [5.34090909e-01, 1.14240018e-03, 1.77072028e-03],\n",
       "       [2.61363636e-01, 2.85600046e-03, 3.42720055e-04],\n",
       "       [3.52272727e-01, 1.37088022e-03, 2.05632033e-03],\n",
       "       [1.81818182e-01, 5.42640087e-03, 1.03387217e-02],\n",
       "       [2.61363636e-01, 2.22768036e-03, 3.94128063e-03],\n",
       "       [4.88636364e-01, 1.11384018e-02, 7.99680128e-04],\n",
       "       [3.52272727e-01, 1.25664020e-03, 2.85600046e-04],\n",
       "       [4.54545455e-01, 3.99840064e-04, 1.15953619e-02],\n",
       "       [4.77272727e-01, 4.79808077e-03, 8.51088136e-03],\n",
       "       [1.81818182e-01, 6.85440110e-04, 6.85440110e-04],\n",
       "       [2.61363636e-01, 2.34192037e-03, 5.71200091e-04],\n",
       "       [3.52272727e-01, 1.71360027e-03, 2.51328040e-03],\n",
       "       [4.88636364e-01, 4.45536071e-03, 2.28480037e-04],\n",
       "       [5.11363636e-01, 4.39824070e-03, 2.39904038e-03],\n",
       "       [1.81818182e-01, 9.71040155e-04, 1.37088022e-03],\n",
       "       [2.61363636e-01, 2.79888045e-03, 6.85440110e-04],\n",
       "       [5.34090909e-01, 4.11264066e-03, 6.85440110e-04],\n",
       "       [3.52272727e-01, 7.99680128e-04, 1.65648027e-03],\n",
       "       [4.88636364e-01, 2.74176044e-03, 5.08368081e-03],\n",
       "       [4.77272727e-01, 2.57040041e-03, 3.59856058e-03],\n",
       "       [4.88636364e-01, 2.57040041e-03, 3.08448049e-03],\n",
       "       [4.77272727e-01, 3.02736048e-03, 7.42560119e-04],\n",
       "       [1.81818182e-01, 1.59936026e-03, 1.42800023e-03],\n",
       "       [2.61363636e-01, 2.74176044e-03, 8.56800137e-04],\n",
       "       [4.54545455e-01, 1.14240018e-03, 3.99840064e-04],\n",
       "       [3.52272727e-01, 7.42560119e-04, 1.59936026e-03],\n",
       "       [1.81818182e-01, 2.57040041e-03, 1.31376021e-03],\n",
       "       [2.61363636e-01, 5.19792083e-03, 1.02816016e-03],\n",
       "       [2.27272727e-01, 4.79808077e-03, 5.71200091e-05],\n",
       "       [3.52272727e-01, 2.79888045e-03, 3.31296053e-03],\n",
       "       [5.34090909e-01, 8.51088136e-03, 2.28480037e-04],\n",
       "       [5.34090909e-01, 1.14240018e-03, 1.35374422e-02],\n",
       "       [3.97727273e-01, 6.85440110e-04, 1.08528017e-03]])"
      ]
     },
     "execution_count": 49,
     "metadata": {},
     "output_type": "execute_result"
    }
   ],
   "source": [
    "training_data_midi[0]"
   ]
  },
  {
   "cell_type": "code",
   "execution_count": null,
   "id": "upset-morgan",
   "metadata": {},
   "outputs": [],
   "source": []
  },
  {
   "cell_type": "code",
   "execution_count": null,
   "id": "collect-twins",
   "metadata": {},
   "outputs": [],
   "source": []
  },
  {
   "cell_type": "code",
   "execution_count": null,
   "id": "acknowledged-sperm",
   "metadata": {},
   "outputs": [],
   "source": []
  },
  {
   "cell_type": "code",
   "execution_count": null,
   "id": "behavioral-disaster",
   "metadata": {},
   "outputs": [],
   "source": [
    "path = os.path.join(faces_path,filename)\n",
    "        image = Image.open(path).resize((GENERATE_SQUARE,\n",
    "            GENERATE_SQUARE),Image.ANTIALIAS)"
   ]
  },
  {
   "cell_type": "code",
   "execution_count": 44,
   "id": "involved-option",
   "metadata": {},
   "outputs": [],
   "source": [
    "train_dataset = tf.data.Dataset.from_tensor_slices(training_data) \\\n",
    "    .shuffle(BUFFER_SIZE).batch(BATCH_SIZE)"
   ]
  },
  {
   "cell_type": "code",
   "execution_count": 45,
   "id": "packed-mustang",
   "metadata": {},
   "outputs": [
    {
     "data": {
      "text/plain": [
       "<BatchDataset shapes: (None, 96, 96, 3), types: tf.float32>"
      ]
     },
     "execution_count": 45,
     "metadata": {},
     "output_type": "execute_result"
    }
   ],
   "source": [
    "train_dataset"
   ]
  },
  {
   "cell_type": "code",
   "execution_count": null,
   "id": "alone-diploma",
   "metadata": {},
   "outputs": [],
   "source": []
  },
  {
   "cell_type": "code",
   "execution_count": 84,
   "id": "bound-owner",
   "metadata": {},
   "outputs": [],
   "source": [
    "def build_generator(seed_size, channels):\n",
    "    model = Sequential()\n",
    "\n",
    "    model.add(Dense(4*256,activation=\"relu\",input_dim=SEED_SIZE))\n",
    "    model.add(Reshape((4,256)))\n",
    "\n",
    "    model.add(UpSampling1D())\n",
    "    model.add(Conv1D(256,kernel_size=3,padding=\"same\"))\n",
    "    model.add(BatchNormalization(momentum=0.8))\n",
    "    model.add(Activation(\"relu\"))\n",
    "\n",
    "    model.add(UpSampling1D())\n",
    "    model.add(Conv1D(128,kernel_size=3,padding=\"same\"))\n",
    "    model.add(BatchNormalization(momentum=0.8))\n",
    "    model.add(Activation(\"relu\"))\n",
    "\n",
    "    # Output resolution, additional upsampling\n",
    "    model.add(UpSampling1D())\n",
    "    model.add(Conv1D(64,kernel_size=3,padding=\"same\"))\n",
    "    model.add(BatchNormalization(momentum=0.8))\n",
    "    model.add(Activation(\"relu\"))\n",
    "\n",
    "    model.add(UpSampling1D(size=(6)))\n",
    "    model.add(Conv1D(32,kernel_size=3,padding=\"same\"))\n",
    "    model.add(BatchNormalization(momentum=0.8))\n",
    "    model.add(Activation(\"relu\"))\n",
    "\n",
    "    # Final CNN layer\n",
    "    model.add(Conv1D(3,kernel_size=3,padding=\"same\"))\n",
    "    model.add(Activation(\"tanh\"))\n",
    "    \n",
    "    return model\n",
    "\n",
    "    \n",
    "    \n",
    "def build_discriminator(image_shape):\n",
    "    model = Sequential()\n",
    "\n",
    "    model.add(Conv1D(32, kernel_size=3, strides=2, input_shape=image_shape, padding=\"same\"))\n",
    "    model.add(LeakyReLU(alpha=0.2))\n",
    "\n",
    "    model.add(Dropout(0.25))\n",
    "    model.add(Conv1D(64, kernel_size=3, strides=2, padding=\"same\"))\n",
    "    model.add(ZeroPadding1D(padding=((0,1))))\n",
    "    model.add(BatchNormalization(momentum=0.8))\n",
    "    model.add(LeakyReLU(alpha=0.2))\n",
    "\n",
    "    model.add(Dropout(0.25))\n",
    "    model.add(Conv1D(128, kernel_size=3, strides=2, padding=\"same\"))\n",
    "    model.add(BatchNormalization(momentum=0.8))\n",
    "    model.add(LeakyReLU(alpha=0.2))\n",
    "\n",
    "    model.add(Dropout(0.25))\n",
    "    model.add(Conv1D(256, kernel_size=3, strides=1, padding=\"same\"))\n",
    "    model.add(BatchNormalization(momentum=0.8))\n",
    "    model.add(LeakyReLU(alpha=0.2))\n",
    "\n",
    "    model.add(Dropout(0.25))\n",
    "    model.add(Conv1D(512, kernel_size=3, strides=1, padding=\"same\"))\n",
    "    model.add(BatchNormalization(momentum=0.8))\n",
    "    model.add(LeakyReLU(alpha=0.2))\n",
    "\n",
    "    model.add(Dropout(0.25))\n",
    "    model.add(Flatten())\n",
    "    model.add(Dense(1, activation='sigmoid'))\n",
    "    \n",
    "    return model"
   ]
  },
  {
   "cell_type": "code",
   "execution_count": null,
   "id": "popular-customs",
   "metadata": {},
   "outputs": [],
   "source": [
    "for i in ge"
   ]
  },
  {
   "cell_type": "code",
   "execution_count": null,
   "id": "constant-margin",
   "metadata": {},
   "outputs": [],
   "source": []
  },
  {
   "cell_type": "code",
   "execution_count": 8,
   "id": "announced-omega",
   "metadata": {},
   "outputs": [],
   "source": [
    "def save_images(cnt,noise):\n",
    "    image_array = np.full(( \n",
    "      PREVIEW_MARGIN + (PREVIEW_ROWS * (GENERATE_SQUARE+PREVIEW_MARGIN)), \n",
    "      PREVIEW_MARGIN + (PREVIEW_COLS * (GENERATE_SQUARE+PREVIEW_MARGIN)), 3), \n",
    "      255, dtype=np.uint8)\n",
    "  \n",
    "    generated_images = generator.predict(noise)\n",
    "\n",
    "    generated_images = 0.5 * generated_images + 0.5\n",
    "\n",
    "    image_count = 0\n",
    "    for row in range(PREVIEW_ROWS):\n",
    "        for col in range(PREVIEW_COLS):\n",
    "            r = row * (GENERATE_SQUARE+16) + PREVIEW_MARGIN\n",
    "            c = col * (GENERATE_SQUARE+16) + PREVIEW_MARGIN\n",
    "            image_array[r:r+GENERATE_SQUARE,c:c+GENERATE_SQUARE] \\\n",
    "                = generated_images[image_count] * 255\n",
    "            image_count += 1\n",
    "\n",
    "          \n",
    "    output_path = os.path.join(DATA_PATH,'output')\n",
    "    if not os.path.exists(output_path):\n",
    "        os.makedirs(output_path)\n",
    "  \n",
    "    filename = os.path.join(output_path,f\"train-{cnt}.png\")\n",
    "    im = Image.fromarray(image_array)\n",
    "    im.save(filename)"
   ]
  },
  {
   "cell_type": "code",
   "execution_count": 88,
   "id": "aggressive-punishment",
   "metadata": {},
   "outputs": [],
   "source": [
    "generator = build_generator(SEED_SIZE, IMAGE_CHANNELS)\n",
    "\n",
    "noise = tf.random.normal([1,SEED_SIZE])\n",
    "generated_image = generator(noise, training=False)\n",
    "\n",
    "#plt.imshow(generated_image[0, :, :, 0])"
   ]
  },
  {
   "cell_type": "code",
   "execution_count": 86,
   "id": "interim-first",
   "metadata": {},
   "outputs": [
    {
     "data": {
      "text/plain": [
       "tensorflow.python.keras.engine.sequential.Sequential"
      ]
     },
     "execution_count": 86,
     "metadata": {},
     "output_type": "execute_result"
    }
   ],
   "source": [
    "type(generator)"
   ]
  },
  {
   "cell_type": "code",
   "execution_count": 89,
   "id": "adapted-capture",
   "metadata": {},
   "outputs": [
    {
     "name": "stdout",
     "output_type": "stream",
     "text": [
      "tf.Tensor([[0.502971]], shape=(1, 1), dtype=float32)\n"
     ]
    }
   ],
   "source": [
    "image_shape = (192,IMAGE_CHANNELS)\n",
    "\n",
    "discriminator = build_discriminator(image_shape)\n",
    "decision = discriminator(generated_image)\n",
    "print (decision)"
   ]
  },
  {
   "cell_type": "code",
   "execution_count": 90,
   "id": "macro-southwest",
   "metadata": {},
   "outputs": [],
   "source": [
    "# This method returns a helper function to compute cross entropy loss\n",
    "cross_entropy = tf.keras.losses.BinaryCrossentropy()\n",
    "\n",
    "def discriminator_loss(real_output, fake_output):\n",
    "    real_loss = cross_entropy(tf.ones_like(real_output), real_output)\n",
    "    fake_loss = cross_entropy(tf.zeros_like(fake_output), fake_output)\n",
    "    total_loss = real_loss + fake_loss\n",
    "    return total_loss\n",
    "\n",
    "def generator_loss(fake_output):\n",
    "    return cross_entropy(tf.ones_like(fake_output), fake_output)"
   ]
  },
  {
   "cell_type": "code",
   "execution_count": 91,
   "id": "solid-philosophy",
   "metadata": {},
   "outputs": [],
   "source": [
    "generator_optimizer = tf.keras.optimizers.Adam(1.5e-4,0.5)\n",
    "discriminator_optimizer = tf.keras.optimizers.Adam(1.5e-4,0.5)"
   ]
  },
  {
   "cell_type": "code",
   "execution_count": 92,
   "id": "white-impression",
   "metadata": {},
   "outputs": [],
   "source": [
    "# Notice the use of `tf.function`\n",
    "# This annotation causes the function to be \"compiled\".\n",
    "@tf.function\n",
    "def train_step(images):\n",
    "    seed = tf.random.normal([BATCH_SIZE, SEED_SIZE])\n",
    "\n",
    "    with tf.GradientTape() as gen_tape, tf.GradientTape() as disc_tape:\n",
    "        generated_images = generator(seed, training=True)\n",
    "\n",
    "        real_output = discriminator(images, training=True)\n",
    "        fake_output = discriminator(generated_images, training=True)\n",
    "\n",
    "        gen_loss = generator_loss(fake_output)\n",
    "        disc_loss = discriminator_loss(real_output, fake_output)\n",
    "    \n",
    "\n",
    "        gradients_of_generator = gen_tape.gradient(\\\n",
    "            gen_loss, generator.trainable_variables)\n",
    "        gradients_of_discriminator = disc_tape.gradient(\\\n",
    "            disc_loss, discriminator.trainable_variables)\n",
    "\n",
    "        generator_optimizer.apply_gradients(zip(\n",
    "            gradients_of_generator, generator.trainable_variables))\n",
    "        discriminator_optimizer.apply_gradients(zip(\n",
    "            gradients_of_discriminator, \n",
    "            discriminator.trainable_variables))\n",
    "    return gen_loss,disc_loss"
   ]
  },
  {
   "cell_type": "code",
   "execution_count": 93,
   "id": "adequate-protocol",
   "metadata": {},
   "outputs": [],
   "source": [
    "def train(dataset, epochs):\n",
    "    #fixed_seed = np.random.normal(0, 1, (PREVIEW_ROWS * PREVIEW_COLS, \n",
    "    #                                   SEED_SIZE))\n",
    "    start = time.time()\n",
    "\n",
    "    for epoch in range(epochs):\n",
    "        epoch_start = time.time()\n",
    "\n",
    "        gen_loss_list = []\n",
    "        disc_loss_list = []\n",
    "\n",
    "        for image_batch in dataset:\n",
    "            t = train_step(image_batch)\n",
    "            gen_loss_list.append(t[0])\n",
    "            disc_loss_list.append(t[1])\n",
    "\n",
    "        g_loss = sum(gen_loss_list) / len(gen_loss_list)\n",
    "        d_loss = sum(disc_loss_list) / len(disc_loss_list)\n",
    "\n",
    "        epoch_elapsed = time.time()-epoch_start\n",
    "        print (f'Epoch {epoch+1}, gen loss={g_loss},disc loss={d_loss},'\\\n",
    "           ' {hms_string(epoch_elapsed)}')\n",
    "        #save_images(epoch,fixed_seed)\n",
    "\n",
    "    elapsed = time.time()-start\n",
    "    print (f'Training time: {hms_string(elapsed)}')"
   ]
  },
  {
   "cell_type": "code",
   "execution_count": 15,
   "id": "brief-morris",
   "metadata": {},
   "outputs": [],
   "source": [
    "#!pip3 install gast==0.2.2"
   ]
  },
  {
   "cell_type": "code",
   "execution_count": 94,
   "id": "intermediate-suicide",
   "metadata": {
    "scrolled": true
   },
   "outputs": [
    {
     "ename": "TypeError",
     "evalue": "Input 'filter' of 'Conv2D' Op has type float32 that does not match type float64 of argument 'input'.",
     "output_type": "error",
     "traceback": [
      "\u001b[0;31m---------------------------------------------------------------------------\u001b[0m",
      "\u001b[0;31mValueError\u001b[0m                                Traceback (most recent call last)",
      "\u001b[0;32m/Library/Frameworks/Python.framework/Versions/3.7/lib/python3.7/site-packages/tensorflow/python/framework/op_def_library.py\u001b[0m in \u001b[0;36m_apply_op_helper\u001b[0;34m(self, op_type_name, name, **keywords)\u001b[0m\n\u001b[1;32m    526\u001b[0m                 \u001b[0mas_ref\u001b[0m\u001b[0;34m=\u001b[0m\u001b[0minput_arg\u001b[0m\u001b[0;34m.\u001b[0m\u001b[0mis_ref\u001b[0m\u001b[0;34m,\u001b[0m\u001b[0;34m\u001b[0m\u001b[0;34m\u001b[0m\u001b[0m\n\u001b[0;32m--> 527\u001b[0;31m                 preferred_dtype=default_dtype)\n\u001b[0m\u001b[1;32m    528\u001b[0m           \u001b[0;32mexcept\u001b[0m \u001b[0mTypeError\u001b[0m \u001b[0;32mas\u001b[0m \u001b[0merr\u001b[0m\u001b[0;34m:\u001b[0m\u001b[0;34m\u001b[0m\u001b[0;34m\u001b[0m\u001b[0m\n",
      "\u001b[0;32m/Library/Frameworks/Python.framework/Versions/3.7/lib/python3.7/site-packages/tensorflow/python/framework/ops.py\u001b[0m in \u001b[0;36minternal_convert_to_tensor\u001b[0;34m(value, dtype, name, as_ref, preferred_dtype, ctx, accept_symbolic_tensors)\u001b[0m\n\u001b[1;32m   1185\u001b[0m     \u001b[0;32mif\u001b[0m \u001b[0mret\u001b[0m \u001b[0;32mis\u001b[0m \u001b[0;32mNone\u001b[0m\u001b[0;34m:\u001b[0m\u001b[0;34m\u001b[0m\u001b[0;34m\u001b[0m\u001b[0m\n\u001b[0;32m-> 1186\u001b[0;31m       \u001b[0mret\u001b[0m \u001b[0;34m=\u001b[0m \u001b[0mconversion_func\u001b[0m\u001b[0;34m(\u001b[0m\u001b[0mvalue\u001b[0m\u001b[0;34m,\u001b[0m \u001b[0mdtype\u001b[0m\u001b[0;34m=\u001b[0m\u001b[0mdtype\u001b[0m\u001b[0;34m,\u001b[0m \u001b[0mname\u001b[0m\u001b[0;34m=\u001b[0m\u001b[0mname\u001b[0m\u001b[0;34m,\u001b[0m \u001b[0mas_ref\u001b[0m\u001b[0;34m=\u001b[0m\u001b[0mas_ref\u001b[0m\u001b[0;34m)\u001b[0m\u001b[0;34m\u001b[0m\u001b[0;34m\u001b[0m\u001b[0m\n\u001b[0m\u001b[1;32m   1187\u001b[0m \u001b[0;34m\u001b[0m\u001b[0m\n",
      "\u001b[0;32m/Library/Frameworks/Python.framework/Versions/3.7/lib/python3.7/site-packages/tensorflow/python/framework/ops.py\u001b[0m in \u001b[0;36m_TensorTensorConversionFunction\u001b[0;34m(t, dtype, name, as_ref)\u001b[0m\n\u001b[1;32m    983\u001b[0m         \u001b[0;34m\"Tensor conversion requested dtype %s for Tensor with dtype %s: %r\"\u001b[0m \u001b[0;34m%\u001b[0m\u001b[0;34m\u001b[0m\u001b[0;34m\u001b[0m\u001b[0m\n\u001b[0;32m--> 984\u001b[0;31m         (dtype.name, t.dtype.name, str(t)))\n\u001b[0m\u001b[1;32m    985\u001b[0m   \u001b[0;32mreturn\u001b[0m \u001b[0mt\u001b[0m\u001b[0;34m\u001b[0m\u001b[0;34m\u001b[0m\u001b[0m\n",
      "\u001b[0;31mValueError\u001b[0m: Tensor conversion requested dtype float64 for Tensor with dtype float32: 'Tensor(\"sequential_9/conv1d_40/conv1d/ExpandDims_1:0\", shape=(1, 3, 3, 32), dtype=float32)'",
      "\nDuring handling of the above exception, another exception occurred:\n",
      "\u001b[0;31mTypeError\u001b[0m                                 Traceback (most recent call last)",
      "\u001b[0;32m<ipython-input-94-ec44d28160e6>\u001b[0m in \u001b[0;36m<module>\u001b[0;34m\u001b[0m\n\u001b[0;32m----> 1\u001b[0;31m \u001b[0mtrain\u001b[0m\u001b[0;34m(\u001b[0m\u001b[0mtrain_dataset_midi\u001b[0m\u001b[0;34m,\u001b[0m \u001b[0;36m20\u001b[0m\u001b[0;34m)\u001b[0m\u001b[0;34m\u001b[0m\u001b[0;34m\u001b[0m\u001b[0m\n\u001b[0m",
      "\u001b[0;32m<ipython-input-93-6635dbf778c0>\u001b[0m in \u001b[0;36mtrain\u001b[0;34m(dataset, epochs)\u001b[0m\n\u001b[1;32m     11\u001b[0m \u001b[0;34m\u001b[0m\u001b[0m\n\u001b[1;32m     12\u001b[0m         \u001b[0;32mfor\u001b[0m \u001b[0mimage_batch\u001b[0m \u001b[0;32min\u001b[0m \u001b[0mdataset\u001b[0m\u001b[0;34m:\u001b[0m\u001b[0;34m\u001b[0m\u001b[0;34m\u001b[0m\u001b[0m\n\u001b[0;32m---> 13\u001b[0;31m             \u001b[0mt\u001b[0m \u001b[0;34m=\u001b[0m \u001b[0mtrain_step\u001b[0m\u001b[0;34m(\u001b[0m\u001b[0mimage_batch\u001b[0m\u001b[0;34m)\u001b[0m\u001b[0;34m\u001b[0m\u001b[0;34m\u001b[0m\u001b[0m\n\u001b[0m\u001b[1;32m     14\u001b[0m             \u001b[0mgen_loss_list\u001b[0m\u001b[0;34m.\u001b[0m\u001b[0mappend\u001b[0m\u001b[0;34m(\u001b[0m\u001b[0mt\u001b[0m\u001b[0;34m[\u001b[0m\u001b[0;36m0\u001b[0m\u001b[0;34m]\u001b[0m\u001b[0;34m)\u001b[0m\u001b[0;34m\u001b[0m\u001b[0;34m\u001b[0m\u001b[0m\n\u001b[1;32m     15\u001b[0m             \u001b[0mdisc_loss_list\u001b[0m\u001b[0;34m.\u001b[0m\u001b[0mappend\u001b[0m\u001b[0;34m(\u001b[0m\u001b[0mt\u001b[0m\u001b[0;34m[\u001b[0m\u001b[0;36m1\u001b[0m\u001b[0;34m]\u001b[0m\u001b[0;34m)\u001b[0m\u001b[0;34m\u001b[0m\u001b[0;34m\u001b[0m\u001b[0m\n",
      "\u001b[0;32m/Library/Frameworks/Python.framework/Versions/3.7/lib/python3.7/site-packages/tensorflow/python/eager/def_function.py\u001b[0m in \u001b[0;36m__call__\u001b[0;34m(self, *args, **kwds)\u001b[0m\n\u001b[1;32m    424\u001b[0m     \u001b[0;31m# This is the first call of __call__, so we have to initialize.\u001b[0m\u001b[0;34m\u001b[0m\u001b[0;34m\u001b[0m\u001b[0;34m\u001b[0m\u001b[0m\n\u001b[1;32m    425\u001b[0m     \u001b[0minitializer_map\u001b[0m \u001b[0;34m=\u001b[0m \u001b[0;34m{\u001b[0m\u001b[0;34m}\u001b[0m\u001b[0;34m\u001b[0m\u001b[0;34m\u001b[0m\u001b[0m\n\u001b[0;32m--> 426\u001b[0;31m     \u001b[0mself\u001b[0m\u001b[0;34m.\u001b[0m\u001b[0m_initialize\u001b[0m\u001b[0;34m(\u001b[0m\u001b[0margs\u001b[0m\u001b[0;34m,\u001b[0m \u001b[0mkwds\u001b[0m\u001b[0;34m,\u001b[0m \u001b[0madd_initializers_to\u001b[0m\u001b[0;34m=\u001b[0m\u001b[0minitializer_map\u001b[0m\u001b[0;34m)\u001b[0m\u001b[0;34m\u001b[0m\u001b[0;34m\u001b[0m\u001b[0m\n\u001b[0m\u001b[1;32m    427\u001b[0m     \u001b[0;32mif\u001b[0m \u001b[0mself\u001b[0m\u001b[0;34m.\u001b[0m\u001b[0m_created_variables\u001b[0m\u001b[0;34m:\u001b[0m\u001b[0;34m\u001b[0m\u001b[0;34m\u001b[0m\u001b[0m\n\u001b[1;32m    428\u001b[0m       \u001b[0;32mtry\u001b[0m\u001b[0;34m:\u001b[0m\u001b[0;34m\u001b[0m\u001b[0;34m\u001b[0m\u001b[0m\n",
      "\u001b[0;32m/Library/Frameworks/Python.framework/Versions/3.7/lib/python3.7/site-packages/tensorflow/python/eager/def_function.py\u001b[0m in \u001b[0;36m_initialize\u001b[0;34m(self, args, kwds, add_initializers_to)\u001b[0m\n\u001b[1;32m    368\u001b[0m     self._concrete_stateful_fn = (\n\u001b[1;32m    369\u001b[0m         self._stateful_fn._get_concrete_function_internal_garbage_collected(  # pylint: disable=protected-access\n\u001b[0;32m--> 370\u001b[0;31m             *args, **kwds))\n\u001b[0m\u001b[1;32m    371\u001b[0m \u001b[0;34m\u001b[0m\u001b[0m\n\u001b[1;32m    372\u001b[0m     \u001b[0;32mdef\u001b[0m \u001b[0minvalid_creator_scope\u001b[0m\u001b[0;34m(\u001b[0m\u001b[0;34m*\u001b[0m\u001b[0munused_args\u001b[0m\u001b[0;34m,\u001b[0m \u001b[0;34m**\u001b[0m\u001b[0munused_kwds\u001b[0m\u001b[0;34m)\u001b[0m\u001b[0;34m:\u001b[0m\u001b[0;34m\u001b[0m\u001b[0;34m\u001b[0m\u001b[0m\n",
      "\u001b[0;32m/Library/Frameworks/Python.framework/Versions/3.7/lib/python3.7/site-packages/tensorflow/python/eager/function.py\u001b[0m in \u001b[0;36m_get_concrete_function_internal_garbage_collected\u001b[0;34m(self, *args, **kwargs)\u001b[0m\n\u001b[1;32m   1311\u001b[0m     \u001b[0;32mif\u001b[0m \u001b[0mself\u001b[0m\u001b[0;34m.\u001b[0m\u001b[0m_input_signature\u001b[0m\u001b[0;34m:\u001b[0m\u001b[0;34m\u001b[0m\u001b[0;34m\u001b[0m\u001b[0m\n\u001b[1;32m   1312\u001b[0m       \u001b[0margs\u001b[0m\u001b[0;34m,\u001b[0m \u001b[0mkwargs\u001b[0m \u001b[0;34m=\u001b[0m \u001b[0;32mNone\u001b[0m\u001b[0;34m,\u001b[0m \u001b[0;32mNone\u001b[0m\u001b[0;34m\u001b[0m\u001b[0;34m\u001b[0m\u001b[0m\n\u001b[0;32m-> 1313\u001b[0;31m     \u001b[0mgraph_function\u001b[0m\u001b[0;34m,\u001b[0m \u001b[0m_\u001b[0m\u001b[0;34m,\u001b[0m \u001b[0m_\u001b[0m \u001b[0;34m=\u001b[0m \u001b[0mself\u001b[0m\u001b[0;34m.\u001b[0m\u001b[0m_maybe_define_function\u001b[0m\u001b[0;34m(\u001b[0m\u001b[0margs\u001b[0m\u001b[0;34m,\u001b[0m \u001b[0mkwargs\u001b[0m\u001b[0;34m)\u001b[0m\u001b[0;34m\u001b[0m\u001b[0;34m\u001b[0m\u001b[0m\n\u001b[0m\u001b[1;32m   1314\u001b[0m     \u001b[0;32mreturn\u001b[0m \u001b[0mgraph_function\u001b[0m\u001b[0;34m\u001b[0m\u001b[0;34m\u001b[0m\u001b[0m\n\u001b[1;32m   1315\u001b[0m \u001b[0;34m\u001b[0m\u001b[0m\n",
      "\u001b[0;32m/Library/Frameworks/Python.framework/Versions/3.7/lib/python3.7/site-packages/tensorflow/python/eager/function.py\u001b[0m in \u001b[0;36m_maybe_define_function\u001b[0;34m(self, args, kwargs)\u001b[0m\n\u001b[1;32m   1578\u001b[0m           or call_context_key not in self._function_cache.missed):\n\u001b[1;32m   1579\u001b[0m         \u001b[0mself\u001b[0m\u001b[0;34m.\u001b[0m\u001b[0m_function_cache\u001b[0m\u001b[0;34m.\u001b[0m\u001b[0mmissed\u001b[0m\u001b[0;34m.\u001b[0m\u001b[0madd\u001b[0m\u001b[0;34m(\u001b[0m\u001b[0mcall_context_key\u001b[0m\u001b[0;34m)\u001b[0m\u001b[0;34m\u001b[0m\u001b[0;34m\u001b[0m\u001b[0m\n\u001b[0;32m-> 1580\u001b[0;31m         \u001b[0mgraph_function\u001b[0m \u001b[0;34m=\u001b[0m \u001b[0mself\u001b[0m\u001b[0;34m.\u001b[0m\u001b[0m_create_graph_function\u001b[0m\u001b[0;34m(\u001b[0m\u001b[0margs\u001b[0m\u001b[0;34m,\u001b[0m \u001b[0mkwargs\u001b[0m\u001b[0;34m)\u001b[0m\u001b[0;34m\u001b[0m\u001b[0;34m\u001b[0m\u001b[0m\n\u001b[0m\u001b[1;32m   1581\u001b[0m         \u001b[0mself\u001b[0m\u001b[0;34m.\u001b[0m\u001b[0m_function_cache\u001b[0m\u001b[0;34m.\u001b[0m\u001b[0mprimary\u001b[0m\u001b[0;34m[\u001b[0m\u001b[0mcache_key\u001b[0m\u001b[0;34m]\u001b[0m \u001b[0;34m=\u001b[0m \u001b[0mgraph_function\u001b[0m\u001b[0;34m\u001b[0m\u001b[0;34m\u001b[0m\u001b[0m\n\u001b[1;32m   1582\u001b[0m         \u001b[0;32mreturn\u001b[0m \u001b[0mgraph_function\u001b[0m\u001b[0;34m,\u001b[0m \u001b[0margs\u001b[0m\u001b[0;34m,\u001b[0m \u001b[0mkwargs\u001b[0m\u001b[0;34m\u001b[0m\u001b[0;34m\u001b[0m\u001b[0m\n",
      "\u001b[0;32m/Library/Frameworks/Python.framework/Versions/3.7/lib/python3.7/site-packages/tensorflow/python/eager/function.py\u001b[0m in \u001b[0;36m_create_graph_function\u001b[0;34m(self, args, kwargs, override_flat_arg_shapes)\u001b[0m\n\u001b[1;32m   1510\u001b[0m             \u001b[0marg_names\u001b[0m\u001b[0;34m=\u001b[0m\u001b[0marg_names\u001b[0m\u001b[0;34m,\u001b[0m\u001b[0;34m\u001b[0m\u001b[0;34m\u001b[0m\u001b[0m\n\u001b[1;32m   1511\u001b[0m             \u001b[0moverride_flat_arg_shapes\u001b[0m\u001b[0;34m=\u001b[0m\u001b[0moverride_flat_arg_shapes\u001b[0m\u001b[0;34m,\u001b[0m\u001b[0;34m\u001b[0m\u001b[0;34m\u001b[0m\u001b[0m\n\u001b[0;32m-> 1512\u001b[0;31m             capture_by_value=self._capture_by_value),\n\u001b[0m\u001b[1;32m   1513\u001b[0m         self._function_attributes)\n\u001b[1;32m   1514\u001b[0m \u001b[0;34m\u001b[0m\u001b[0m\n",
      "\u001b[0;32m/Library/Frameworks/Python.framework/Versions/3.7/lib/python3.7/site-packages/tensorflow/python/framework/func_graph.py\u001b[0m in \u001b[0;36mfunc_graph_from_py_func\u001b[0;34m(name, python_func, args, kwargs, signature, func_graph, autograph, autograph_options, add_control_dependencies, arg_names, op_return_value, collections, capture_by_value, override_flat_arg_shapes)\u001b[0m\n\u001b[1;32m    692\u001b[0m                                           converted_func)\n\u001b[1;32m    693\u001b[0m \u001b[0;34m\u001b[0m\u001b[0m\n\u001b[0;32m--> 694\u001b[0;31m       \u001b[0mfunc_outputs\u001b[0m \u001b[0;34m=\u001b[0m \u001b[0mpython_func\u001b[0m\u001b[0;34m(\u001b[0m\u001b[0;34m*\u001b[0m\u001b[0mfunc_args\u001b[0m\u001b[0;34m,\u001b[0m \u001b[0;34m**\u001b[0m\u001b[0mfunc_kwargs\u001b[0m\u001b[0;34m)\u001b[0m\u001b[0;34m\u001b[0m\u001b[0;34m\u001b[0m\u001b[0m\n\u001b[0m\u001b[1;32m    695\u001b[0m \u001b[0;34m\u001b[0m\u001b[0m\n\u001b[1;32m    696\u001b[0m       \u001b[0;31m# invariant: `func_outputs` contains only Tensors, IndexedSlices,\u001b[0m\u001b[0;34m\u001b[0m\u001b[0;34m\u001b[0m\u001b[0;34m\u001b[0m\u001b[0m\n",
      "\u001b[0;32m/Library/Frameworks/Python.framework/Versions/3.7/lib/python3.7/site-packages/tensorflow/python/eager/def_function.py\u001b[0m in \u001b[0;36mwrapped_fn\u001b[0;34m(*args, **kwds)\u001b[0m\n\u001b[1;32m    315\u001b[0m         \u001b[0;31m# __wrapped__ allows AutoGraph to swap in a converted function. We give\u001b[0m\u001b[0;34m\u001b[0m\u001b[0;34m\u001b[0m\u001b[0;34m\u001b[0m\u001b[0m\n\u001b[1;32m    316\u001b[0m         \u001b[0;31m# the function a weak reference to itself to avoid a reference cycle.\u001b[0m\u001b[0;34m\u001b[0m\u001b[0;34m\u001b[0m\u001b[0;34m\u001b[0m\u001b[0m\n\u001b[0;32m--> 317\u001b[0;31m         \u001b[0;32mreturn\u001b[0m \u001b[0mweak_wrapped_fn\u001b[0m\u001b[0;34m(\u001b[0m\u001b[0;34m)\u001b[0m\u001b[0;34m.\u001b[0m\u001b[0m__wrapped__\u001b[0m\u001b[0;34m(\u001b[0m\u001b[0;34m*\u001b[0m\u001b[0margs\u001b[0m\u001b[0;34m,\u001b[0m \u001b[0;34m**\u001b[0m\u001b[0mkwds\u001b[0m\u001b[0;34m)\u001b[0m\u001b[0;34m\u001b[0m\u001b[0;34m\u001b[0m\u001b[0m\n\u001b[0m\u001b[1;32m    318\u001b[0m     \u001b[0mweak_wrapped_fn\u001b[0m \u001b[0;34m=\u001b[0m \u001b[0mweakref\u001b[0m\u001b[0;34m.\u001b[0m\u001b[0mref\u001b[0m\u001b[0;34m(\u001b[0m\u001b[0mwrapped_fn\u001b[0m\u001b[0;34m)\u001b[0m\u001b[0;34m\u001b[0m\u001b[0;34m\u001b[0m\u001b[0m\n\u001b[1;32m    319\u001b[0m \u001b[0;34m\u001b[0m\u001b[0m\n",
      "\u001b[0;32m/Library/Frameworks/Python.framework/Versions/3.7/lib/python3.7/site-packages/tensorflow/python/framework/func_graph.py\u001b[0m in \u001b[0;36mwrapper\u001b[0;34m(*args, **kwargs)\u001b[0m\n\u001b[1;32m    684\u001b[0m                   \u001b[0moptional_features\u001b[0m\u001b[0;34m=\u001b[0m\u001b[0mautograph_options\u001b[0m\u001b[0;34m,\u001b[0m\u001b[0;34m\u001b[0m\u001b[0;34m\u001b[0m\u001b[0m\n\u001b[1;32m    685\u001b[0m                   \u001b[0mforce_conversion\u001b[0m\u001b[0;34m=\u001b[0m\u001b[0;32mTrue\u001b[0m\u001b[0;34m,\u001b[0m\u001b[0;34m\u001b[0m\u001b[0;34m\u001b[0m\u001b[0m\n\u001b[0;32m--> 686\u001b[0;31m               ), args, kwargs)\n\u001b[0m\u001b[1;32m    687\u001b[0m \u001b[0;34m\u001b[0m\u001b[0m\n\u001b[1;32m    688\u001b[0m         \u001b[0;31m# Wrapping around a decorator allows checks like tf_inspect.getargspec\u001b[0m\u001b[0;34m\u001b[0m\u001b[0;34m\u001b[0m\u001b[0;34m\u001b[0m\u001b[0m\n",
      "\u001b[0;32m/Library/Frameworks/Python.framework/Versions/3.7/lib/python3.7/site-packages/tensorflow/python/autograph/impl/api.py\u001b[0m in \u001b[0;36mconverted_call\u001b[0;34m(f, owner, options, args, kwargs)\u001b[0m\n\u001b[1;32m    390\u001b[0m     \u001b[0;32mreturn\u001b[0m \u001b[0m_call_unconverted\u001b[0m\u001b[0;34m(\u001b[0m\u001b[0mf\u001b[0m\u001b[0;34m,\u001b[0m \u001b[0margs\u001b[0m\u001b[0;34m,\u001b[0m \u001b[0mkwargs\u001b[0m\u001b[0;34m)\u001b[0m\u001b[0;34m\u001b[0m\u001b[0;34m\u001b[0m\u001b[0m\n\u001b[1;32m    391\u001b[0m \u001b[0;34m\u001b[0m\u001b[0m\n\u001b[0;32m--> 392\u001b[0;31m   \u001b[0mresult\u001b[0m \u001b[0;34m=\u001b[0m \u001b[0mconverted_f\u001b[0m\u001b[0;34m(\u001b[0m\u001b[0;34m*\u001b[0m\u001b[0meffective_args\u001b[0m\u001b[0;34m,\u001b[0m \u001b[0;34m**\u001b[0m\u001b[0mkwargs\u001b[0m\u001b[0;34m)\u001b[0m\u001b[0;34m\u001b[0m\u001b[0;34m\u001b[0m\u001b[0m\n\u001b[0m\u001b[1;32m    393\u001b[0m \u001b[0;34m\u001b[0m\u001b[0m\n\u001b[1;32m    394\u001b[0m   \u001b[0;31m# The converted function's closure is simply inserted into the function's\u001b[0m\u001b[0;34m\u001b[0m\u001b[0;34m\u001b[0m\u001b[0;34m\u001b[0m\u001b[0m\n",
      "\u001b[0;32m/var/folders/8j/pkhqw__97rb3skphr31qzqsr0000gn/T/tmpwvlsx5n9.py\u001b[0m in \u001b[0;36mtf__train_step\u001b[0;34m(images)\u001b[0m\n\u001b[1;32m      6\u001b[0m   \u001b[0;32mwith\u001b[0m \u001b[0mtf\u001b[0m\u001b[0;34m.\u001b[0m\u001b[0mGradientTape\u001b[0m\u001b[0;34m(\u001b[0m\u001b[0;34m)\u001b[0m \u001b[0;32mas\u001b[0m \u001b[0mgen_tape\u001b[0m\u001b[0;34m,\u001b[0m \u001b[0mtf\u001b[0m\u001b[0;34m.\u001b[0m\u001b[0mGradientTape\u001b[0m\u001b[0;34m(\u001b[0m\u001b[0;34m)\u001b[0m \u001b[0;32mas\u001b[0m \u001b[0mdisc_tape\u001b[0m\u001b[0;34m:\u001b[0m\u001b[0;34m\u001b[0m\u001b[0;34m\u001b[0m\u001b[0m\n\u001b[1;32m      7\u001b[0m     \u001b[0mgenerated_images\u001b[0m \u001b[0;34m=\u001b[0m \u001b[0mag__\u001b[0m\u001b[0;34m.\u001b[0m\u001b[0mconverted_call\u001b[0m\u001b[0;34m(\u001b[0m\u001b[0mgenerator\u001b[0m\u001b[0;34m,\u001b[0m \u001b[0;32mNone\u001b[0m\u001b[0;34m,\u001b[0m \u001b[0mag__\u001b[0m\u001b[0;34m.\u001b[0m\u001b[0mConversionOptions\u001b[0m\u001b[0;34m(\u001b[0m\u001b[0mrecursive\u001b[0m\u001b[0;34m=\u001b[0m\u001b[0;32mTrue\u001b[0m\u001b[0;34m,\u001b[0m \u001b[0mverbose\u001b[0m\u001b[0;34m=\u001b[0m\u001b[0;36m0\u001b[0m\u001b[0;34m,\u001b[0m \u001b[0mstrip_decorators\u001b[0m\u001b[0;34m=\u001b[0m\u001b[0;34m(\u001b[0m\u001b[0mtf\u001b[0m\u001b[0;34m.\u001b[0m\u001b[0mfunction\u001b[0m\u001b[0;34m,\u001b[0m \u001b[0mdefun_1\u001b[0m\u001b[0;34m,\u001b[0m \u001b[0mag__\u001b[0m\u001b[0;34m.\u001b[0m\u001b[0mconvert\u001b[0m\u001b[0;34m,\u001b[0m \u001b[0mag__\u001b[0m\u001b[0;34m.\u001b[0m\u001b[0mdo_not_convert\u001b[0m\u001b[0;34m,\u001b[0m \u001b[0mag__\u001b[0m\u001b[0;34m.\u001b[0m\u001b[0mconverted_call\u001b[0m\u001b[0;34m)\u001b[0m\u001b[0;34m,\u001b[0m \u001b[0mforce_conversion\u001b[0m\u001b[0;34m=\u001b[0m\u001b[0;32mFalse\u001b[0m\u001b[0;34m,\u001b[0m \u001b[0moptional_features\u001b[0m\u001b[0;34m=\u001b[0m\u001b[0;34m(\u001b[0m\u001b[0;34m)\u001b[0m\u001b[0;34m,\u001b[0m \u001b[0minternal_convert_user_code\u001b[0m\u001b[0;34m=\u001b[0m\u001b[0;32mTrue\u001b[0m\u001b[0;34m)\u001b[0m\u001b[0;34m,\u001b[0m \u001b[0;34m(\u001b[0m\u001b[0mseed\u001b[0m\u001b[0;34m,\u001b[0m\u001b[0;34m)\u001b[0m\u001b[0;34m,\u001b[0m \u001b[0;34m{\u001b[0m\u001b[0;34m'training'\u001b[0m\u001b[0;34m:\u001b[0m \u001b[0;32mTrue\u001b[0m\u001b[0;34m}\u001b[0m\u001b[0;34m)\u001b[0m\u001b[0;34m\u001b[0m\u001b[0;34m\u001b[0m\u001b[0m\n\u001b[0;32m----> 8\u001b[0;31m     \u001b[0mreal_output\u001b[0m \u001b[0;34m=\u001b[0m \u001b[0mag__\u001b[0m\u001b[0;34m.\u001b[0m\u001b[0mconverted_call\u001b[0m\u001b[0;34m(\u001b[0m\u001b[0mdiscriminator\u001b[0m\u001b[0;34m,\u001b[0m \u001b[0;32mNone\u001b[0m\u001b[0;34m,\u001b[0m \u001b[0mag__\u001b[0m\u001b[0;34m.\u001b[0m\u001b[0mConversionOptions\u001b[0m\u001b[0;34m(\u001b[0m\u001b[0mrecursive\u001b[0m\u001b[0;34m=\u001b[0m\u001b[0;32mTrue\u001b[0m\u001b[0;34m,\u001b[0m \u001b[0mverbose\u001b[0m\u001b[0;34m=\u001b[0m\u001b[0;36m0\u001b[0m\u001b[0;34m,\u001b[0m \u001b[0mstrip_decorators\u001b[0m\u001b[0;34m=\u001b[0m\u001b[0;34m(\u001b[0m\u001b[0mtf\u001b[0m\u001b[0;34m.\u001b[0m\u001b[0mfunction\u001b[0m\u001b[0;34m,\u001b[0m \u001b[0mdefun_2\u001b[0m\u001b[0;34m,\u001b[0m \u001b[0mag__\u001b[0m\u001b[0;34m.\u001b[0m\u001b[0mconvert\u001b[0m\u001b[0;34m,\u001b[0m \u001b[0mag__\u001b[0m\u001b[0;34m.\u001b[0m\u001b[0mdo_not_convert\u001b[0m\u001b[0;34m,\u001b[0m \u001b[0mag__\u001b[0m\u001b[0;34m.\u001b[0m\u001b[0mconverted_call\u001b[0m\u001b[0;34m)\u001b[0m\u001b[0;34m,\u001b[0m \u001b[0mforce_conversion\u001b[0m\u001b[0;34m=\u001b[0m\u001b[0;32mFalse\u001b[0m\u001b[0;34m,\u001b[0m \u001b[0moptional_features\u001b[0m\u001b[0;34m=\u001b[0m\u001b[0;34m(\u001b[0m\u001b[0;34m)\u001b[0m\u001b[0;34m,\u001b[0m \u001b[0minternal_convert_user_code\u001b[0m\u001b[0;34m=\u001b[0m\u001b[0;32mTrue\u001b[0m\u001b[0;34m)\u001b[0m\u001b[0;34m,\u001b[0m \u001b[0;34m(\u001b[0m\u001b[0mimages\u001b[0m\u001b[0;34m,\u001b[0m\u001b[0;34m)\u001b[0m\u001b[0;34m,\u001b[0m \u001b[0;34m{\u001b[0m\u001b[0;34m'training'\u001b[0m\u001b[0;34m:\u001b[0m \u001b[0;32mTrue\u001b[0m\u001b[0;34m}\u001b[0m\u001b[0;34m)\u001b[0m\u001b[0;34m\u001b[0m\u001b[0;34m\u001b[0m\u001b[0m\n\u001b[0m\u001b[1;32m      9\u001b[0m     \u001b[0mfake_output\u001b[0m \u001b[0;34m=\u001b[0m \u001b[0mag__\u001b[0m\u001b[0;34m.\u001b[0m\u001b[0mconverted_call\u001b[0m\u001b[0;34m(\u001b[0m\u001b[0mdiscriminator\u001b[0m\u001b[0;34m,\u001b[0m \u001b[0;32mNone\u001b[0m\u001b[0;34m,\u001b[0m \u001b[0mag__\u001b[0m\u001b[0;34m.\u001b[0m\u001b[0mConversionOptions\u001b[0m\u001b[0;34m(\u001b[0m\u001b[0mrecursive\u001b[0m\u001b[0;34m=\u001b[0m\u001b[0;32mTrue\u001b[0m\u001b[0;34m,\u001b[0m \u001b[0mverbose\u001b[0m\u001b[0;34m=\u001b[0m\u001b[0;36m0\u001b[0m\u001b[0;34m,\u001b[0m \u001b[0mstrip_decorators\u001b[0m\u001b[0;34m=\u001b[0m\u001b[0;34m(\u001b[0m\u001b[0mtf\u001b[0m\u001b[0;34m.\u001b[0m\u001b[0mfunction\u001b[0m\u001b[0;34m,\u001b[0m \u001b[0mdefun_3\u001b[0m\u001b[0;34m,\u001b[0m \u001b[0mag__\u001b[0m\u001b[0;34m.\u001b[0m\u001b[0mconvert\u001b[0m\u001b[0;34m,\u001b[0m \u001b[0mag__\u001b[0m\u001b[0;34m.\u001b[0m\u001b[0mdo_not_convert\u001b[0m\u001b[0;34m,\u001b[0m \u001b[0mag__\u001b[0m\u001b[0;34m.\u001b[0m\u001b[0mconverted_call\u001b[0m\u001b[0;34m)\u001b[0m\u001b[0;34m,\u001b[0m \u001b[0mforce_conversion\u001b[0m\u001b[0;34m=\u001b[0m\u001b[0;32mFalse\u001b[0m\u001b[0;34m,\u001b[0m \u001b[0moptional_features\u001b[0m\u001b[0;34m=\u001b[0m\u001b[0;34m(\u001b[0m\u001b[0;34m)\u001b[0m\u001b[0;34m,\u001b[0m \u001b[0minternal_convert_user_code\u001b[0m\u001b[0;34m=\u001b[0m\u001b[0;32mTrue\u001b[0m\u001b[0;34m)\u001b[0m\u001b[0;34m,\u001b[0m \u001b[0;34m(\u001b[0m\u001b[0mgenerated_images\u001b[0m\u001b[0;34m,\u001b[0m\u001b[0;34m)\u001b[0m\u001b[0;34m,\u001b[0m \u001b[0;34m{\u001b[0m\u001b[0;34m'training'\u001b[0m\u001b[0;34m:\u001b[0m \u001b[0;32mTrue\u001b[0m\u001b[0;34m}\u001b[0m\u001b[0;34m)\u001b[0m\u001b[0;34m\u001b[0m\u001b[0;34m\u001b[0m\u001b[0m\n\u001b[1;32m     10\u001b[0m     \u001b[0mgen_loss\u001b[0m \u001b[0;34m=\u001b[0m \u001b[0mag__\u001b[0m\u001b[0;34m.\u001b[0m\u001b[0mconverted_call\u001b[0m\u001b[0;34m(\u001b[0m\u001b[0mgenerator_loss\u001b[0m\u001b[0;34m,\u001b[0m \u001b[0;32mNone\u001b[0m\u001b[0;34m,\u001b[0m \u001b[0mag__\u001b[0m\u001b[0;34m.\u001b[0m\u001b[0mConversionOptions\u001b[0m\u001b[0;34m(\u001b[0m\u001b[0mrecursive\u001b[0m\u001b[0;34m=\u001b[0m\u001b[0;32mTrue\u001b[0m\u001b[0;34m,\u001b[0m \u001b[0mverbose\u001b[0m\u001b[0;34m=\u001b[0m\u001b[0;36m0\u001b[0m\u001b[0;34m,\u001b[0m \u001b[0mstrip_decorators\u001b[0m\u001b[0;34m=\u001b[0m\u001b[0;34m(\u001b[0m\u001b[0mtf\u001b[0m\u001b[0;34m.\u001b[0m\u001b[0mfunction\u001b[0m\u001b[0;34m,\u001b[0m \u001b[0mdefun_4\u001b[0m\u001b[0;34m,\u001b[0m \u001b[0mag__\u001b[0m\u001b[0;34m.\u001b[0m\u001b[0mconvert\u001b[0m\u001b[0;34m,\u001b[0m \u001b[0mag__\u001b[0m\u001b[0;34m.\u001b[0m\u001b[0mdo_not_convert\u001b[0m\u001b[0;34m,\u001b[0m \u001b[0mag__\u001b[0m\u001b[0;34m.\u001b[0m\u001b[0mconverted_call\u001b[0m\u001b[0;34m)\u001b[0m\u001b[0;34m,\u001b[0m \u001b[0mforce_conversion\u001b[0m\u001b[0;34m=\u001b[0m\u001b[0;32mFalse\u001b[0m\u001b[0;34m,\u001b[0m \u001b[0moptional_features\u001b[0m\u001b[0;34m=\u001b[0m\u001b[0;34m(\u001b[0m\u001b[0;34m)\u001b[0m\u001b[0;34m,\u001b[0m \u001b[0minternal_convert_user_code\u001b[0m\u001b[0;34m=\u001b[0m\u001b[0;32mTrue\u001b[0m\u001b[0;34m)\u001b[0m\u001b[0;34m,\u001b[0m \u001b[0;34m(\u001b[0m\u001b[0mfake_output\u001b[0m\u001b[0;34m,\u001b[0m\u001b[0;34m)\u001b[0m\u001b[0;34m,\u001b[0m \u001b[0;34m{\u001b[0m\u001b[0;34m}\u001b[0m\u001b[0;34m)\u001b[0m\u001b[0;34m\u001b[0m\u001b[0;34m\u001b[0m\u001b[0m\n",
      "\u001b[0;32m/Library/Frameworks/Python.framework/Versions/3.7/lib/python3.7/site-packages/tensorflow/python/autograph/impl/api.py\u001b[0m in \u001b[0;36mconverted_call\u001b[0;34m(f, owner, options, args, kwargs)\u001b[0m\n\u001b[1;32m    265\u001b[0m \u001b[0;34m\u001b[0m\u001b[0m\n\u001b[1;32m    266\u001b[0m   \u001b[0;32mif\u001b[0m \u001b[0;32mnot\u001b[0m \u001b[0moptions\u001b[0m\u001b[0;34m.\u001b[0m\u001b[0mforce_conversion\u001b[0m \u001b[0;32mand\u001b[0m \u001b[0mconversion\u001b[0m\u001b[0;34m.\u001b[0m\u001b[0mis_whitelisted_for_graph\u001b[0m\u001b[0;34m(\u001b[0m\u001b[0mf\u001b[0m\u001b[0;34m)\u001b[0m\u001b[0;34m:\u001b[0m\u001b[0;34m\u001b[0m\u001b[0;34m\u001b[0m\u001b[0m\n\u001b[0;32m--> 267\u001b[0;31m     \u001b[0;32mreturn\u001b[0m \u001b[0m_call_unconverted\u001b[0m\u001b[0;34m(\u001b[0m\u001b[0mf\u001b[0m\u001b[0;34m,\u001b[0m \u001b[0margs\u001b[0m\u001b[0;34m,\u001b[0m \u001b[0mkwargs\u001b[0m\u001b[0;34m)\u001b[0m\u001b[0;34m\u001b[0m\u001b[0;34m\u001b[0m\u001b[0m\n\u001b[0m\u001b[1;32m    268\u001b[0m \u001b[0;34m\u001b[0m\u001b[0m\n\u001b[1;32m    269\u001b[0m   \u001b[0;31m# internal_convert_user_code is for example turned off when issuing a dynamic\u001b[0m\u001b[0;34m\u001b[0m\u001b[0;34m\u001b[0m\u001b[0;34m\u001b[0m\u001b[0m\n",
      "\u001b[0;32m/Library/Frameworks/Python.framework/Versions/3.7/lib/python3.7/site-packages/tensorflow/python/autograph/impl/api.py\u001b[0m in \u001b[0;36m_call_unconverted\u001b[0;34m(f, args, kwargs)\u001b[0m\n\u001b[1;32m    186\u001b[0m     \u001b[0;32mreturn\u001b[0m \u001b[0mf\u001b[0m\u001b[0;34m.\u001b[0m\u001b[0m__self__\u001b[0m\u001b[0;34m.\u001b[0m\u001b[0mcall\u001b[0m\u001b[0;34m(\u001b[0m\u001b[0margs\u001b[0m\u001b[0;34m,\u001b[0m \u001b[0mkwargs\u001b[0m\u001b[0;34m)\u001b[0m\u001b[0;34m\u001b[0m\u001b[0;34m\u001b[0m\u001b[0m\n\u001b[1;32m    187\u001b[0m \u001b[0;34m\u001b[0m\u001b[0m\n\u001b[0;32m--> 188\u001b[0;31m   \u001b[0;32mreturn\u001b[0m \u001b[0mf\u001b[0m\u001b[0;34m(\u001b[0m\u001b[0;34m*\u001b[0m\u001b[0margs\u001b[0m\u001b[0;34m,\u001b[0m \u001b[0;34m**\u001b[0m\u001b[0mkwargs\u001b[0m\u001b[0;34m)\u001b[0m\u001b[0;34m\u001b[0m\u001b[0;34m\u001b[0m\u001b[0m\n\u001b[0m\u001b[1;32m    189\u001b[0m \u001b[0;34m\u001b[0m\u001b[0m\n\u001b[1;32m    190\u001b[0m \u001b[0;34m\u001b[0m\u001b[0m\n",
      "\u001b[0;32m/Library/Frameworks/Python.framework/Versions/3.7/lib/python3.7/site-packages/tensorflow/python/keras/engine/base_layer.py\u001b[0m in \u001b[0;36m__call__\u001b[0;34m(self, inputs, *args, **kwargs)\u001b[0m\n\u001b[1;32m    610\u001b[0m                       base_layer_utils.AutoAddUpdates(self,\n\u001b[1;32m    611\u001b[0m                                                       inputs)) as auto_updater:\n\u001b[0;32m--> 612\u001b[0;31m                 \u001b[0moutputs\u001b[0m \u001b[0;34m=\u001b[0m \u001b[0mself\u001b[0m\u001b[0;34m.\u001b[0m\u001b[0mcall\u001b[0m\u001b[0;34m(\u001b[0m\u001b[0minputs\u001b[0m\u001b[0;34m,\u001b[0m \u001b[0;34m*\u001b[0m\u001b[0margs\u001b[0m\u001b[0;34m,\u001b[0m \u001b[0;34m**\u001b[0m\u001b[0mkwargs\u001b[0m\u001b[0;34m)\u001b[0m\u001b[0;34m\u001b[0m\u001b[0;34m\u001b[0m\u001b[0m\n\u001b[0m\u001b[1;32m    613\u001b[0m                 \u001b[0mauto_updater\u001b[0m\u001b[0;34m.\u001b[0m\u001b[0mset_outputs\u001b[0m\u001b[0;34m(\u001b[0m\u001b[0moutputs\u001b[0m\u001b[0;34m)\u001b[0m\u001b[0;34m\u001b[0m\u001b[0;34m\u001b[0m\u001b[0m\n\u001b[1;32m    614\u001b[0m \u001b[0;34m\u001b[0m\u001b[0m\n",
      "\u001b[0;32m/Library/Frameworks/Python.framework/Versions/3.7/lib/python3.7/site-packages/tensorflow/python/keras/engine/sequential.py\u001b[0m in \u001b[0;36mcall\u001b[0;34m(self, inputs, training, mask)\u001b[0m\n\u001b[1;32m    240\u001b[0m       \u001b[0;32mif\u001b[0m \u001b[0;32mnot\u001b[0m \u001b[0mself\u001b[0m\u001b[0;34m.\u001b[0m\u001b[0mbuilt\u001b[0m\u001b[0;34m:\u001b[0m\u001b[0;34m\u001b[0m\u001b[0;34m\u001b[0m\u001b[0m\n\u001b[1;32m    241\u001b[0m         \u001b[0mself\u001b[0m\u001b[0;34m.\u001b[0m\u001b[0m_init_graph_network\u001b[0m\u001b[0;34m(\u001b[0m\u001b[0mself\u001b[0m\u001b[0;34m.\u001b[0m\u001b[0minputs\u001b[0m\u001b[0;34m,\u001b[0m \u001b[0mself\u001b[0m\u001b[0;34m.\u001b[0m\u001b[0moutputs\u001b[0m\u001b[0;34m,\u001b[0m \u001b[0mname\u001b[0m\u001b[0;34m=\u001b[0m\u001b[0mself\u001b[0m\u001b[0;34m.\u001b[0m\u001b[0mname\u001b[0m\u001b[0;34m)\u001b[0m\u001b[0;34m\u001b[0m\u001b[0;34m\u001b[0m\u001b[0m\n\u001b[0;32m--> 242\u001b[0;31m       \u001b[0;32mreturn\u001b[0m \u001b[0msuper\u001b[0m\u001b[0;34m(\u001b[0m\u001b[0mSequential\u001b[0m\u001b[0;34m,\u001b[0m \u001b[0mself\u001b[0m\u001b[0;34m)\u001b[0m\u001b[0;34m.\u001b[0m\u001b[0mcall\u001b[0m\u001b[0;34m(\u001b[0m\u001b[0minputs\u001b[0m\u001b[0;34m,\u001b[0m \u001b[0mtraining\u001b[0m\u001b[0;34m=\u001b[0m\u001b[0mtraining\u001b[0m\u001b[0;34m,\u001b[0m \u001b[0mmask\u001b[0m\u001b[0;34m=\u001b[0m\u001b[0mmask\u001b[0m\u001b[0;34m)\u001b[0m\u001b[0;34m\u001b[0m\u001b[0;34m\u001b[0m\u001b[0m\n\u001b[0m\u001b[1;32m    243\u001b[0m \u001b[0;34m\u001b[0m\u001b[0m\n\u001b[1;32m    244\u001b[0m     \u001b[0moutputs\u001b[0m \u001b[0;34m=\u001b[0m \u001b[0minputs\u001b[0m  \u001b[0;31m# handle the corner case where self.layers is empty\u001b[0m\u001b[0;34m\u001b[0m\u001b[0;34m\u001b[0m\u001b[0m\n",
      "\u001b[0;32m/Library/Frameworks/Python.framework/Versions/3.7/lib/python3.7/site-packages/tensorflow/python/keras/engine/network.py\u001b[0m in \u001b[0;36mcall\u001b[0;34m(self, inputs, training, mask)\u001b[0m\n\u001b[1;32m    868\u001b[0m                                 ' implement a `call` method.')\n\u001b[1;32m    869\u001b[0m \u001b[0;34m\u001b[0m\u001b[0m\n\u001b[0;32m--> 870\u001b[0;31m     \u001b[0;32mreturn\u001b[0m \u001b[0mself\u001b[0m\u001b[0;34m.\u001b[0m\u001b[0m_run_internal_graph\u001b[0m\u001b[0;34m(\u001b[0m\u001b[0minputs\u001b[0m\u001b[0;34m,\u001b[0m \u001b[0mtraining\u001b[0m\u001b[0;34m=\u001b[0m\u001b[0mtraining\u001b[0m\u001b[0;34m,\u001b[0m \u001b[0mmask\u001b[0m\u001b[0;34m=\u001b[0m\u001b[0mmask\u001b[0m\u001b[0;34m)\u001b[0m\u001b[0;34m\u001b[0m\u001b[0;34m\u001b[0m\u001b[0m\n\u001b[0m\u001b[1;32m    871\u001b[0m \u001b[0;34m\u001b[0m\u001b[0m\n\u001b[1;32m    872\u001b[0m   \u001b[0;32mdef\u001b[0m \u001b[0mcompute_output_shape\u001b[0m\u001b[0;34m(\u001b[0m\u001b[0mself\u001b[0m\u001b[0;34m,\u001b[0m \u001b[0minput_shape\u001b[0m\u001b[0;34m)\u001b[0m\u001b[0;34m:\u001b[0m\u001b[0;34m\u001b[0m\u001b[0;34m\u001b[0m\u001b[0m\n",
      "\u001b[0;32m/Library/Frameworks/Python.framework/Versions/3.7/lib/python3.7/site-packages/tensorflow/python/keras/engine/network.py\u001b[0m in \u001b[0;36m_run_internal_graph\u001b[0;34m(self, inputs, training, mask)\u001b[0m\n\u001b[1;32m   1009\u001b[0m \u001b[0;34m\u001b[0m\u001b[0m\n\u001b[1;32m   1010\u001b[0m           \u001b[0;31m# Compute outputs.\u001b[0m\u001b[0;34m\u001b[0m\u001b[0;34m\u001b[0m\u001b[0;34m\u001b[0m\u001b[0m\n\u001b[0;32m-> 1011\u001b[0;31m           \u001b[0moutput_tensors\u001b[0m \u001b[0;34m=\u001b[0m \u001b[0mlayer\u001b[0m\u001b[0;34m(\u001b[0m\u001b[0mcomputed_tensors\u001b[0m\u001b[0;34m,\u001b[0m \u001b[0;34m**\u001b[0m\u001b[0mkwargs\u001b[0m\u001b[0;34m)\u001b[0m\u001b[0;34m\u001b[0m\u001b[0;34m\u001b[0m\u001b[0m\n\u001b[0m\u001b[1;32m   1012\u001b[0m \u001b[0;34m\u001b[0m\u001b[0m\n\u001b[1;32m   1013\u001b[0m           \u001b[0;31m# Update tensor_dict.\u001b[0m\u001b[0;34m\u001b[0m\u001b[0;34m\u001b[0m\u001b[0;34m\u001b[0m\u001b[0m\n",
      "\u001b[0;32m/Library/Frameworks/Python.framework/Versions/3.7/lib/python3.7/site-packages/tensorflow/python/keras/engine/base_layer.py\u001b[0m in \u001b[0;36m__call__\u001b[0;34m(self, inputs, *args, **kwargs)\u001b[0m\n\u001b[1;32m    610\u001b[0m                       base_layer_utils.AutoAddUpdates(self,\n\u001b[1;32m    611\u001b[0m                                                       inputs)) as auto_updater:\n\u001b[0;32m--> 612\u001b[0;31m                 \u001b[0moutputs\u001b[0m \u001b[0;34m=\u001b[0m \u001b[0mself\u001b[0m\u001b[0;34m.\u001b[0m\u001b[0mcall\u001b[0m\u001b[0;34m(\u001b[0m\u001b[0minputs\u001b[0m\u001b[0;34m,\u001b[0m \u001b[0;34m*\u001b[0m\u001b[0margs\u001b[0m\u001b[0;34m,\u001b[0m \u001b[0;34m**\u001b[0m\u001b[0mkwargs\u001b[0m\u001b[0;34m)\u001b[0m\u001b[0;34m\u001b[0m\u001b[0;34m\u001b[0m\u001b[0m\n\u001b[0m\u001b[1;32m    613\u001b[0m                 \u001b[0mauto_updater\u001b[0m\u001b[0;34m.\u001b[0m\u001b[0mset_outputs\u001b[0m\u001b[0;34m(\u001b[0m\u001b[0moutputs\u001b[0m\u001b[0;34m)\u001b[0m\u001b[0;34m\u001b[0m\u001b[0;34m\u001b[0m\u001b[0m\n\u001b[1;32m    614\u001b[0m \u001b[0;34m\u001b[0m\u001b[0m\n",
      "\u001b[0;32m/Library/Frameworks/Python.framework/Versions/3.7/lib/python3.7/site-packages/tensorflow/python/keras/layers/convolutional.py\u001b[0m in \u001b[0;36mcall\u001b[0;34m(self, inputs)\u001b[0m\n\u001b[1;32m    371\u001b[0m     \u001b[0;32mif\u001b[0m \u001b[0mself\u001b[0m\u001b[0;34m.\u001b[0m\u001b[0mpadding\u001b[0m \u001b[0;34m==\u001b[0m \u001b[0;34m'causal'\u001b[0m\u001b[0;34m:\u001b[0m\u001b[0;34m\u001b[0m\u001b[0;34m\u001b[0m\u001b[0m\n\u001b[1;32m    372\u001b[0m       \u001b[0minputs\u001b[0m \u001b[0;34m=\u001b[0m \u001b[0marray_ops\u001b[0m\u001b[0;34m.\u001b[0m\u001b[0mpad\u001b[0m\u001b[0;34m(\u001b[0m\u001b[0minputs\u001b[0m\u001b[0;34m,\u001b[0m \u001b[0mself\u001b[0m\u001b[0;34m.\u001b[0m\u001b[0m_compute_causal_padding\u001b[0m\u001b[0;34m(\u001b[0m\u001b[0;34m)\u001b[0m\u001b[0;34m)\u001b[0m\u001b[0;34m\u001b[0m\u001b[0;34m\u001b[0m\u001b[0m\n\u001b[0;32m--> 373\u001b[0;31m     \u001b[0;32mreturn\u001b[0m \u001b[0msuper\u001b[0m\u001b[0;34m(\u001b[0m\u001b[0mConv1D\u001b[0m\u001b[0;34m,\u001b[0m \u001b[0mself\u001b[0m\u001b[0;34m)\u001b[0m\u001b[0;34m.\u001b[0m\u001b[0mcall\u001b[0m\u001b[0;34m(\u001b[0m\u001b[0minputs\u001b[0m\u001b[0;34m)\u001b[0m\u001b[0;34m\u001b[0m\u001b[0;34m\u001b[0m\u001b[0m\n\u001b[0m\u001b[1;32m    374\u001b[0m \u001b[0;34m\u001b[0m\u001b[0m\n\u001b[1;32m    375\u001b[0m \u001b[0;34m\u001b[0m\u001b[0m\n",
      "\u001b[0;32m/Library/Frameworks/Python.framework/Versions/3.7/lib/python3.7/site-packages/tensorflow/python/keras/layers/convolutional.py\u001b[0m in \u001b[0;36mcall\u001b[0;34m(self, inputs)\u001b[0m\n\u001b[1;32m    194\u001b[0m \u001b[0;34m\u001b[0m\u001b[0m\n\u001b[1;32m    195\u001b[0m   \u001b[0;32mdef\u001b[0m \u001b[0mcall\u001b[0m\u001b[0;34m(\u001b[0m\u001b[0mself\u001b[0m\u001b[0;34m,\u001b[0m \u001b[0minputs\u001b[0m\u001b[0;34m)\u001b[0m\u001b[0;34m:\u001b[0m\u001b[0;34m\u001b[0m\u001b[0;34m\u001b[0m\u001b[0m\n\u001b[0;32m--> 196\u001b[0;31m     \u001b[0moutputs\u001b[0m \u001b[0;34m=\u001b[0m \u001b[0mself\u001b[0m\u001b[0;34m.\u001b[0m\u001b[0m_convolution_op\u001b[0m\u001b[0;34m(\u001b[0m\u001b[0minputs\u001b[0m\u001b[0;34m,\u001b[0m \u001b[0mself\u001b[0m\u001b[0;34m.\u001b[0m\u001b[0mkernel\u001b[0m\u001b[0;34m)\u001b[0m\u001b[0;34m\u001b[0m\u001b[0;34m\u001b[0m\u001b[0m\n\u001b[0m\u001b[1;32m    197\u001b[0m \u001b[0;34m\u001b[0m\u001b[0m\n\u001b[1;32m    198\u001b[0m     \u001b[0;32mif\u001b[0m \u001b[0mself\u001b[0m\u001b[0;34m.\u001b[0m\u001b[0muse_bias\u001b[0m\u001b[0;34m:\u001b[0m\u001b[0;34m\u001b[0m\u001b[0;34m\u001b[0m\u001b[0m\n",
      "\u001b[0;32m/Library/Frameworks/Python.framework/Versions/3.7/lib/python3.7/site-packages/tensorflow/python/ops/nn_ops.py\u001b[0m in \u001b[0;36m__call__\u001b[0;34m(self, inp, filter)\u001b[0m\n\u001b[1;32m   1076\u001b[0m \u001b[0;34m\u001b[0m\u001b[0m\n\u001b[1;32m   1077\u001b[0m   \u001b[0;32mdef\u001b[0m \u001b[0m__call__\u001b[0m\u001b[0;34m(\u001b[0m\u001b[0mself\u001b[0m\u001b[0;34m,\u001b[0m \u001b[0minp\u001b[0m\u001b[0;34m,\u001b[0m \u001b[0mfilter\u001b[0m\u001b[0;34m)\u001b[0m\u001b[0;34m:\u001b[0m  \u001b[0;31m# pylint: disable=redefined-builtin\u001b[0m\u001b[0;34m\u001b[0m\u001b[0;34m\u001b[0m\u001b[0m\n\u001b[0;32m-> 1078\u001b[0;31m     \u001b[0;32mreturn\u001b[0m \u001b[0mself\u001b[0m\u001b[0;34m.\u001b[0m\u001b[0mconv_op\u001b[0m\u001b[0;34m(\u001b[0m\u001b[0minp\u001b[0m\u001b[0;34m,\u001b[0m \u001b[0mfilter\u001b[0m\u001b[0;34m)\u001b[0m\u001b[0;34m\u001b[0m\u001b[0;34m\u001b[0m\u001b[0m\n\u001b[0m\u001b[1;32m   1079\u001b[0m \u001b[0;34m\u001b[0m\u001b[0m\n\u001b[1;32m   1080\u001b[0m \u001b[0;34m\u001b[0m\u001b[0m\n",
      "\u001b[0;32m/Library/Frameworks/Python.framework/Versions/3.7/lib/python3.7/site-packages/tensorflow/python/ops/nn_ops.py\u001b[0m in \u001b[0;36m__call__\u001b[0;34m(self, inp, filter)\u001b[0m\n\u001b[1;32m    632\u001b[0m \u001b[0;34m\u001b[0m\u001b[0m\n\u001b[1;32m    633\u001b[0m   \u001b[0;32mdef\u001b[0m \u001b[0m__call__\u001b[0m\u001b[0;34m(\u001b[0m\u001b[0mself\u001b[0m\u001b[0;34m,\u001b[0m \u001b[0minp\u001b[0m\u001b[0;34m,\u001b[0m \u001b[0mfilter\u001b[0m\u001b[0;34m)\u001b[0m\u001b[0;34m:\u001b[0m  \u001b[0;31m# pylint: disable=redefined-builtin\u001b[0m\u001b[0;34m\u001b[0m\u001b[0;34m\u001b[0m\u001b[0m\n\u001b[0;32m--> 634\u001b[0;31m     \u001b[0;32mreturn\u001b[0m \u001b[0mself\u001b[0m\u001b[0;34m.\u001b[0m\u001b[0mcall\u001b[0m\u001b[0;34m(\u001b[0m\u001b[0minp\u001b[0m\u001b[0;34m,\u001b[0m \u001b[0mfilter\u001b[0m\u001b[0;34m)\u001b[0m\u001b[0;34m\u001b[0m\u001b[0;34m\u001b[0m\u001b[0m\n\u001b[0m\u001b[1;32m    635\u001b[0m \u001b[0;34m\u001b[0m\u001b[0m\n\u001b[1;32m    636\u001b[0m \u001b[0;34m\u001b[0m\u001b[0m\n",
      "\u001b[0;32m/Library/Frameworks/Python.framework/Versions/3.7/lib/python3.7/site-packages/tensorflow/python/ops/nn_ops.py\u001b[0m in \u001b[0;36m__call__\u001b[0;34m(self, inp, filter)\u001b[0m\n\u001b[1;32m    231\u001b[0m         \u001b[0mpadding\u001b[0m\u001b[0;34m=\u001b[0m\u001b[0mself\u001b[0m\u001b[0;34m.\u001b[0m\u001b[0mpadding\u001b[0m\u001b[0;34m,\u001b[0m\u001b[0;34m\u001b[0m\u001b[0;34m\u001b[0m\u001b[0m\n\u001b[1;32m    232\u001b[0m         \u001b[0mdata_format\u001b[0m\u001b[0;34m=\u001b[0m\u001b[0mself\u001b[0m\u001b[0;34m.\u001b[0m\u001b[0mdata_format\u001b[0m\u001b[0;34m,\u001b[0m\u001b[0;34m\u001b[0m\u001b[0;34m\u001b[0m\u001b[0m\n\u001b[0;32m--> 233\u001b[0;31m         name=self.name)\n\u001b[0m\u001b[1;32m    234\u001b[0m \u001b[0;34m\u001b[0m\u001b[0m\n\u001b[1;32m    235\u001b[0m \u001b[0;34m\u001b[0m\u001b[0m\n",
      "\u001b[0;32m/Library/Frameworks/Python.framework/Versions/3.7/lib/python3.7/site-packages/tensorflow/python/ops/nn_ops.py\u001b[0m in \u001b[0;36m_conv1d\u001b[0;34m(self, input, filter, strides, padding, data_format, name)\u001b[0m\n\u001b[1;32m    220\u001b[0m         \u001b[0mpadding\u001b[0m\u001b[0;34m=\u001b[0m\u001b[0mpadding\u001b[0m\u001b[0;34m,\u001b[0m\u001b[0;34m\u001b[0m\u001b[0;34m\u001b[0m\u001b[0m\n\u001b[1;32m    221\u001b[0m         \u001b[0mdata_format\u001b[0m\u001b[0;34m=\u001b[0m\u001b[0mdata_format\u001b[0m\u001b[0;34m,\u001b[0m\u001b[0;34m\u001b[0m\u001b[0;34m\u001b[0m\u001b[0m\n\u001b[0;32m--> 222\u001b[0;31m         name=name)\n\u001b[0m\u001b[1;32m    223\u001b[0m \u001b[0;34m\u001b[0m\u001b[0m\n\u001b[1;32m    224\u001b[0m   \u001b[0;31m# pylint: enable=redefined-builtin\u001b[0m\u001b[0;34m\u001b[0m\u001b[0;34m\u001b[0m\u001b[0;34m\u001b[0m\u001b[0m\n",
      "\u001b[0;32m/Library/Frameworks/Python.framework/Versions/3.7/lib/python3.7/site-packages/tensorflow/python/util/deprecation.py\u001b[0m in \u001b[0;36mnew_func\u001b[0;34m(*args, **kwargs)\u001b[0m\n\u001b[1;32m    572\u001b[0m                   \u001b[0mfunc\u001b[0m\u001b[0;34m.\u001b[0m\u001b[0m__module__\u001b[0m\u001b[0;34m,\u001b[0m \u001b[0marg_name\u001b[0m\u001b[0;34m,\u001b[0m \u001b[0marg_value\u001b[0m\u001b[0;34m,\u001b[0m \u001b[0;34m'in a future version'\u001b[0m\u001b[0;34m\u001b[0m\u001b[0;34m\u001b[0m\u001b[0m\n\u001b[1;32m    573\u001b[0m                   if date is None else ('after %s' % date), instructions)\n\u001b[0;32m--> 574\u001b[0;31m       \u001b[0;32mreturn\u001b[0m \u001b[0mfunc\u001b[0m\u001b[0;34m(\u001b[0m\u001b[0;34m*\u001b[0m\u001b[0margs\u001b[0m\u001b[0;34m,\u001b[0m \u001b[0;34m**\u001b[0m\u001b[0mkwargs\u001b[0m\u001b[0;34m)\u001b[0m\u001b[0;34m\u001b[0m\u001b[0;34m\u001b[0m\u001b[0m\n\u001b[0m\u001b[1;32m    575\u001b[0m \u001b[0;34m\u001b[0m\u001b[0m\n\u001b[1;32m    576\u001b[0m     doc = _add_deprecated_arg_value_notice_to_docstring(\n",
      "\u001b[0;32m/Library/Frameworks/Python.framework/Versions/3.7/lib/python3.7/site-packages/tensorflow/python/util/deprecation.py\u001b[0m in \u001b[0;36mnew_func\u001b[0;34m(*args, **kwargs)\u001b[0m\n\u001b[1;32m    572\u001b[0m                   \u001b[0mfunc\u001b[0m\u001b[0;34m.\u001b[0m\u001b[0m__module__\u001b[0m\u001b[0;34m,\u001b[0m \u001b[0marg_name\u001b[0m\u001b[0;34m,\u001b[0m \u001b[0marg_value\u001b[0m\u001b[0;34m,\u001b[0m \u001b[0;34m'in a future version'\u001b[0m\u001b[0;34m\u001b[0m\u001b[0;34m\u001b[0m\u001b[0m\n\u001b[1;32m    573\u001b[0m                   if date is None else ('after %s' % date), instructions)\n\u001b[0;32m--> 574\u001b[0;31m       \u001b[0;32mreturn\u001b[0m \u001b[0mfunc\u001b[0m\u001b[0;34m(\u001b[0m\u001b[0;34m*\u001b[0m\u001b[0margs\u001b[0m\u001b[0;34m,\u001b[0m \u001b[0;34m**\u001b[0m\u001b[0mkwargs\u001b[0m\u001b[0;34m)\u001b[0m\u001b[0;34m\u001b[0m\u001b[0;34m\u001b[0m\u001b[0m\n\u001b[0m\u001b[1;32m    575\u001b[0m \u001b[0;34m\u001b[0m\u001b[0m\n\u001b[1;32m    576\u001b[0m     doc = _add_deprecated_arg_value_notice_to_docstring(\n",
      "\u001b[0;32m/Library/Frameworks/Python.framework/Versions/3.7/lib/python3.7/site-packages/tensorflow/python/ops/nn_ops.py\u001b[0m in \u001b[0;36mconv1d\u001b[0;34m(value, filters, stride, padding, use_cudnn_on_gpu, data_format, name, input, dilations)\u001b[0m\n\u001b[1;32m   1621\u001b[0m         \u001b[0mdata_format\u001b[0m\u001b[0;34m=\u001b[0m\u001b[0mdata_format\u001b[0m\u001b[0;34m,\u001b[0m\u001b[0;34m\u001b[0m\u001b[0;34m\u001b[0m\u001b[0m\n\u001b[1;32m   1622\u001b[0m         \u001b[0mdilations\u001b[0m\u001b[0;34m=\u001b[0m\u001b[0mdilations\u001b[0m\u001b[0;34m,\u001b[0m\u001b[0;34m\u001b[0m\u001b[0;34m\u001b[0m\u001b[0m\n\u001b[0;32m-> 1623\u001b[0;31m         name=name)\n\u001b[0m\u001b[1;32m   1624\u001b[0m     \u001b[0;32mreturn\u001b[0m \u001b[0marray_ops\u001b[0m\u001b[0;34m.\u001b[0m\u001b[0msqueeze\u001b[0m\u001b[0;34m(\u001b[0m\u001b[0mresult\u001b[0m\u001b[0;34m,\u001b[0m \u001b[0;34m[\u001b[0m\u001b[0mspatial_start_dim\u001b[0m\u001b[0;34m]\u001b[0m\u001b[0;34m)\u001b[0m\u001b[0;34m\u001b[0m\u001b[0;34m\u001b[0m\u001b[0m\n\u001b[1;32m   1625\u001b[0m \u001b[0;34m\u001b[0m\u001b[0m\n",
      "\u001b[0;32m/Library/Frameworks/Python.framework/Versions/3.7/lib/python3.7/site-packages/tensorflow/python/ops/gen_nn_ops.py\u001b[0m in \u001b[0;36mconv2d\u001b[0;34m(input, filter, strides, padding, use_cudnn_on_gpu, explicit_paddings, data_format, dilations, name)\u001b[0m\n\u001b[1;32m   1069\u001b[0m                   \u001b[0mpadding\u001b[0m\u001b[0;34m=\u001b[0m\u001b[0mpadding\u001b[0m\u001b[0;34m,\u001b[0m \u001b[0muse_cudnn_on_gpu\u001b[0m\u001b[0;34m=\u001b[0m\u001b[0muse_cudnn_on_gpu\u001b[0m\u001b[0;34m,\u001b[0m\u001b[0;34m\u001b[0m\u001b[0;34m\u001b[0m\u001b[0m\n\u001b[1;32m   1070\u001b[0m                   \u001b[0mexplicit_paddings\u001b[0m\u001b[0;34m=\u001b[0m\u001b[0mexplicit_paddings\u001b[0m\u001b[0;34m,\u001b[0m\u001b[0;34m\u001b[0m\u001b[0;34m\u001b[0m\u001b[0m\n\u001b[0;32m-> 1071\u001b[0;31m                   data_format=data_format, dilations=dilations, name=name)\n\u001b[0m\u001b[1;32m   1072\u001b[0m   \u001b[0m_result\u001b[0m \u001b[0;34m=\u001b[0m \u001b[0m_op\u001b[0m\u001b[0;34m.\u001b[0m\u001b[0moutputs\u001b[0m\u001b[0;34m[\u001b[0m\u001b[0;34m:\u001b[0m\u001b[0;34m]\u001b[0m\u001b[0;34m\u001b[0m\u001b[0;34m\u001b[0m\u001b[0m\n\u001b[1;32m   1073\u001b[0m   \u001b[0m_inputs_flat\u001b[0m \u001b[0;34m=\u001b[0m \u001b[0m_op\u001b[0m\u001b[0;34m.\u001b[0m\u001b[0minputs\u001b[0m\u001b[0;34m\u001b[0m\u001b[0;34m\u001b[0m\u001b[0m\n",
      "\u001b[0;32m/Library/Frameworks/Python.framework/Versions/3.7/lib/python3.7/site-packages/tensorflow/python/framework/op_def_library.py\u001b[0m in \u001b[0;36m_apply_op_helper\u001b[0;34m(self, op_type_name, name, **keywords)\u001b[0m\n\u001b[1;32m    561\u001b[0m                   \u001b[0;34m\"%s type %s of argument '%s'.\"\u001b[0m \u001b[0;34m%\u001b[0m\u001b[0;34m\u001b[0m\u001b[0;34m\u001b[0m\u001b[0m\n\u001b[1;32m    562\u001b[0m                   (prefix, dtypes.as_dtype(attrs[input_arg.type_attr]).name,\n\u001b[0;32m--> 563\u001b[0;31m                    inferred_from[input_arg.type_attr]))\n\u001b[0m\u001b[1;32m    564\u001b[0m \u001b[0;34m\u001b[0m\u001b[0m\n\u001b[1;32m    565\u001b[0m           \u001b[0mtypes\u001b[0m \u001b[0;34m=\u001b[0m \u001b[0;34m[\u001b[0m\u001b[0mvalues\u001b[0m\u001b[0;34m.\u001b[0m\u001b[0mdtype\u001b[0m\u001b[0;34m]\u001b[0m\u001b[0;34m\u001b[0m\u001b[0;34m\u001b[0m\u001b[0m\n",
      "\u001b[0;31mTypeError\u001b[0m: Input 'filter' of 'Conv2D' Op has type float32 that does not match type float64 of argument 'input'."
     ]
    }
   ],
   "source": [
    "train(train_dataset_midi, 20)"
   ]
  },
  {
   "cell_type": "code",
   "execution_count": 17,
   "id": "dated-syracuse",
   "metadata": {},
   "outputs": [],
   "source": [
    "generator.save(os.path.join(DATA_PATH,\"face_generator.h5\"))"
   ]
  },
  {
   "cell_type": "code",
   "execution_count": 29,
   "id": "viral-processor",
   "metadata": {},
   "outputs": [
    {
     "ename": "NameError",
     "evalue": "name 'generator' is not defined",
     "output_type": "error",
     "traceback": [
      "\u001b[0;31m---------------------------------------------------------------------------\u001b[0m",
      "\u001b[0;31mNameError\u001b[0m                                 Traceback (most recent call last)",
      "\u001b[0;32m<ipython-input-29-6f7f36587027>\u001b[0m in \u001b[0;36m<module>\u001b[0;34m\u001b[0m\n\u001b[1;32m      1\u001b[0m \u001b[0mnoise\u001b[0m \u001b[0;34m=\u001b[0m \u001b[0mtf\u001b[0m\u001b[0;34m.\u001b[0m\u001b[0mrandom\u001b[0m\u001b[0;34m.\u001b[0m\u001b[0mnormal\u001b[0m\u001b[0;34m(\u001b[0m\u001b[0;34m[\u001b[0m\u001b[0;36m1\u001b[0m\u001b[0;34m,\u001b[0m \u001b[0mSEED_SIZE\u001b[0m\u001b[0;34m]\u001b[0m\u001b[0;34m)\u001b[0m\u001b[0;34m\u001b[0m\u001b[0;34m\u001b[0m\u001b[0m\n\u001b[0;32m----> 2\u001b[0;31m \u001b[0mgenerated_image\u001b[0m \u001b[0;34m=\u001b[0m \u001b[0mgenerator\u001b[0m\u001b[0;34m(\u001b[0m\u001b[0mnoise\u001b[0m\u001b[0;34m,\u001b[0m \u001b[0mtraining\u001b[0m\u001b[0;34m=\u001b[0m\u001b[0;32mFalse\u001b[0m\u001b[0;34m)\u001b[0m\u001b[0;34m\u001b[0m\u001b[0;34m\u001b[0m\u001b[0m\n\u001b[0m\u001b[1;32m      3\u001b[0m \u001b[0;34m\u001b[0m\u001b[0m\n\u001b[1;32m      4\u001b[0m \u001b[0mplt\u001b[0m\u001b[0;34m.\u001b[0m\u001b[0mimshow\u001b[0m\u001b[0;34m(\u001b[0m\u001b[0mgenerated_image\u001b[0m\u001b[0;34m[\u001b[0m\u001b[0;36m0\u001b[0m\u001b[0;34m,\u001b[0m \u001b[0;34m:\u001b[0m\u001b[0;34m,\u001b[0m \u001b[0;34m:\u001b[0m\u001b[0;34m,\u001b[0m \u001b[0;36m0\u001b[0m\u001b[0;34m]\u001b[0m\u001b[0;34m)\u001b[0m\u001b[0;34m\u001b[0m\u001b[0;34m\u001b[0m\u001b[0m\n",
      "\u001b[0;31mNameError\u001b[0m: name 'generator' is not defined"
     ]
    }
   ],
   "source": [
    "noise = tf.random.normal([1, SEED_SIZE])\n",
    "generated_image = generator(noise, training=False)\n",
    "\n",
    "plt.imshow(generated_image[0, :, :, 0])"
   ]
  },
  {
   "cell_type": "code",
   "execution_count": null,
   "id": "intense-earthquake",
   "metadata": {},
   "outputs": [],
   "source": []
  }
 ],
 "metadata": {
  "kernelspec": {
   "display_name": "Python 3",
   "language": "python",
   "name": "python3"
  },
  "language_info": {
   "codemirror_mode": {
    "name": "ipython",
    "version": 3
   },
   "file_extension": ".py",
   "mimetype": "text/x-python",
   "name": "python",
   "nbconvert_exporter": "python",
   "pygments_lexer": "ipython3",
   "version": "3.7.1"
  }
 },
 "nbformat": 4,
 "nbformat_minor": 5
}
