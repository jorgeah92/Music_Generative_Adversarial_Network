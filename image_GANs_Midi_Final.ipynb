{
  "nbformat": 4,
  "nbformat_minor": 5,
  "metadata": {
    "kernelspec": {
      "display_name": "Python 3",
      "language": "python",
      "name": "python3"
    },
    "language_info": {
      "codemirror_mode": {
        "name": "ipython",
        "version": 3
      },
      "file_extension": ".py",
      "mimetype": "text/x-python",
      "name": "python",
      "nbconvert_exporter": "python",
      "pygments_lexer": "ipython3",
      "version": "3.7.1"
    },
    "colab": {
      "name": "image GANs-Midi_Revision.ipynb",
      "provenance": [],
      "collapsed_sections": []
    }
  },
  "cells": [
    {
      "source": [
        "# Image Gan Notebook\n",
        "**Jorge H, Hao W, Luke V, Tom N**\n",
        "\n",
        "w251 - Spring 2021, UC Berkeley"
      ],
      "cell_type": "markdown",
      "metadata": {}
    },
    {
      "cell_type": "code",
      "metadata": {
        "colab": {
          "base_uri": "https://localhost:8080/"
        },
        "id": "minute-harvey",
        "outputId": "d731a9c4-db09-4073-cbae-9ccaa23c862d"
      },
      "source": [
        "# For keeping tensorflow version consistent\n",
        "!pip3 install tensorflow==2.0.0"
      ],
      "id": "minute-harvey",
      "execution_count": null,
      "outputs": [
        {
          "output_type": "stream",
          "text": [
            "Collecting tensorflow==2.0.0\n",
            "\u001b[?25l  Downloading https://files.pythonhosted.org/packages/2a/5c/f1d66de5dde6f3ff528f6ea1fd0757a0e594d17debb3ec7f82daa967ea9a/tensorflow-2.0.0-cp37-cp37m-manylinux2010_x86_64.whl (86.3MB)\n",
            "\u001b[K     |████████████████████████████████| 86.3MB 64kB/s \n",
            "\u001b[?25hCollecting keras-applications>=1.0.8\n",
            "\u001b[?25l  Downloading https://files.pythonhosted.org/packages/71/e3/19762fdfc62877ae9102edf6342d71b28fbfd9dea3d2f96a882ce099b03f/Keras_Applications-1.0.8-py3-none-any.whl (50kB)\n",
            "\u001b[K     |████████████████████████████████| 51kB 4.6MB/s \n",
            "\u001b[?25hRequirement already satisfied: astor>=0.6.0 in /usr/local/lib/python3.7/dist-packages (from tensorflow==2.0.0) (0.8.1)\n",
            "Requirement already satisfied: keras-preprocessing>=1.0.5 in /usr/local/lib/python3.7/dist-packages (from tensorflow==2.0.0) (1.1.2)\n",
            "Requirement already satisfied: numpy<2.0,>=1.16.0 in /usr/local/lib/python3.7/dist-packages (from tensorflow==2.0.0) (1.19.5)\n",
            "Requirement already satisfied: opt-einsum>=2.3.2 in /usr/local/lib/python3.7/dist-packages (from tensorflow==2.0.0) (3.3.0)\n",
            "Collecting tensorboard<2.1.0,>=2.0.0\n",
            "\u001b[?25l  Downloading https://files.pythonhosted.org/packages/76/54/99b9d5d52d5cb732f099baaaf7740403e83fe6b0cedde940fabd2b13d75a/tensorboard-2.0.2-py3-none-any.whl (3.8MB)\n",
            "\u001b[K     |████████████████████████████████| 3.8MB 41.0MB/s \n",
            "\u001b[?25hRequirement already satisfied: wrapt>=1.11.1 in /usr/local/lib/python3.7/dist-packages (from tensorflow==2.0.0) (1.12.1)\n",
            "Requirement already satisfied: wheel>=0.26 in /usr/local/lib/python3.7/dist-packages (from tensorflow==2.0.0) (0.36.2)\n",
            "Requirement already satisfied: google-pasta>=0.1.6 in /usr/local/lib/python3.7/dist-packages (from tensorflow==2.0.0) (0.2.0)\n",
            "Requirement already satisfied: absl-py>=0.7.0 in /usr/local/lib/python3.7/dist-packages (from tensorflow==2.0.0) (0.12.0)\n",
            "Collecting gast==0.2.2\n",
            "  Downloading https://files.pythonhosted.org/packages/4e/35/11749bf99b2d4e3cceb4d55ca22590b0d7c2c62b9de38ac4a4a7f4687421/gast-0.2.2.tar.gz\n",
            "Requirement already satisfied: grpcio>=1.8.6 in /usr/local/lib/python3.7/dist-packages (from tensorflow==2.0.0) (1.32.0)\n",
            "Requirement already satisfied: termcolor>=1.1.0 in /usr/local/lib/python3.7/dist-packages (from tensorflow==2.0.0) (1.1.0)\n",
            "Collecting tensorflow-estimator<2.1.0,>=2.0.0\n",
            "\u001b[?25l  Downloading https://files.pythonhosted.org/packages/fc/08/8b927337b7019c374719145d1dceba21a8bb909b93b1ad6f8fb7d22c1ca1/tensorflow_estimator-2.0.1-py2.py3-none-any.whl (449kB)\n",
            "\u001b[K     |████████████████████████████████| 450kB 40.0MB/s \n",
            "\u001b[?25hRequirement already satisfied: protobuf>=3.6.1 in /usr/local/lib/python3.7/dist-packages (from tensorflow==2.0.0) (3.12.4)\n",
            "Requirement already satisfied: six>=1.10.0 in /usr/local/lib/python3.7/dist-packages (from tensorflow==2.0.0) (1.15.0)\n",
            "Requirement already satisfied: h5py in /usr/local/lib/python3.7/dist-packages (from keras-applications>=1.0.8->tensorflow==2.0.0) (2.10.0)\n",
            "Requirement already satisfied: google-auth<2,>=1.6.3 in /usr/local/lib/python3.7/dist-packages (from tensorboard<2.1.0,>=2.0.0->tensorflow==2.0.0) (1.28.0)\n",
            "Requirement already satisfied: requests<3,>=2.21.0 in /usr/local/lib/python3.7/dist-packages (from tensorboard<2.1.0,>=2.0.0->tensorflow==2.0.0) (2.23.0)\n",
            "Requirement already satisfied: markdown>=2.6.8 in /usr/local/lib/python3.7/dist-packages (from tensorboard<2.1.0,>=2.0.0->tensorflow==2.0.0) (3.3.4)\n",
            "Requirement already satisfied: setuptools>=41.0.0 in /usr/local/lib/python3.7/dist-packages (from tensorboard<2.1.0,>=2.0.0->tensorflow==2.0.0) (54.2.0)\n",
            "Requirement already satisfied: werkzeug>=0.11.15 in /usr/local/lib/python3.7/dist-packages (from tensorboard<2.1.0,>=2.0.0->tensorflow==2.0.0) (1.0.1)\n",
            "Requirement already satisfied: google-auth-oauthlib<0.5,>=0.4.1 in /usr/local/lib/python3.7/dist-packages (from tensorboard<2.1.0,>=2.0.0->tensorflow==2.0.0) (0.4.3)\n",
            "Requirement already satisfied: pyasn1-modules>=0.2.1 in /usr/local/lib/python3.7/dist-packages (from google-auth<2,>=1.6.3->tensorboard<2.1.0,>=2.0.0->tensorflow==2.0.0) (0.2.8)\n",
            "Requirement already satisfied: rsa<5,>=3.1.4; python_version >= \"3.6\" in /usr/local/lib/python3.7/dist-packages (from google-auth<2,>=1.6.3->tensorboard<2.1.0,>=2.0.0->tensorflow==2.0.0) (4.7.2)\n",
            "Requirement already satisfied: cachetools<5.0,>=2.0.0 in /usr/local/lib/python3.7/dist-packages (from google-auth<2,>=1.6.3->tensorboard<2.1.0,>=2.0.0->tensorflow==2.0.0) (4.2.1)\n",
            "Requirement already satisfied: chardet<4,>=3.0.2 in /usr/local/lib/python3.7/dist-packages (from requests<3,>=2.21.0->tensorboard<2.1.0,>=2.0.0->tensorflow==2.0.0) (3.0.4)\n",
            "Requirement already satisfied: certifi>=2017.4.17 in /usr/local/lib/python3.7/dist-packages (from requests<3,>=2.21.0->tensorboard<2.1.0,>=2.0.0->tensorflow==2.0.0) (2020.12.5)\n",
            "Requirement already satisfied: idna<3,>=2.5 in /usr/local/lib/python3.7/dist-packages (from requests<3,>=2.21.0->tensorboard<2.1.0,>=2.0.0->tensorflow==2.0.0) (2.10)\n",
            "Requirement already satisfied: urllib3!=1.25.0,!=1.25.1,<1.26,>=1.21.1 in /usr/local/lib/python3.7/dist-packages (from requests<3,>=2.21.0->tensorboard<2.1.0,>=2.0.0->tensorflow==2.0.0) (1.24.3)\n",
            "Requirement already satisfied: importlib-metadata; python_version < \"3.8\" in /usr/local/lib/python3.7/dist-packages (from markdown>=2.6.8->tensorboard<2.1.0,>=2.0.0->tensorflow==2.0.0) (3.8.1)\n",
            "Requirement already satisfied: requests-oauthlib>=0.7.0 in /usr/local/lib/python3.7/dist-packages (from google-auth-oauthlib<0.5,>=0.4.1->tensorboard<2.1.0,>=2.0.0->tensorflow==2.0.0) (1.3.0)\n",
            "Requirement already satisfied: pyasn1<0.5.0,>=0.4.6 in /usr/local/lib/python3.7/dist-packages (from pyasn1-modules>=0.2.1->google-auth<2,>=1.6.3->tensorboard<2.1.0,>=2.0.0->tensorflow==2.0.0) (0.4.8)\n",
            "Requirement already satisfied: typing-extensions>=3.6.4; python_version < \"3.8\" in /usr/local/lib/python3.7/dist-packages (from importlib-metadata; python_version < \"3.8\"->markdown>=2.6.8->tensorboard<2.1.0,>=2.0.0->tensorflow==2.0.0) (3.7.4.3)\n",
            "Requirement already satisfied: zipp>=0.5 in /usr/local/lib/python3.7/dist-packages (from importlib-metadata; python_version < \"3.8\"->markdown>=2.6.8->tensorboard<2.1.0,>=2.0.0->tensorflow==2.0.0) (3.4.1)\n",
            "Requirement already satisfied: oauthlib>=3.0.0 in /usr/local/lib/python3.7/dist-packages (from requests-oauthlib>=0.7.0->google-auth-oauthlib<0.5,>=0.4.1->tensorboard<2.1.0,>=2.0.0->tensorflow==2.0.0) (3.1.0)\n",
            "Building wheels for collected packages: gast\n",
            "  Building wheel for gast (setup.py) ... \u001b[?25l\u001b[?25hdone\n",
            "  Created wheel for gast: filename=gast-0.2.2-cp37-none-any.whl size=7540 sha256=40558294d232a6c440e64fd7b14926de208c9d327d369ff6806d0786edd0a1f5\n",
            "  Stored in directory: /root/.cache/pip/wheels/5c/2e/7e/a1d4d4fcebe6c381f378ce7743a3ced3699feb89bcfbdadadd\n",
            "Successfully built gast\n",
            "\u001b[31mERROR: tensorflow-probability 0.12.1 has requirement gast>=0.3.2, but you'll have gast 0.2.2 which is incompatible.\u001b[0m\n",
            "Installing collected packages: keras-applications, tensorboard, gast, tensorflow-estimator, tensorflow\n",
            "  Found existing installation: tensorboard 2.4.1\n",
            "    Uninstalling tensorboard-2.4.1:\n",
            "      Successfully uninstalled tensorboard-2.4.1\n",
            "  Found existing installation: gast 0.3.3\n",
            "    Uninstalling gast-0.3.3:\n",
            "      Successfully uninstalled gast-0.3.3\n",
            "  Found existing installation: tensorflow-estimator 2.4.0\n",
            "    Uninstalling tensorflow-estimator-2.4.0:\n",
            "      Successfully uninstalled tensorflow-estimator-2.4.0\n",
            "  Found existing installation: tensorflow 2.4.1\n",
            "    Uninstalling tensorflow-2.4.1:\n",
            "      Successfully uninstalled tensorflow-2.4.1\n",
            "Successfully installed gast-0.2.2 keras-applications-1.0.8 tensorboard-2.0.2 tensorflow-2.0.0 tensorflow-estimator-2.0.1\n"
          ],
          "name": "stdout"
        }
      ]
    },
    {
      "cell_type": "code",
      "metadata": {
        "colab": {
          "base_uri": "https://localhost:8080/"
        },
        "id": "d9JJlAJiT4Y2",
        "outputId": "d637a8cb-94da-4696-9986-11f843af80f5"
      },
      "source": [
        "# For a dependency\n",
        "!pip3 install mido"
      ],
      "id": "d9JJlAJiT4Y2",
      "execution_count": null,
      "outputs": [
        {
          "output_type": "stream",
          "text": [
            "Collecting mido\n",
            "\u001b[?25l  Downloading https://files.pythonhosted.org/packages/20/0a/81beb587b1ae832ea6a1901dc7c6faa380e8dd154e0a862f0a9f3d2afab9/mido-1.2.9-py2.py3-none-any.whl (52kB)\n",
            "\r\u001b[K     |██████▎                         | 10kB 12.5MB/s eta 0:00:01\r\u001b[K     |████████████▌                   | 20kB 15.8MB/s eta 0:00:01\r\u001b[K     |██████████████████▊             | 30kB 19.2MB/s eta 0:00:01\r\u001b[K     |█████████████████████████       | 40kB 22.4MB/s eta 0:00:01\r\u001b[K     |███████████████████████████████▏| 51kB 25.1MB/s eta 0:00:01\r\u001b[K     |████████████████████████████████| 61kB 6.0MB/s \n",
            "\u001b[?25hInstalling collected packages: mido\n",
            "Successfully installed mido-1.2.9\n"
          ],
          "name": "stdout"
        }
      ]
    },
    {
      "cell_type": "code",
      "metadata": {
        "scrolled": true,
        "id": "motivated-confusion"
      },
      "source": [
        "import tensorflow as tf\n",
        "from tensorflow.keras.layers import Input, Reshape, Dropout, Dense \n",
        "from tensorflow.keras.layers import Flatten, BatchNormalization\n",
        "from tensorflow.keras.layers import Activation, ZeroPadding2D,ZeroPadding1D\n",
        "from tensorflow.keras.layers import LeakyReLU\n",
        "from tensorflow.keras.layers import UpSampling2D, Conv2D, Conv1D,UpSampling1D\n",
        "from tensorflow.keras.models import Sequential, Model, load_model\n",
        "from tensorflow.keras.optimizers import Adam\n",
        "import numpy as np\n",
        "from PIL import Image\n",
        "from tqdm import tqdm\n",
        "import os \n",
        "import time\n",
        "import matplotlib.pyplot as plt\n",
        "import pandas as pd\n",
        "from mido import MidiFile, MidiTrack, Message\n",
        "from music21 import *\n",
        "from IPython.display import Image"
      ],
      "id": "motivated-confusion",
      "execution_count": null,
      "outputs": []
    },
    {
      "cell_type": "code",
      "metadata": {
        "colab": {
          "base_uri": "https://localhost:8080/"
        },
        "id": "level-questionnaire",
        "outputId": "2fe46580-c772-4119-9f39-b37aee0f5362"
      },
      "source": [
        "print(tf.__version__)"
      ],
      "id": "level-questionnaire",
      "execution_count": null,
      "outputs": [
        {
          "output_type": "stream",
          "text": [
            "2.0.0\n"
          ],
          "name": "stdout"
        }
      ]
    },
    {
      "cell_type": "code",
      "metadata": {
        "id": "automatic-pharmacology"
      },
      "source": [
        "# Nicely formatted time string\n",
        "def hms_string(sec_elapsed):\n",
        "    h = int(sec_elapsed / (60 * 60))\n",
        "    m = int((sec_elapsed % (60 * 60)) / 60)\n",
        "    s = sec_elapsed % 60\n",
        "    return \"{}:{:>02}:{:>05.2f}\".format(h, m, s)"
      ],
      "id": "automatic-pharmacology",
      "execution_count": null,
      "outputs": []
    },
    {
      "source": [
        "The following block contains parameters used later on in the notebook."
      ],
      "cell_type": "markdown",
      "metadata": {}
    },
    {
      "cell_type": "code",
      "metadata": {
        "id": "fresh-religion"
      },
      "source": [
        "# Size vector to generate images from\n",
        "SEED_SIZE = 100\n",
        "\n",
        "# Configuration\n",
        "EPOCHS = 50\n",
        "BATCH_SIZE = 32\n",
        "BUFFER_SIZE = 60000"
      ],
      "id": "fresh-religion",
      "execution_count": null,
      "outputs": []
    },
    {
      "cell_type": "markdown",
      "metadata": {
        "id": "focused-fireplace"
      },
      "source": [
        "# Midi data\n",
        "\n",
        "This sections is for loading the npy maestro data and perparing it for input into the GAN models."
      ],
      "id": "focused-fireplace"
    },
    {
      "cell_type": "code",
      "metadata": {
        "colab": {
          "base_uri": "https://localhost:8080/"
        },
        "id": "israeli-bridges",
        "outputId": "5e7090e1-a399-4ff3-fe84-257a128f9928"
      },
      "source": [
        "!ls"
      ],
      "id": "israeli-bridges",
      "execution_count": null,
      "outputs": [
        {
          "output_type": "stream",
          "text": [
            "All_Maestro_Parsed.npy\tsample_data\n"
          ],
          "name": "stdout"
        }
      ]
    },
    {
      "cell_type": "code",
      "metadata": {
        "id": "tamil-exhaust"
      },
      "source": [
        "training_data_midi = np.load('All_Maestro_Parsed.npy')"
      ],
      "id": "tamil-exhaust",
      "execution_count": null,
      "outputs": []
    },
    {
      "cell_type": "code",
      "metadata": {
        "colab": {
          "base_uri": "https://localhost:8080/"
        },
        "id": "entertaining-grace",
        "outputId": "f034f2b3-4c6e-4f0d-d6d8-47baa81b5918"
      },
      "source": [
        "training_data_midi.shape"
      ],
      "id": "entertaining-grace",
      "execution_count": null,
      "outputs": [
        {
          "output_type": "execute_result",
          "data": {
            "text/plain": [
              "(15300, 200, 3)"
            ]
          },
          "metadata": {
            "tags": []
          },
          "execution_count": 8
        }
      ]
    },
    {
      "cell_type": "code",
      "metadata": {
        "id": "eD-pPw6PW68j"
      },
      "source": [
        "# training_data_midi[:,:,1] = training_data_midi[:,:,1]*100\n",
        "# training_data_midi[:,:,2] = training_data_midi[:,:,2]*100"
      ],
      "id": "eD-pPw6PW68j",
      "execution_count": null,
      "outputs": []
    },
    {
      "cell_type": "code",
      "metadata": {
        "colab": {
          "base_uri": "https://localhost:8080/"
        },
        "id": "governing-boston",
        "outputId": "f82ee28b-6837-4b63-f445-5a7a40f2feb8"
      },
      "source": [
        "training_data_midi[0]"
      ],
      "id": "governing-boston",
      "execution_count": null,
      "outputs": [
        {
          "output_type": "execute_result",
          "data": {
            "text/plain": [
              "array([[1.81818182e-01, 8.45376135e-03, 0.00000000e+00],\n",
              "       [2.61363636e-01, 9.27628948e-02, 1.71360027e-04],\n",
              "       [1.70454545e-01, 1.23379220e-02, 7.19712115e-03],\n",
              "       [1.25000000e-01, 5.94048095e-02, 7.19712115e-03],\n",
              "       [1.81818182e-01, 6.07756897e-02, 5.27217684e-02],\n",
              "       [2.72727273e-01, 2.09630434e-02, 1.73073628e-02],\n",
              "       [2.50000000e-01, 2.23339236e-02, 1.57651225e-02],\n",
              "       [2.61363636e-01, 9.82464157e-02, 1.97635232e-02],\n",
              "       [1.70454545e-01, 7.59696122e-03, 7.31136117e-03],\n",
              "       [1.25000000e-01, 5.85480094e-02, 8.22528132e-03],\n",
              "       [1.81818182e-01, 6.32318501e-02, 5.12937682e-02],\n",
              "       [2.72727273e-01, 2.51328040e-02, 2.16484835e-02],\n",
              "       [2.50000000e-01, 1.81641629e-02, 1.79356829e-02],\n",
              "       [2.61363636e-01, 2.62809162e-01, 1.58793625e-02],\n",
              "       [1.70454545e-01, 1.02244816e-02, 7.31136117e-03],\n",
              "       [1.25000000e-01, 3.90129662e-02, 8.79648141e-03],\n",
              "       [1.81818182e-01, 2.05632033e-03, 4.03838465e-02],\n",
              "       [1.81818182e-01, 4.16976067e-03, 2.26766436e-02],\n",
              "       [1.70454545e-01, 5.31216085e-03, 6.28320101e-03],\n",
              "       [1.25000000e-01, 1.89067230e-02, 7.76832124e-03],\n",
              "       [1.81818182e-01, 5.42640087e-03, 1.68504027e-02],\n",
              "       [1.70454545e-01, 4.79808077e-03, 6.79728109e-03],\n",
              "       [1.25000000e-01, 1.82784029e-03, 7.88256126e-03],\n",
              "       [1.25000000e-01, 1.94208031e-03, 1.79356829e-02],\n",
              "       [1.81818182e-01, 2.22768036e-03, 1.92494431e-02],\n",
              "       [1.70454545e-01, 1.88496030e-03, 1.50225624e-02],\n",
              "       [1.81818182e-01, 1.99920032e-03, 1.19952019e-02],\n",
              "       [1.70454545e-01, 2.17056035e-03, 1.18809619e-02],\n",
              "       [1.25000000e-01, 2.28480037e-03, 1.59364825e-02],\n",
              "       [1.81818182e-01, 2.05632033e-03, 4.40395270e-02],\n",
              "       [4.54545455e-01, 1.65648027e-03, 7.42560119e-04],\n",
              "       [4.77272727e-01, 3.59856058e-03, 1.81641629e-02],\n",
              "       [1.81818182e-01, 1.71360027e-03, 2.68464043e-03],\n",
              "       [4.88636364e-01, 6.34032101e-03, 1.99920032e-03],\n",
              "       [2.61363636e-01, 2.57040041e-03, 1.02816016e-03],\n",
              "       [3.52272727e-01, 1.59936026e-03, 2.57040041e-03],\n",
              "       [5.11363636e-01, 7.53984121e-03, 3.31296053e-03],\n",
              "       [1.81818182e-01, 1.82784029e-03, 4.56960073e-03],\n",
              "       [5.34090909e-01, 2.74176044e-03, 1.48512024e-03],\n",
              "       [2.61363636e-01, 1.08528017e-03, 6.28320101e-04],\n",
              "       [3.52272727e-01, 7.42560119e-04, 1.14240018e-03],\n",
              "       [4.88636364e-01, 7.99680128e-04, 1.37088022e-03],\n",
              "       [4.77272727e-01, 1.77072028e-03, 9.13920146e-04],\n",
              "       [4.88636364e-01, 4.22688068e-03, 2.11344034e-03],\n",
              "       [4.77272727e-01, 2.74176044e-03, 3.25584052e-03],\n",
              "       [1.81818182e-01, 2.22768036e-03, 1.42800023e-03],\n",
              "       [2.61363636e-01, 2.17056035e-03, 1.37088022e-03],\n",
              "       [4.54545455e-01, 1.48512024e-03, 1.08528017e-03],\n",
              "       [3.52272727e-01, 1.71360027e-03, 6.85440110e-04],\n",
              "       [1.81818182e-01, 1.13097618e-02, 1.10241618e-02],\n",
              "       [2.61363636e-01, 6.34032101e-03, 5.71200091e-03],\n",
              "       [5.90909091e-01, 1.06814417e-02, 4.79808077e-03],\n",
              "       [3.52272727e-01, 2.85600046e-04, 7.99680128e-04],\n",
              "       [5.11363636e-01, 6.28320101e-04, 9.88176158e-03],\n",
              "       [5.34090909e-01, 5.14080082e-03, 1.21094419e-02],\n",
              "       [2.38636364e-01, 2.17056035e-03, 2.68464043e-03],\n",
              "       [3.18181818e-01, 4.56960073e-04, 2.68464043e-03],\n",
              "       [5.45454545e-01, 3.42720055e-03, 3.42720055e-04],\n",
              "       [4.09090909e-01, 7.42560119e-04, 2.85600046e-04],\n",
              "       [5.68181818e-01, 4.16976067e-03, 2.85600046e-03],\n",
              "       [2.38636364e-01, 6.85440110e-04, 3.25584052e-03],\n",
              "       [3.18181818e-01, 8.56800137e-04, 4.56960073e-04],\n",
              "       [5.90909091e-01, 2.62752042e-03, 1.14240018e-04],\n",
              "       [4.09090909e-01, 3.99840064e-04, 5.71200091e-04],\n",
              "       [5.45454545e-01, 0.00000000e+00, 2.28480037e-03],\n",
              "       [5.45454545e-01, 2.22768036e-03, 1.48512024e-03],\n",
              "       [5.68181818e-01, 3.54144057e-03, 3.59856058e-03],\n",
              "       [1.81818182e-01, 1.77072028e-03, 2.57040041e-03],\n",
              "       [5.45454545e-01, 1.42800023e-03, 5.14080082e-04],\n",
              "       [2.61363636e-01, 2.68464043e-03, 7.99680128e-04],\n",
              "       [5.22727273e-01, 1.31376021e-03, 1.99920032e-03],\n",
              "       [3.52272727e-01, 1.31376021e-03, 9.71040155e-04],\n",
              "       [5.34090909e-01, 1.77072028e-03, 2.28480037e-04],\n",
              "       [1.81818182e-01, 4.28400069e-03, 9.42480151e-03],\n",
              "       [2.61363636e-01, 1.99920032e-03, 4.05552065e-03],\n",
              "       [4.88636364e-01, 1.44513623e-02, 8.56800137e-04],\n",
              "       [3.52272727e-01, 6.85440110e-04, 0.00000000e+00],\n",
              "       [5.11363636e-01, 2.05632033e-03, 3.99840064e-04],\n",
              "       [4.54545455e-01, 3.99840064e-04, 1.44513623e-02],\n",
              "       [4.77272727e-01, 3.48432056e-03, 1.08528017e-02],\n",
              "       [1.81818182e-01, 1.99920032e-03, 1.02816016e-03],\n",
              "       [2.61363636e-01, 6.28320101e-04, 2.51328040e-03],\n",
              "       [4.88636364e-01, 5.19792083e-03, 1.71360027e-04],\n",
              "       [3.52272727e-01, 7.42560119e-04, 2.85600046e-04],\n",
              "       [5.11363636e-01, 4.11264066e-03, 2.45616039e-03],\n",
              "       [1.81818182e-01, 7.99680128e-04, 2.39904038e-03],\n",
              "       [2.61363636e-01, 1.14240018e-03, 4.56960073e-04],\n",
              "       [5.34090909e-01, 1.14240018e-03, 3.42720055e-04],\n",
              "       [3.52272727e-01, 3.42720055e-04, 4.56960073e-04],\n",
              "       [4.88636364e-01, 2.79888045e-03, 6.28320101e-04],\n",
              "       [4.77272727e-01, 9.13920146e-04, 3.25584052e-03],\n",
              "       [4.88636364e-01, 4.79808077e-03, 1.71360027e-03],\n",
              "       [4.77272727e-01, 3.02736048e-03, 3.42720055e-03],\n",
              "       [1.81818182e-01, 1.71360027e-03, 2.85600046e-04],\n",
              "       [2.61363636e-01, 2.28480037e-03, 1.71360027e-03],\n",
              "       [4.54545455e-01, 1.19952019e-03, 9.71040155e-04],\n",
              "       [3.52272727e-01, 1.37088022e-03, 9.71040155e-04],\n",
              "       [1.81818182e-01, 5.99760096e-03, 8.68224139e-03],\n",
              "       [2.61363636e-01, 4.62672074e-03, 3.88416062e-03],\n",
              "       [5.34090909e-01, 8.51088136e-03, 5.71200091e-05],\n",
              "       [3.52272727e-01, 3.99840064e-03, 6.28320101e-04],\n",
              "       [5.22727273e-01, 5.71200091e-05, 2.97024048e-03],\n",
              "       [5.34090909e-01, 6.28320101e-04, 9.88176158e-03],\n",
              "       [3.97727273e-01, 1.59936026e-03, 5.14080082e-04],\n",
              "       [4.20454545e-01, 2.74176044e-03, 1.07385617e-02],\n",
              "       [2.95454545e-01, 6.34032101e-03, 1.14240018e-04],\n",
              "       [3.40909091e-01, 3.88416062e-03, 4.56960073e-04],\n",
              "       [4.31818182e-01, 6.51168104e-03, 1.71360027e-04],\n",
              "       [2.04545455e-01, 5.14080082e-03, 5.71200091e-05],\n",
              "       [4.54545455e-01, 5.88336094e-03, 3.99840064e-03],\n",
              "       [3.40909091e-01, 4.11264066e-03, 3.08448049e-03],\n",
              "       [4.77272727e-01, 6.39744102e-03, 1.14240018e-04],\n",
              "       [2.84090909e-01, 4.34112069e-03, 5.71200091e-05],\n",
              "       [2.04545455e-01, 3.82704061e-03, 2.28480037e-04],\n",
              "       [3.86363636e-01, 4.56960073e-03, 4.74096076e-03],\n",
              "       [3.97727273e-01, 7.08288113e-03, 7.42560119e-03],\n",
              "       [2.61363636e-01, 1.25664020e-03, 4.11264066e-03],\n",
              "       [3.40909091e-01, 5.42640087e-03, 5.71200091e-04],\n",
              "       [4.43181818e-01, 4.34112069e-03, 2.97024048e-03],\n",
              "       [3.97727273e-01, 1.34803222e-02, 9.88176158e-03],\n",
              "       [2.61363636e-01, 2.63323242e-02, 3.59856058e-03],\n",
              "       [3.75000000e-01, 1.76500828e-02, 7.08288113e-03],\n",
              "       [4.09090909e-01, 1.59936026e-03, 4.91232079e-03],\n",
              "       [4.43181818e-01, 1.09670418e-02, 1.31376021e-03],\n",
              "       [4.31818182e-01, 4.96944080e-03, 6.28320101e-04],\n",
              "       [4.09090909e-01, 1.11955218e-02, 1.88496030e-03],\n",
              "       [3.97727273e-01, 7.59696122e-03, 1.14811218e-02],\n",
              "       [4.54545455e-01, 1.65648027e-03, 8.22528132e-03],\n",
              "       [4.77272727e-01, 2.57040041e-03, 1.69646427e-02],\n",
              "       [1.81818182e-01, 2.28480037e-03, 1.37088022e-03],\n",
              "       [2.61363636e-01, 1.19952019e-03, 2.51328040e-03],\n",
              "       [4.88636364e-01, 2.22768036e-03, 2.28480037e-04],\n",
              "       [3.52272727e-01, 8.56800137e-04, 8.56800137e-04],\n",
              "       [5.11363636e-01, 4.74096076e-03, 1.31376021e-03],\n",
              "       [1.81818182e-01, 1.88496030e-03, 2.34192037e-03],\n",
              "       [5.34090909e-01, 1.54224025e-03, 1.77072028e-03],\n",
              "       [2.61363636e-01, 6.28320101e-04, 1.71360027e-04],\n",
              "       [3.52272727e-01, 2.85600046e-04, 8.56800137e-04],\n",
              "       [4.88636364e-01, 5.71200091e-05, 1.02816016e-03],\n",
              "       [4.77272727e-01, 1.94208031e-03, 1.19952019e-03],\n",
              "       [4.88636364e-01, 3.71280059e-03, 2.85600046e-03],\n",
              "       [4.77272727e-01, 1.71360027e-03, 3.65568058e-03],\n",
              "       [2.61363636e-01, 2.05632033e-03, 2.85600046e-03],\n",
              "       [4.54545455e-01, 1.37088022e-03, 5.71200091e-04],\n",
              "       [1.81818182e-01, 2.28480037e-03, 5.71200091e-05],\n",
              "       [3.52272727e-01, 1.82784029e-03, 6.85440110e-04],\n",
              "       [1.81818182e-01, 7.36848118e-03, 1.07956817e-02],\n",
              "       [2.61363636e-01, 3.65568058e-03, 6.34032101e-03],\n",
              "       [3.52272727e-01, 4.96944080e-03, 1.14240018e-04],\n",
              "       [5.90909091e-01, 4.22688068e-03, 1.71360027e-04],\n",
              "       [5.90909091e-01, 3.08448049e-03, 8.62512138e-03],\n",
              "       [5.11363636e-01, 1.71360027e-04, 3.76992060e-03],\n",
              "       [5.34090909e-01, 1.09099217e-02, 1.11384018e-02],\n",
              "       [2.38636364e-01, 4.91232079e-03, 4.16976067e-03],\n",
              "       [3.18181818e-01, 2.68464043e-03, 4.74096076e-03],\n",
              "       [5.45454545e-01, 5.02656080e-03, 1.71360027e-04],\n",
              "       [4.09090909e-01, 9.13920146e-04, 2.28480037e-03],\n",
              "       [5.68181818e-01, 1.82784029e-03, 2.11344034e-03],\n",
              "       [2.38636364e-01, 7.99680128e-04, 6.85440110e-04],\n",
              "       [5.90909091e-01, 5.76912092e-03, 6.28320101e-04],\n",
              "       [3.18181818e-01, 1.19952019e-03, 6.28320101e-04],\n",
              "       [4.09090909e-01, 1.31376021e-03, 2.28480037e-04],\n",
              "       [5.45454545e-01, 1.31376021e-03, 3.08448049e-03],\n",
              "       [5.45454545e-01, 9.13920146e-04, 1.65648027e-03],\n",
              "       [5.68181818e-01, 3.65568058e-03, 2.45616039e-03],\n",
              "       [5.45454545e-01, 2.45616039e-03, 2.85600046e-03],\n",
              "       [1.81818182e-01, 2.28480037e-03, 8.56800137e-04],\n",
              "       [5.34090909e-01, 1.14240018e-03, 1.77072028e-03],\n",
              "       [2.61363636e-01, 2.85600046e-03, 3.42720055e-04],\n",
              "       [3.52272727e-01, 1.37088022e-03, 2.05632033e-03],\n",
              "       [1.81818182e-01, 5.42640087e-03, 1.03387217e-02],\n",
              "       [2.61363636e-01, 2.22768036e-03, 3.94128063e-03],\n",
              "       [4.88636364e-01, 1.11384018e-02, 7.99680128e-04],\n",
              "       [3.52272727e-01, 1.25664020e-03, 2.85600046e-04],\n",
              "       [4.54545455e-01, 3.99840064e-04, 1.15953619e-02],\n",
              "       [4.77272727e-01, 4.79808077e-03, 8.51088136e-03],\n",
              "       [1.81818182e-01, 6.85440110e-04, 6.85440110e-04],\n",
              "       [2.61363636e-01, 2.34192037e-03, 5.71200091e-04],\n",
              "       [3.52272727e-01, 1.71360027e-03, 2.51328040e-03],\n",
              "       [4.88636364e-01, 4.45536071e-03, 2.28480037e-04],\n",
              "       [5.11363636e-01, 4.39824070e-03, 2.39904038e-03],\n",
              "       [1.81818182e-01, 9.71040155e-04, 1.37088022e-03],\n",
              "       [2.61363636e-01, 2.79888045e-03, 6.85440110e-04],\n",
              "       [5.34090909e-01, 4.11264066e-03, 6.85440110e-04],\n",
              "       [3.52272727e-01, 7.99680128e-04, 1.65648027e-03],\n",
              "       [4.88636364e-01, 2.74176044e-03, 5.08368081e-03],\n",
              "       [4.77272727e-01, 2.57040041e-03, 3.59856058e-03],\n",
              "       [4.88636364e-01, 2.57040041e-03, 3.08448049e-03],\n",
              "       [4.77272727e-01, 3.02736048e-03, 7.42560119e-04],\n",
              "       [1.81818182e-01, 1.59936026e-03, 1.42800023e-03],\n",
              "       [2.61363636e-01, 2.74176044e-03, 8.56800137e-04],\n",
              "       [4.54545455e-01, 1.14240018e-03, 3.99840064e-04],\n",
              "       [3.52272727e-01, 7.42560119e-04, 1.59936026e-03],\n",
              "       [1.81818182e-01, 2.57040041e-03, 1.31376021e-03],\n",
              "       [2.61363636e-01, 5.19792083e-03, 1.02816016e-03],\n",
              "       [2.27272727e-01, 4.79808077e-03, 5.71200091e-05],\n",
              "       [3.52272727e-01, 2.79888045e-03, 3.31296053e-03],\n",
              "       [5.34090909e-01, 8.51088136e-03, 2.28480037e-04],\n",
              "       [5.34090909e-01, 1.14240018e-03, 1.35374422e-02],\n",
              "       [3.97727273e-01, 6.85440110e-04, 1.08528017e-03]])"
            ]
          },
          "metadata": {
            "tags": []
          },
          "execution_count": 38
        }
      ]
    },
    {
      "cell_type": "code",
      "metadata": {
        "id": "right-expert"
      },
      "source": [
        "# Smaller testing section of the training data\n",
        "train_data_midi_temp = training_data_midi[:3000,:192,:]"
      ],
      "id": "right-expert",
      "execution_count": null,
      "outputs": []
    },
    {
      "cell_type": "code",
      "metadata": {
        "colab": {
          "base_uri": "https://localhost:8080/"
        },
        "id": "right-ghana",
        "outputId": "6af59b25-5e6f-4af8-c939-8258a219f53d"
      },
      "source": [
        "train_data_midi_temp.shape"
      ],
      "id": "right-ghana",
      "execution_count": null,
      "outputs": [
        {
          "output_type": "execute_result",
          "data": {
            "text/plain": [
              "(3000, 192, 3)"
            ]
          },
          "metadata": {
            "tags": []
          },
          "execution_count": 12
        }
      ]
    },
    {
      "cell_type": "code",
      "metadata": {
        "id": "heGnsPMbVxcQ"
      },
      "source": [
        "# To address error that occurs when training with the data. Doesn't support format float 64\n",
        "train_data_midi_temp = np.float32(train_data_midi_temp)"
      ],
      "id": "heGnsPMbVxcQ",
      "execution_count": null,
      "outputs": []
    },
    {
      "cell_type": "code",
      "metadata": {
        "id": "ai17JwUoapYH"
      },
      "source": [
        "training_data_midi = np.float32(training_data_midi)"
      ],
      "id": "ai17JwUoapYH",
      "execution_count": null,
      "outputs": []
    },
    {
      "cell_type": "code",
      "metadata": {
        "id": "light-pacific"
      },
      "source": [
        "# Cutting our length of the matrix to properly fit size of the output\n",
        "train_dataset_midi = tf.data.Dataset.from_tensor_slices(training_data_midi[:,:192,:]) \\\n",
        "    .shuffle(BUFFER_SIZE).batch(BATCH_SIZE)"
      ],
      "id": "light-pacific",
      "execution_count": null,
      "outputs": []
    },
    {
      "cell_type": "code",
      "metadata": {
        "id": "WhlN9sqa99KU"
      },
      "source": [
        "train_dataset_midi = tf.data.Dataset.from_tensor_slices(train_data_midi_temp) \\\n",
        "    .shuffle(BUFFER_SIZE).batch(BATCH_SIZE)"
      ],
      "id": "WhlN9sqa99KU",
      "execution_count": null,
      "outputs": []
    },
    {
      "cell_type": "code",
      "metadata": {
        "colab": {
          "base_uri": "https://localhost:8080/"
        },
        "id": "bound-trunk",
        "outputId": "3899cb2b-963d-441f-cff1-bd26e47ec342"
      },
      "source": [
        "train_dataset_midi"
      ],
      "id": "bound-trunk",
      "execution_count": null,
      "outputs": [
        {
          "output_type": "execute_result",
          "data": {
            "text/plain": [
              "<BatchDataset shapes: (None, 192, 3), types: tf.float32>"
            ]
          },
          "metadata": {
            "tags": []
          },
          "execution_count": 43
        }
      ]
    },
    {
      "cell_type": "code",
      "metadata": {
        "id": "bound-owner"
      },
      "source": [
        "def build_generator(seed_size, channels):\n",
        "    model = Sequential()\n",
        "\n",
        "    model.add(Dense(4*256, activation=\"relu\",input_dim=SEED_SIZE))\n",
        "    model.add(Reshape((4,256)))\n",
        "\n",
        "    model.add(UpSampling1D())\n",
        "    model.add(Conv1D(256,kernel_size=2,padding=\"same\"))\n",
        "    model.add(BatchNormalization(momentum=0.5))\n",
        "    model.add(Activation(\"relu\"))\n",
        "\n",
        "    model.add(UpSampling1D())\n",
        "    model.add(Conv1D(128,kernel_size=2,padding=\"same\"))\n",
        "    model.add(BatchNormalization(momentum=0.5))\n",
        "    model.add(Activation(\"relu\"))\n",
        "\n",
        "    # Output resolution, additional upsampling\n",
        "    model.add(UpSampling1D())\n",
        "    model.add(Conv1D(64,kernel_size=2,padding=\"same\"))\n",
        "    model.add(BatchNormalization(momentum=0.5))\n",
        "    model.add(Activation(\"relu\"))\n",
        "\n",
        "    model.add(UpSampling1D())\n",
        "    model.add(Conv1D(32,kernel_size=2,padding=\"same\"))\n",
        "    model.add(BatchNormalization(momentum=0.5))\n",
        "    model.add(Activation(\"relu\"))\n",
        "\n",
        "    model.add(UpSampling1D(size=3))\n",
        "    model.add(Conv1D(16,kernel_size=2,padding=\"same\"))\n",
        "    model.add(BatchNormalization(momentum=0.5))\n",
        "    model.add(Activation(\"relu\"))\n",
        "\n",
        "    # Final CNN layer\n",
        "    model.add(Conv1D(3,kernel_size=2,padding=\"same\"))\n",
        "    model.add(Activation(\"tanh\"))\n",
        "    \n",
        "    return model"
      ],
      "id": "bound-owner",
      "execution_count": null,
      "outputs": []
    },
    {
      "cell_type": "code",
      "metadata": {
        "id": "4zRSXlpHHgIh"
      },
      "source": [
        "def build_discriminator(image_shape):\n",
        "    model = Sequential()\n",
        "\n",
        "    model.add(Conv1D(16, kernel_size=3, strides=2, input_shape=image_shape, padding=\"same\"))\n",
        "    model.add(LeakyReLU(alpha=0.2))\n",
        "\n",
        "    model.add(Dropout(0.25))\n",
        "    model.add(Conv1D(32, kernel_size=3, strides=2, padding=\"same\"))\n",
        "    model.add(ZeroPadding1D(padding=((0,1))))\n",
        "    model.add(BatchNormalization(momentum=0.8))\n",
        "    model.add(LeakyReLU(alpha=0.2))\n",
        "\n",
        "    model.add(Dropout(0.25))\n",
        "    model.add(Conv1D(64, kernel_size=3, strides=2, padding=\"same\"))\n",
        "    model.add(ZeroPadding1D(padding=((0,1))))\n",
        "    model.add(BatchNormalization(momentum=0.8))\n",
        "    model.add(LeakyReLU(alpha=0.2))\n",
        "\n",
        "    model.add(Dropout(0.25))\n",
        "    model.add(Conv1D(128, kernel_size=3, strides=2, padding=\"same\"))\n",
        "    model.add(BatchNormalization(momentum=0.8))\n",
        "    model.add(LeakyReLU(alpha=0.2))\n",
        "\n",
        "    model.add(Dropout(0.25))\n",
        "    model.add(Conv1D(256, kernel_size=3, strides=2, padding=\"same\"))\n",
        "    model.add(BatchNormalization(momentum=0.8))\n",
        "    model.add(LeakyReLU(alpha=0.2))\n",
        "\n",
        "    model.add(Dropout(0.25))\n",
        "    model.add(Conv1D(512, kernel_size=3, strides=2, padding=\"same\"))\n",
        "    model.add(BatchNormalization(momentum=0.8))\n",
        "    model.add(LeakyReLU(alpha=0.2))\n",
        "\n",
        "    model.add(Dropout(0.2))\n",
        "    model.add(Flatten())\n",
        "    model.add(Dense(1, activation='sigmoid'))\n",
        "    \n",
        "    return model"
      ],
      "id": "4zRSXlpHHgIh",
      "execution_count": null,
      "outputs": []
    },
    {
      "cell_type": "code",
      "metadata": {
        "id": "jcwKnvrB7rDY"
      },
      "source": [
        "def build_discriminator(image_shape):\n",
        "    model = Sequential()\n",
        "\n",
        "    model.add(Conv1D(16, kernel_size=2, strides=1, input_shape=image_shape, padding=\"same\"))\n",
        "    model.add(LeakyReLU(alpha=0.2))\n",
        "\n",
        "    model.add(Dropout(0.25))\n",
        "    model.add(Conv1D(32, kernel_size=3, strides=2, padding=\"same\"))\n",
        "    model.add(ZeroPadding1D(padding=((0,1))))\n",
        "    model.add(BatchNormalization(momentum=0.8))\n",
        "    model.add(LeakyReLU(alpha=0.2))\n",
        "\n",
        "    model.add(Dropout(0.25))\n",
        "    model.add(Conv1D(64, kernel_size=2, strides=1, padding=\"same\"))\n",
        "    model.add(ZeroPadding1D(padding=((0,1))))\n",
        "    model.add(BatchNormalization(momentum=0.8))\n",
        "    model.add(LeakyReLU(alpha=0.2))\n",
        "\n",
        "    model.add(Dropout(0.25))\n",
        "    model.add(Conv1D(128, kernel_size=3, strides=2, padding=\"same\"))\n",
        "    model.add(BatchNormalization(momentum=0.8))\n",
        "    model.add(LeakyReLU(alpha=0.2))\n",
        "\n",
        "    model.add(Dropout(0.25))\n",
        "    model.add(Conv1D(256, kernel_size=3, strides=2, padding=\"same\"))\n",
        "    model.add(BatchNormalization(momentum=0.8))\n",
        "    model.add(LeakyReLU(alpha=0.2))\n",
        "\n",
        "    model.add(Dropout(0.25))\n",
        "    model.add(Conv1D(512, kernel_size=3, strides=2, padding=\"same\"))\n",
        "    model.add(BatchNormalization(momentum=0.8))\n",
        "    model.add(LeakyReLU(alpha=0.2))\n",
        "\n",
        "    model.add(Dropout(0.2))\n",
        "    model.add(Flatten())\n",
        "    model.add(Dense(1, activation='sigmoid'))\n",
        "    \n",
        "    return model"
      ],
      "id": "jcwKnvrB7rDY",
      "execution_count": null,
      "outputs": []
    },
    {
      "cell_type": "code",
      "metadata": {
        "id": "adapted-capture"
      },
      "source": [
        "image_shape = (192,3)\n",
        "\n",
        "generator = build_generator(SEED_SIZE, 3)\n",
        "discriminator = build_discriminator(image_shape)"
      ],
      "id": "adapted-capture",
      "execution_count": null,
      "outputs": []
    },
    {
      "cell_type": "code",
      "metadata": {
        "id": "macro-southwest"
      },
      "source": [
        "# This method returns a helper function to compute cross entropy loss\n",
        "cross_entropy = tf.keras.losses.BinaryCrossentropy()\n",
        "\n",
        "def discriminator_loss(real_output, fake_output):\n",
        "    real_loss = cross_entropy(tf.ones_like(real_output), real_output)\n",
        "    fake_loss = cross_entropy(tf.zeros_like(fake_output), fake_output)\n",
        "    total_loss = real_loss + fake_loss\n",
        "    return total_loss\n",
        "\n",
        "def generator_loss(fake_output):\n",
        "    return cross_entropy(tf.ones_like(fake_output), fake_output)"
      ],
      "id": "macro-southwest",
      "execution_count": null,
      "outputs": []
    },
    {
      "cell_type": "code",
      "metadata": {
        "id": "solid-philosophy"
      },
      "source": [
        "generator_optimizer = tf.keras.optimizers.Adam(1.0e-4,0.5)\n",
        "discriminator_optimizer = tf.keras.optimizers.Adam(7.5e-5,0.5)"
      ],
      "id": "solid-philosophy",
      "execution_count": null,
      "outputs": []
    },
    {
      "cell_type": "code",
      "metadata": {
        "id": "white-impression"
      },
      "source": [
        "# Notice the use of `tf.function`\n",
        "# This annotation causes the function to be \"compiled\".\n",
        "@tf.function\n",
        "def train_step(images):\n",
        "    seed = tf.random.normal([BATCH_SIZE, SEED_SIZE])\n",
        "\n",
        "    with tf.GradientTape() as gen_tape, tf.GradientTape() as disc_tape:\n",
        "        generated_images = generator(seed, training=True)\n",
        "\n",
        "        real_output = discriminator(images, training=True)\n",
        "        fake_output = discriminator(generated_images, training=True)\n",
        "\n",
        "        gen_loss = generator_loss(fake_output)\n",
        "        disc_loss = discriminator_loss(real_output, fake_output)\n",
        "    \n",
        "\n",
        "        gradients_of_generator = gen_tape.gradient(\\\n",
        "            gen_loss, generator.trainable_variables)\n",
        "        gradients_of_discriminator = disc_tape.gradient(\\\n",
        "            disc_loss, discriminator.trainable_variables)\n",
        "\n",
        "        generator_optimizer.apply_gradients(zip(\n",
        "            gradients_of_generator, generator.trainable_variables))\n",
        "        discriminator_optimizer.apply_gradients(zip(\n",
        "            gradients_of_discriminator, \n",
        "            discriminator.trainable_variables))\n",
        "    return gen_loss,disc_loss"
      ],
      "id": "white-impression",
      "execution_count": null,
      "outputs": []
    },
    {
      "cell_type": "code",
      "metadata": {
        "id": "adequate-protocol"
      },
      "source": [
        "def train(dataset, epochs):\n",
        "    #fixed_seed = np.random.normal(0, 1, (PREVIEW_ROWS * PREVIEW_COLS, \n",
        "    #                                   SEED_SIZE))\n",
        "    start = time.time()\n",
        "\n",
        "    for epoch in range(epochs):\n",
        "        epoch_start = time.time()\n",
        "\n",
        "        gen_loss_list = []\n",
        "        disc_loss_list = []\n",
        "\n",
        "        for image_batch in dataset:\n",
        "            t = train_step(image_batch)\n",
        "            gen_loss_list.append(t[0])\n",
        "            disc_loss_list.append(t[1])\n",
        "\n",
        "        g_loss = sum(gen_loss_list) / len(gen_loss_list)\n",
        "        d_loss = sum(disc_loss_list) / len(disc_loss_list)\n",
        "\n",
        "        epoch_elapsed = time.time()-epoch_start\n",
        "        print (f'Epoch {epoch+1}, gen loss={g_loss},disc loss={d_loss},'\\\n",
        "           ' {hms_string(epoch_elapsed)}')\n",
        "        #save_images(epoch,fixed_seed)\n",
        "\n",
        "    elapsed = time.time()-start\n",
        "    print (f'Training time: {hms_string(elapsed)}')"
      ],
      "id": "adequate-protocol",
      "execution_count": null,
      "outputs": []
    },
    {
      "cell_type": "code",
      "metadata": {
        "scrolled": true,
        "colab": {
          "base_uri": "https://localhost:8080/"
        },
        "id": "intermediate-suicide",
        "outputId": "4a1d4772-3acf-4b38-d505-921a2697c40a"
      },
      "source": [
        "train(train_dataset_midi, 50)"
      ],
      "id": "intermediate-suicide",
      "execution_count": null,
      "outputs": [
        {
          "output_type": "stream",
          "text": [
            "Epoch 1, gen loss=3.731968402862549,disc loss=0.2561679184436798, {hms_string(epoch_elapsed)}\n",
            "Epoch 2, gen loss=3.63586163520813,disc loss=0.3966277539730072, {hms_string(epoch_elapsed)}\n",
            "Epoch 3, gen loss=1.702225923538208,disc loss=1.0157688856124878, {hms_string(epoch_elapsed)}\n",
            "Epoch 4, gen loss=3.0801422595977783,disc loss=0.3693147599697113, {hms_string(epoch_elapsed)}\n",
            "Epoch 5, gen loss=3.473533868789673,disc loss=0.2360735386610031, {hms_string(epoch_elapsed)}\n",
            "Epoch 6, gen loss=3.6515514850616455,disc loss=0.2515440881252289, {hms_string(epoch_elapsed)}\n",
            "Epoch 7, gen loss=3.4490461349487305,disc loss=0.3931594491004944, {hms_string(epoch_elapsed)}\n",
            "Epoch 8, gen loss=3.050719976425171,disc loss=0.4431723952293396, {hms_string(epoch_elapsed)}\n",
            "Epoch 9, gen loss=3.0776309967041016,disc loss=0.42446452379226685, {hms_string(epoch_elapsed)}\n",
            "Epoch 10, gen loss=2.9805874824523926,disc loss=0.47683197259902954, {hms_string(epoch_elapsed)}\n",
            "Epoch 11, gen loss=2.921447515487671,disc loss=0.4917822480201721, {hms_string(epoch_elapsed)}\n",
            "Epoch 12, gen loss=2.7998666763305664,disc loss=0.5106111764907837, {hms_string(epoch_elapsed)}\n",
            "Epoch 13, gen loss=2.6572446823120117,disc loss=0.5936907529830933, {hms_string(epoch_elapsed)}\n",
            "Epoch 14, gen loss=2.6344733238220215,disc loss=0.5818290710449219, {hms_string(epoch_elapsed)}\n",
            "Epoch 15, gen loss=2.6125261783599854,disc loss=0.5064917802810669, {hms_string(epoch_elapsed)}\n",
            "Epoch 16, gen loss=2.6932406425476074,disc loss=0.47230175137519836, {hms_string(epoch_elapsed)}\n",
            "Epoch 17, gen loss=2.7614479064941406,disc loss=0.5147208571434021, {hms_string(epoch_elapsed)}\n",
            "Epoch 18, gen loss=2.784449338912964,disc loss=0.4816276729106903, {hms_string(epoch_elapsed)}\n",
            "Epoch 19, gen loss=2.770068407058716,disc loss=0.5125272870063782, {hms_string(epoch_elapsed)}\n",
            "Epoch 20, gen loss=2.636387348175049,disc loss=0.5120919346809387, {hms_string(epoch_elapsed)}\n",
            "Epoch 21, gen loss=2.6933233737945557,disc loss=0.5330624580383301, {hms_string(epoch_elapsed)}\n",
            "Epoch 22, gen loss=2.6688578128814697,disc loss=0.4979811906814575, {hms_string(epoch_elapsed)}\n",
            "Epoch 23, gen loss=2.8338851928710938,disc loss=0.4395076334476471, {hms_string(epoch_elapsed)}\n",
            "Epoch 24, gen loss=3.1283886432647705,disc loss=0.400756299495697, {hms_string(epoch_elapsed)}\n",
            "Epoch 25, gen loss=2.372941255569458,disc loss=0.646469235420227, {hms_string(epoch_elapsed)}\n",
            "Epoch 26, gen loss=2.3672025203704834,disc loss=0.6557905673980713, {hms_string(epoch_elapsed)}\n",
            "Epoch 27, gen loss=2.4432473182678223,disc loss=0.6058570742607117, {hms_string(epoch_elapsed)}\n",
            "Epoch 28, gen loss=2.4446518421173096,disc loss=0.6116585731506348, {hms_string(epoch_elapsed)}\n",
            "Epoch 29, gen loss=2.14501953125,disc loss=0.7422559857368469, {hms_string(epoch_elapsed)}\n",
            "Epoch 30, gen loss=2.2837769985198975,disc loss=0.640174925327301, {hms_string(epoch_elapsed)}\n",
            "Epoch 31, gen loss=2.294696807861328,disc loss=0.682062029838562, {hms_string(epoch_elapsed)}\n",
            "Epoch 32, gen loss=2.3121752738952637,disc loss=0.6221450567245483, {hms_string(epoch_elapsed)}\n",
            "Epoch 33, gen loss=2.164728879928589,disc loss=0.7401531934738159, {hms_string(epoch_elapsed)}\n",
            "Epoch 34, gen loss=2.140976905822754,disc loss=0.7063790559768677, {hms_string(epoch_elapsed)}\n",
            "Epoch 35, gen loss=2.2949275970458984,disc loss=0.6412643194198608, {hms_string(epoch_elapsed)}\n",
            "Epoch 36, gen loss=2.254835367202759,disc loss=0.680250883102417, {hms_string(epoch_elapsed)}\n",
            "Epoch 37, gen loss=2.2979979515075684,disc loss=0.6376021504402161, {hms_string(epoch_elapsed)}\n",
            "Epoch 38, gen loss=2.473994016647339,disc loss=0.5909104347229004, {hms_string(epoch_elapsed)}\n",
            "Epoch 39, gen loss=2.5359270572662354,disc loss=0.5496922731399536, {hms_string(epoch_elapsed)}\n",
            "Epoch 40, gen loss=2.7129597663879395,disc loss=0.4928109645843506, {hms_string(epoch_elapsed)}\n",
            "Epoch 41, gen loss=3.082287311553955,disc loss=0.3899376392364502, {hms_string(epoch_elapsed)}\n",
            "Epoch 42, gen loss=3.0329372882843018,disc loss=0.4321061968803406, {hms_string(epoch_elapsed)}\n",
            "Epoch 43, gen loss=3.270984649658203,disc loss=0.3631814420223236, {hms_string(epoch_elapsed)}\n",
            "Epoch 44, gen loss=3.211766242980957,disc loss=0.39771920442581177, {hms_string(epoch_elapsed)}\n",
            "Epoch 45, gen loss=3.5539462566375732,disc loss=0.31593310832977295, {hms_string(epoch_elapsed)}\n",
            "Epoch 46, gen loss=3.648836612701416,disc loss=0.28691914677619934, {hms_string(epoch_elapsed)}\n",
            "Epoch 47, gen loss=3.8570849895477295,disc loss=0.28220945596694946, {hms_string(epoch_elapsed)}\n",
            "Epoch 48, gen loss=4.194287300109863,disc loss=0.21632573008537292, {hms_string(epoch_elapsed)}\n",
            "Epoch 49, gen loss=4.204909324645996,disc loss=0.23103561997413635, {hms_string(epoch_elapsed)}\n",
            "Epoch 50, gen loss=4.498593330383301,disc loss=0.18895399570465088, {hms_string(epoch_elapsed)}\n",
            "Training time: 2:03:31.15\n"
          ],
          "name": "stdout"
        }
      ]
    },
    {
      "cell_type": "code",
      "metadata": {
        "id": "dated-syracuse"
      },
      "source": [
        "generator.save(os.path.join(DATA_PATH,\"song_generator.h5\"))"
      ],
      "id": "dated-syracuse",
      "execution_count": null,
      "outputs": []
    },
    {
      "cell_type": "code",
      "metadata": {
        "colab": {
          "base_uri": "https://localhost:8080/"
        },
        "id": "viral-processor",
        "outputId": "935ebb05-36e8-4ea6-fa69-653febf18756"
      },
      "source": [
        "noise = tf.random.normal([1, SEED_SIZE])\n",
        "generated_song = generator(noise, training=False)\n",
        "decision = discriminator(generated_song)\n",
        "print(decision)"
      ],
      "id": "viral-processor",
      "execution_count": null,
      "outputs": [
        {
          "output_type": "stream",
          "text": [
            "tf.Tensor([[0.06564915]], shape=(1, 1), dtype=float32)\n"
          ],
          "name": "stdout"
        }
      ]
    },
    {
      "cell_type": "code",
      "metadata": {
        "id": "intense-earthquake"
      },
      "source": [
        "def recreate_midi(df_first_notes, speed=20000):\n",
        "    # function to take a dataframe created by something like parse_notes() or a gan and return a midi\n",
        "    \n",
        "    # Can start by reverse scaling the note:\n",
        "    df_reversed = df_first_notes.copy()\n",
        "    df_reversed['note'] = round(df_reversed['note'] * 88 + 20)  # might want to have something more special than round()\n",
        "    df_reversed.note = df_reversed.note.astype(int)\n",
        "    df_reversed['velocity'] = 60  # create a uniform middling velocity\n",
        "\n",
        "    # recreate the absolute time index and drop time_since_last (we'll recreate it with the stop signals)\n",
        "    df_reversed['time_index'] = df_reversed.time_since_last.cumsum()\n",
        "    df_reversed = df_reversed.drop(columns = 'time_since_last')\n",
        "\n",
        "    # create a stop signal for each note at the appropriate time_index:\n",
        "    for i in range(len(df_reversed)):\n",
        "        stop_note = pd.DataFrame([[df_reversed.note[i], 0, 0, df_reversed.duration[i] + df_reversed.time_index[i]]],\n",
        "                                 columns=['note', 'duration', 'velocity', 'time_index'])\n",
        "        df_reversed = df_reversed.append(stop_note, ignore_index=True)\n",
        "    df_reversed = df_reversed.sort_values('time_index').reset_index(drop=True)\n",
        "\n",
        "    # recreate time_since last with the stop note signals\n",
        "    df_reversed['time'] = [0] + [df_reversed.time_index[i+1] - df_reversed.time_index[i] \n",
        "                                 for i in range(len(df_reversed)-1)]\n",
        "    # and now we don't need duration or time_index so can drop those\n",
        "    df_reversed = df_reversed.drop(columns = {'time_index','duration'})\n",
        "\n",
        "    # finally, we need to scale the time since last note appropriately:\n",
        "    df_reversed['time'] = round(df_reversed['time'] * speed)\n",
        "    df_reversed.time = df_reversed.time.astype(int)\n",
        "\n",
        "    # finally, recreate the midi and return\n",
        "    mid_remade = MidiFile()\n",
        "    track = MidiTrack()\n",
        "    mid_remade.tracks.append(track)\n",
        "    track.append(Message('program_change', program=0, time=0))\n",
        "    for i in range(len(df_reversed)):\n",
        "        track.append(Message('note_on', note=df_reversed.note[i], velocity=df_reversed.velocity[i], time=df_reversed.time[i]))\n",
        "\n",
        "    return mid_remade"
      ],
      "id": "intense-earthquake",
      "execution_count": null,
      "outputs": []
    },
    {
      "cell_type": "code",
      "metadata": {
        "colab": {
          "base_uri": "https://localhost:8080/"
        },
        "id": "1UlsQs6NVgmR",
        "outputId": "fbf8afe7-a682-4c4a-9d8d-a4c08a243184"
      },
      "source": [
        "midi_dat = generated_song.numpy()\n",
        "midi_dat"
      ],
      "id": "1UlsQs6NVgmR",
      "execution_count": null,
      "outputs": [
        {
          "output_type": "execute_result",
          "data": {
            "text/plain": [
              "array([[[ 3.56886059e-01,  5.03877318e-03,  1.92426692e-03],\n",
              "        [ 2.18896002e-01,  8.60210881e-03,  9.39178164e-04],\n",
              "        [ 2.52768606e-01,  6.84656296e-03,  1.15764630e-03],\n",
              "        [ 2.57610410e-01,  5.23065170e-03,  1.47788657e-03],\n",
              "        [ 2.72206236e-02,  8.32996704e-03,  4.90020448e-03],\n",
              "        [ 2.39114657e-01,  3.43915587e-03,  1.27979869e-03],\n",
              "        [ 2.53532767e-01,  3.59195424e-03,  7.88656995e-04],\n",
              "        [ 8.10580775e-02,  6.83449907e-03,  2.81386590e-03],\n",
              "        [ 2.43380338e-01, -5.81752334e-04,  3.20194056e-03],\n",
              "        [ 2.94054031e-01,  2.29520001e-03,  2.43110419e-03],\n",
              "        [ 5.08092582e-01,  6.55644573e-04,  3.53159606e-02],\n",
              "        [ 4.11900133e-01,  4.86456789e-02,  1.95494201e-02],\n",
              "        [ 4.10407245e-01,  3.42631601e-02,  2.29802541e-03],\n",
              "        [ 3.46860528e-01,  2.12745927e-02, -4.45137126e-03],\n",
              "        [ 4.55896050e-01,  1.80639680e-02,  1.36632810e-03],\n",
              "        [ 4.72727269e-01,  1.11953001e-02,  2.92960089e-03],\n",
              "        [ 4.05573398e-01,  2.37070303e-02, -4.12801048e-03],\n",
              "        [ 4.91170019e-01,  3.76601447e-03,  3.04595567e-03],\n",
              "        [ 5.61486542e-01,  1.08429436e-02,  9.34688561e-03],\n",
              "        [ 5.41360378e-01,  7.63963023e-03,  3.34609882e-03],\n",
              "        [ 5.00482917e-01,  9.78634693e-03,  5.42786531e-03],\n",
              "        [ 4.69175309e-01,  9.15244967e-03,  2.79165781e-03],\n",
              "        [ 5.25884926e-01,  1.55724809e-02, -6.64614025e-04],\n",
              "        [ 5.28249264e-01,  1.70015618e-02,  1.10581676e-02],\n",
              "        [ 5.57437718e-01,  9.53927729e-03,  9.12730955e-03],\n",
              "        [ 4.48935717e-01,  7.49205332e-03,  7.50657928e-04],\n",
              "        [ 4.62357581e-01,  6.75355829e-03,  9.96956136e-04],\n",
              "        [ 4.88553375e-01,  1.48971155e-02,  7.55319139e-04],\n",
              "        [ 4.87360060e-01,  2.45169718e-02,  7.81521900e-04],\n",
              "        [ 5.50296366e-01,  5.71187073e-03,  3.15017393e-03],\n",
              "        [ 5.30006170e-01,  1.47733269e-02,  1.01059088e-02],\n",
              "        [ 3.95351857e-01,  7.99695216e-03,  1.38484524e-03],\n",
              "        [ 3.99696529e-01,  1.08506354e-02,  3.65407742e-03],\n",
              "        [ 4.90563899e-01,  1.16550177e-02,  3.82037746e-04],\n",
              "        [ 4.31721956e-01,  1.33426096e-02,  1.24790415e-03],\n",
              "        [ 4.32336092e-01,  1.13390666e-02,  2.12714192e-03],\n",
              "        [ 4.65703189e-01,  9.57687013e-03,  8.09291657e-03],\n",
              "        [ 4.65219945e-01,  7.95905665e-03, -1.00581697e-03],\n",
              "        [ 4.67565000e-01,  9.62080434e-03, -1.21466559e-03],\n",
              "        [ 4.88779664e-01,  9.78052989e-03,  4.54519689e-03],\n",
              "        [ 5.73436975e-01,  1.03490632e-02,  9.24949441e-03],\n",
              "        [ 5.33609509e-01, -3.63257155e-03, -1.25740026e-03],\n",
              "        [ 4.02127653e-01,  1.20490491e-02,  1.67216535e-03],\n",
              "        [ 4.71576214e-01,  6.49554096e-03,  7.94432126e-04],\n",
              "        [ 4.92999822e-01,  9.66475531e-03,  4.02121991e-03],\n",
              "        [ 4.86034483e-01,  7.65509764e-03,  5.10761142e-03],\n",
              "        [ 4.23287928e-01,  3.26425303e-03, -1.02317892e-03],\n",
              "        [ 4.13951874e-01,  1.58627350e-02,  2.61965068e-03],\n",
              "        [ 4.68261749e-01,  8.21446255e-03,  1.40482385e-03],\n",
              "        [ 4.22623247e-01,  9.15074954e-04, -2.63296068e-03],\n",
              "        [ 4.36429888e-01,  5.54455305e-03, -1.24083122e-03],\n",
              "        [ 4.57497060e-01,  9.46500245e-03, -3.53690726e-03],\n",
              "        [ 4.44267124e-01,  1.41651444e-02, -5.32654522e-04],\n",
              "        [ 4.58778679e-01,  1.13726892e-02, -2.17899121e-03],\n",
              "        [ 4.55138087e-01,  1.32007254e-02,  1.05774554e-03],\n",
              "        [ 4.77054447e-01,  4.92763426e-03, -9.90221044e-04],\n",
              "        [ 4.79540020e-01,  1.06990458e-02,  8.53816862e-04],\n",
              "        [ 4.72133726e-01,  6.67669717e-03,  2.96759745e-03],\n",
              "        [ 5.00943899e-01,  4.84935800e-03,  4.77004010e-04],\n",
              "        [ 4.93011475e-01,  3.84078943e-03,  5.09834732e-04],\n",
              "        [ 4.58788365e-01,  7.78349815e-03,  5.83593428e-05],\n",
              "        [ 4.85851288e-01,  9.99248121e-03,  1.39158149e-03],\n",
              "        [ 4.60683644e-01,  8.85648746e-03, -1.75586494e-03],\n",
              "        [ 4.53163147e-01,  5.85496379e-03,  3.45287938e-03],\n",
              "        [ 5.49886465e-01,  2.28106882e-03,  6.08283654e-03],\n",
              "        [ 5.17924190e-01,  7.30357738e-03, -1.29880931e-03],\n",
              "        [ 4.37747240e-01,  9.48560890e-03, -3.11444676e-03],\n",
              "        [ 4.72204149e-01,  8.29838030e-03, -2.06621000e-04],\n",
              "        [ 4.70787644e-01,  1.11662988e-02,  1.95052917e-03],\n",
              "        [ 4.97640610e-01,  3.15123983e-03,  5.74394641e-03],\n",
              "        [ 4.74795103e-01, -3.15818557e-04,  1.18711614e-03],\n",
              "        [ 4.88565475e-01,  8.46194196e-03,  1.07555860e-03],\n",
              "        [ 4.79730219e-01,  7.49801798e-03, -2.33715982e-03],\n",
              "        [ 5.67007780e-01,  1.67935379e-02,  3.47172632e-03],\n",
              "        [ 5.58730245e-01,  1.06016686e-02,  6.58399542e-04],\n",
              "        [ 5.40815234e-01,  9.15234536e-03,  5.76527556e-03],\n",
              "        [ 4.77886170e-01, -2.80365883e-03,  2.97939964e-03],\n",
              "        [ 6.21979892e-01,  7.00495904e-03,  2.40341132e-03],\n",
              "        [ 5.34271717e-01,  6.06214255e-03, -1.94593216e-03],\n",
              "        [ 5.23664117e-01,  9.91447642e-03,  3.93675873e-03],\n",
              "        [ 4.99369532e-01,  3.62565974e-03,  2.62318109e-03],\n",
              "        [ 5.10489702e-01,  4.17115306e-03,  2.99457484e-03],\n",
              "        [ 4.59203392e-01, -2.56626168e-03, -1.15067698e-03],\n",
              "        [ 4.47979301e-01, -1.02613922e-04, -1.05320511e-03],\n",
              "        [ 4.59295541e-01,  1.78514118e-03, -6.40890095e-04],\n",
              "        [ 4.33259368e-01,  1.12934867e-02,  4.78945766e-03],\n",
              "        [ 4.92825150e-01, -9.02818865e-04,  4.98674251e-03],\n",
              "        [ 4.44358259e-01,  2.21695891e-03,  4.47838567e-03],\n",
              "        [ 4.50064242e-01, -1.51978410e-03,  2.06111916e-04],\n",
              "        [ 4.61980820e-01,  1.40385525e-02,  7.75715616e-03],\n",
              "        [ 5.39698899e-01,  5.05575910e-04,  4.21670871e-03],\n",
              "        [ 4.80235904e-01,  9.80073493e-03,  2.71969911e-04],\n",
              "        [ 4.57685173e-01,  2.26466893e-03,  9.06887348e-04],\n",
              "        [ 5.06922066e-01, -5.33152197e-04,  3.43436049e-03],\n",
              "        [ 5.85668147e-01, -3.59816440e-05,  6.31939620e-03],\n",
              "        [ 5.94187617e-01, -6.60162978e-03,  4.14199429e-03],\n",
              "        [ 5.27447402e-01, -2.31572334e-03,  4.72274888e-03],\n",
              "        [ 5.80892682e-01,  3.97901703e-03,  5.03805168e-02],\n",
              "        [ 5.35864711e-01,  2.74257120e-02,  1.32687967e-02],\n",
              "        [ 6.03783846e-01,  9.16735269e-03,  2.58997106e-03],\n",
              "        [ 6.60334885e-01,  6.34235749e-03,  6.16091210e-03],\n",
              "        [ 6.35853887e-01,  3.51176388e-03,  5.36307134e-03],\n",
              "        [ 5.88078976e-01,  5.40736225e-03,  2.80793221e-03],\n",
              "        [ 5.47441721e-01,  3.14162718e-03,  2.44984752e-03],\n",
              "        [ 3.91329646e-01,  3.16918129e-03, -1.11350082e-05],\n",
              "        [ 4.84522760e-01,  6.16651913e-03,  3.79856676e-03],\n",
              "        [ 5.61617613e-01,  2.15920480e-03,  1.85940368e-03],\n",
              "        [ 5.84343731e-01,  3.28548299e-03,  2.29983241e-03],\n",
              "        [ 5.09458899e-01,  4.43097018e-03,  3.51390895e-03],\n",
              "        [ 6.05424881e-01,  3.93923558e-03,  3.55570950e-03],\n",
              "        [ 5.73861897e-01,  4.96085873e-03,  2.30524736e-03],\n",
              "        [ 5.95538914e-01,  5.36492979e-03,  4.35469998e-03],\n",
              "        [ 5.20595908e-01,  2.44550686e-03,  2.44298042e-03],\n",
              "        [ 5.44394314e-01,  3.10601015e-03,  7.18372222e-03],\n",
              "        [ 4.96261448e-01,  3.57663562e-03,  1.78275479e-03],\n",
              "        [ 5.73146462e-01,  2.66489078e-04,  8.64076370e-04],\n",
              "        [ 4.57764506e-01,  1.56505429e-03,  2.31129630e-03],\n",
              "        [ 6.03246689e-01,  3.72417923e-03,  1.50382018e-03],\n",
              "        [ 4.43090916e-01,  5.03044948e-03,  1.63642748e-03],\n",
              "        [ 5.63690305e-01,  3.05939210e-03,  1.95529661e-03],\n",
              "        [ 5.28250873e-01,  2.89477292e-03,  1.03066699e-03],\n",
              "        [ 4.72579986e-01,  2.73622805e-03,  1.78109866e-03],\n",
              "        [ 3.83855909e-01,  7.34866131e-03, -2.19541806e-04],\n",
              "        [ 4.87093389e-01,  2.45396653e-03,  1.33534125e-03],\n",
              "        [ 2.49137580e-01,  7.18025351e-03,  4.73817950e-03],\n",
              "        [ 4.43804115e-01, -1.00640813e-03,  4.74249944e-03],\n",
              "        [ 4.49951172e-01, -6.97507407e-04,  1.65748002e-03],\n",
              "        [ 2.66151696e-01,  5.87476371e-03,  4.84380987e-04],\n",
              "        [ 5.57457447e-01,  1.85614044e-03,  2.82062404e-03],\n",
              "        [ 4.82788920e-01,  9.57717828e-04,  1.77776418e-03],\n",
              "        [ 5.21361411e-01,  9.36697982e-03, -5.04332222e-03],\n",
              "        [ 6.00351632e-01, -5.78040583e-03,  6.54215692e-03],\n",
              "        [ 5.97679436e-01,  6.14793412e-03,  1.14413211e-02],\n",
              "        [ 5.46530068e-01,  9.61824320e-03,  2.21531000e-02],\n",
              "        [ 5.26082337e-01,  3.68820429e-02,  1.14093926e-02],\n",
              "        [ 5.55391610e-01,  1.42264403e-02,  5.20301610e-03],\n",
              "        [ 5.35279155e-01,  1.30117293e-02,  4.31739818e-03],\n",
              "        [ 4.96691972e-01,  1.50746144e-02,  5.10248006e-04],\n",
              "        [ 5.87164938e-01,  4.00469592e-03,  8.17700289e-03],\n",
              "        [ 5.35542607e-01, -3.16318520e-03,  5.28220227e-03],\n",
              "        [ 5.39761484e-01,  3.11374944e-03,  4.70082182e-03],\n",
              "        [ 5.88126361e-01,  2.69725057e-03,  1.29242393e-03],\n",
              "        [ 4.47609991e-01,  8.09473917e-03,  5.27537474e-03],\n",
              "        [ 4.29254651e-01,  9.08934977e-03,  7.06143165e-03],\n",
              "        [ 5.27819812e-01,  5.75298723e-03,  5.13421837e-03],\n",
              "        [ 3.96713227e-01, -9.57008044e-04,  4.61847894e-03],\n",
              "        [ 3.89842629e-01, -8.42789654e-04,  2.22996762e-03],\n",
              "        [ 4.10760403e-01,  7.77084846e-03, -2.95218127e-03],\n",
              "        [ 3.79413128e-01,  9.63639654e-03,  8.07885360e-03],\n",
              "        [ 4.48511869e-01, -3.19367996e-03,  3.62805300e-03],\n",
              "        [ 4.17086899e-01,  1.53804049e-02,  4.29890770e-03],\n",
              "        [ 2.66975224e-01,  5.49626118e-03,  3.72910849e-03],\n",
              "        [ 2.57262945e-01,  2.55428557e-03,  7.04361417e-04],\n",
              "        [ 3.55637074e-01,  1.38944304e-02,  7.44243897e-03],\n",
              "        [ 4.34842616e-01,  8.51971097e-03,  6.37637172e-03],\n",
              "        [ 3.34061414e-01,  8.61890893e-03, -2.63126125e-03],\n",
              "        [ 2.21238315e-01,  7.83337280e-03,  2.13897787e-03],\n",
              "        [ 3.79133284e-01,  1.80883743e-02, -3.62425955e-04],\n",
              "        [ 2.83564359e-01,  2.30637435e-02,  1.13565251e-02],\n",
              "        [ 1.55266300e-01,  3.68533172e-02,  9.70531721e-03],\n",
              "        [ 1.78965643e-01,  1.90453157e-02,  2.89747491e-03],\n",
              "        [ 2.26398081e-01,  6.72416948e-03, -5.42539218e-03],\n",
              "        [ 1.68884218e-01,  1.95569433e-02,  1.15865376e-02],\n",
              "        [ 8.33271965e-02,  3.95720638e-02,  1.86522286e-02],\n",
              "        [ 2.86995053e-01,  3.27537060e-02,  5.41578373e-03],\n",
              "        [ 4.46756095e-01,  1.23114008e-02,  4.38944250e-03],\n",
              "        [ 2.92046160e-01,  1.73191112e-02,  5.81613043e-03],\n",
              "        [ 2.50893354e-01,  8.59438814e-03,  6.44439086e-03],\n",
              "        [ 3.88477564e-01,  1.26166623e-02,  7.38022057e-03],\n",
              "        [ 5.12478173e-01,  1.14785358e-02,  1.37433726e-02],\n",
              "        [ 5.45397460e-01,  1.03689143e-02,  7.98265915e-03],\n",
              "        [ 4.33030695e-01,  9.99608170e-03,  7.24835647e-03],\n",
              "        [ 4.53136563e-01,  9.72500350e-03,  7.79273920e-04],\n",
              "        [ 4.75099415e-01,  1.36494255e-02,  3.84449703e-03],\n",
              "        [ 4.81520116e-01,  1.39656346e-02,  7.12575018e-03],\n",
              "        [ 4.48561221e-01,  1.36614963e-02,  1.12639870e-02],\n",
              "        [ 3.12366009e-01,  8.15517735e-03,  9.19186976e-03],\n",
              "        [ 4.19667602e-01,  1.01350555e-02,  6.40738662e-03],\n",
              "        [ 4.47519898e-01,  8.06300435e-03,  5.38640469e-03],\n",
              "        [ 5.35619378e-01,  9.82536469e-03,  4.19827178e-03],\n",
              "        [ 5.33380210e-01,  1.10353781e-02,  5.96530270e-03],\n",
              "        [ 6.25012040e-01,  1.43096335e-02,  5.65905450e-03],\n",
              "        [ 4.48618412e-01,  1.37658967e-02,  8.40656925e-03],\n",
              "        [ 3.36172521e-01,  8.91464576e-03,  5.20545896e-03],\n",
              "        [ 4.11729097e-01,  3.52798542e-03,  6.24316931e-03],\n",
              "        [ 5.85524857e-01,  1.31672909e-02,  9.64115839e-04],\n",
              "        [ 5.66896975e-01,  1.07109603e-02,  5.92451636e-03],\n",
              "        [ 5.53639829e-01,  1.31100658e-02,  5.32873673e-03],\n",
              "        [ 5.83153069e-01,  8.18684045e-03,  1.32345213e-02],\n",
              "        [ 3.81002665e-01,  8.45271070e-03,  5.32242889e-03],\n",
              "        [ 5.22787392e-01,  9.92770959e-03,  1.46466345e-02],\n",
              "        [ 4.06590194e-01,  1.61726610e-03,  3.50806559e-03]]],\n",
              "      dtype=float32)"
            ]
          },
          "metadata": {
            "tags": []
          },
          "execution_count": 51
        }
      ]
    },
    {
      "cell_type": "code",
      "metadata": {
        "id": "ldqPRSomPEu-"
      },
      "source": [
        "# To make the inference output into a mid file\n",
        "midi_df = pd.DataFrame(midi_dat[0],columns=[\"note\", \"duration\",'time_since_last'])\n",
        "mid_made = recreate_midi(midi_df)\n",
        "mid_made.save('mid_test_7.mid')"
      ],
      "id": "ldqPRSomPEu-",
      "execution_count": null,
      "outputs": []
    }
  ]
}