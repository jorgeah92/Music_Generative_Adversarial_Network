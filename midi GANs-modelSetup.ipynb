{
 "cells": [
  {
   "cell_type": "code",
   "execution_count": 56,
   "id": "automatic-pharmacology",
   "metadata": {},
   "outputs": [],
   "source": [
    "# Nicely formatted time string\n",
    "def hms_string(sec_elapsed):\n",
    "    h = int(sec_elapsed / (60 * 60))\n",
    "    m = int((sec_elapsed % (60 * 60)) / 60)\n",
    "    s = sec_elapsed % 60\n",
    "    return \"{}:{:>02}:{:>05.2f}\".format(h, m, s)"
   ]
  },
  {
   "cell_type": "code",
   "execution_count": null,
   "id": "minute-harvey",
   "metadata": {},
   "outputs": [],
   "source": []
  },
  {
   "cell_type": "code",
   "execution_count": 57,
   "id": "motivated-confusion",
   "metadata": {
    "scrolled": true
   },
   "outputs": [],
   "source": [
    "import tensorflow as tf\n",
    "from tensorflow.keras.layers import Input, Reshape, Dropout, Dense \n",
    "from tensorflow.keras.layers import Flatten, BatchNormalization\n",
    "from tensorflow.keras.layers import Activation, ZeroPadding2D,ZeroPadding1D\n",
    "from tensorflow.keras.layers import LeakyReLU\n",
    "from tensorflow.keras.layers import UpSampling2D, Conv2D, Conv1D,UpSampling1D\n",
    "from tensorflow.keras.models import Sequential, Model, load_model\n",
    "from tensorflow.keras.optimizers import Adam\n",
    "import numpy as np\n",
    "from PIL import Image\n",
    "from tqdm import tqdm\n",
    "import os \n",
    "import time\n",
    "import matplotlib.pyplot as plt"
   ]
  },
  {
   "cell_type": "code",
   "execution_count": 95,
   "id": "level-questionnaire",
   "metadata": {},
   "outputs": [
    {
     "name": "stdout",
     "output_type": "stream",
     "text": [
      "2.0.0-alpha0\n"
     ]
    }
   ],
   "source": [
    "#print(tf.__version__)"
   ]
  },
  {
   "cell_type": "code",
   "execution_count": null,
   "id": "hollywood-values",
   "metadata": {},
   "outputs": [],
   "source": [
    "#!pip3 install gast==0.2.2"
   ]
  },
  {
   "cell_type": "code",
   "execution_count": 5,
   "id": "fresh-religion",
   "metadata": {},
   "outputs": [
    {
     "name": "stdout",
     "output_type": "stream",
     "text": [
      "Will generate 96px square images.\n"
     ]
    }
   ],
   "source": [
    "# Size vector to generate images from\n",
    "SEED_SIZE = 100\n",
    "\n",
    "# Configuration\n",
    "BATCH_SIZE = 32\n",
    "BUFFER_SIZE = 60000\n"
   ]
  },
  {
   "cell_type": "code",
   "execution_count": 4,
   "id": "flush-illinois",
   "metadata": {
    "scrolled": true
   },
   "outputs": [
    {
     "name": "stdout",
     "output_type": "stream",
     "text": [
      "Music Generator.ipynb     \u001b[34mfaces\u001b[m\u001b[m                     \u001b[34mmidi-lstm-gan\u001b[m\u001b[m\r\n",
      "Pokemon code tryout.ipynb image GANs.ipynb\r\n",
      "\u001b[34mface_images\u001b[m\u001b[m               \u001b[34mmaestro-v1.0.0\u001b[m\u001b[m\r\n"
     ]
    }
   ],
   "source": [
    "!ls"
   ]
  },
  {
   "cell_type": "code",
   "execution_count": null,
   "id": "exposed-candy",
   "metadata": {},
   "outputs": [],
   "source": []
  },
  {
   "cell_type": "markdown",
   "id": "focused-fireplace",
   "metadata": {},
   "source": [
    "# Midi data"
   ]
  },
  {
   "cell_type": "code",
   "execution_count": 58,
   "id": "tamil-exhaust",
   "metadata": {},
   "outputs": [],
   "source": [
    "training_data_midi = np.load('All_Maestro_Parsed.npy')\n",
    "#training_data_midi=np.load('All_pianoroll_v1.npy')"
   ]
  },
  {
   "cell_type": "code",
   "execution_count": 59,
   "id": "entertaining-grace",
   "metadata": {},
   "outputs": [
    {
     "data": {
      "text/plain": [
       "(15300, 200, 3)"
      ]
     },
     "execution_count": 59,
     "metadata": {},
     "output_type": "execute_result"
    }
   ],
   "source": [
    "training_data_midi.shape"
   ]
  },
  {
   "cell_type": "code",
   "execution_count": 60,
   "id": "right-expert",
   "metadata": {},
   "outputs": [],
   "source": [
    "train_data_midi_temp = training_data_midi[:3000,:192,:]"
   ]
  },
  {
   "cell_type": "code",
   "execution_count": 61,
   "id": "right-ghana",
   "metadata": {},
   "outputs": [
    {
     "data": {
      "text/plain": [
       "(3000, 192, 3)"
      ]
     },
     "execution_count": 61,
     "metadata": {},
     "output_type": "execute_result"
    }
   ],
   "source": [
    "train_data_midi_temp.shape"
   ]
  },
  {
   "cell_type": "code",
   "execution_count": 62,
   "id": "electronic-sentence",
   "metadata": {},
   "outputs": [
    {
     "data": {
      "text/plain": [
       "numpy.ndarray"
      ]
     },
     "execution_count": 62,
     "metadata": {},
     "output_type": "execute_result"
    }
   ],
   "source": [
    "type(train_data_midi_temp)"
   ]
  },
  {
   "cell_type": "code",
   "execution_count": 63,
   "id": "elder-pilot",
   "metadata": {},
   "outputs": [
    {
     "data": {
      "text/plain": [
       "array([[[1.81818182e-01, 8.45376135e-03, 0.00000000e+00],\n",
       "        [2.61363636e-01, 9.27628948e-02, 1.71360027e-04],\n",
       "        [1.70454545e-01, 1.23379220e-02, 7.19712115e-03],\n",
       "        ...,\n",
       "        [1.81818182e-01, 1.59936026e-03, 1.42800023e-03],\n",
       "        [2.61363636e-01, 2.74176044e-03, 8.56800137e-04],\n",
       "        [4.54545455e-01, 1.14240018e-03, 3.99840064e-04]],\n",
       "\n",
       "       [[1.93181818e-01, 8.45376135e-03, 0.00000000e+00],\n",
       "        [2.72727273e-01, 9.27628948e-02, 1.71360027e-04],\n",
       "        [1.81818182e-01, 1.23379220e-02, 7.19712115e-03],\n",
       "        ...,\n",
       "        [1.93181818e-01, 1.59936026e-03, 1.42800023e-03],\n",
       "        [2.72727273e-01, 2.74176044e-03, 8.56800137e-04],\n",
       "        [4.65909091e-01, 1.14240018e-03, 3.99840064e-04]],\n",
       "\n",
       "       [[2.04545455e-01, 8.45376135e-03, 0.00000000e+00],\n",
       "        [2.84090909e-01, 9.27628948e-02, 1.71360027e-04],\n",
       "        [1.93181818e-01, 1.23379220e-02, 7.19712115e-03],\n",
       "        ...,\n",
       "        [2.04545455e-01, 1.59936026e-03, 1.42800023e-03],\n",
       "        [2.84090909e-01, 2.74176044e-03, 8.56800137e-04],\n",
       "        [4.77272727e-01, 1.14240018e-03, 3.99840064e-04]],\n",
       "\n",
       "       ...,\n",
       "\n",
       "       [[5.68181818e-01, 1.61725067e-02, 0.00000000e+00],\n",
       "        [4.88636364e-01, 5.39083558e-03, 8.08625337e-03],\n",
       "        [3.52272727e-01, 6.54601463e-03, 3.85059684e-04],\n",
       "        ...,\n",
       "        [5.79545455e-01, 1.00115518e-02, 1.15517905e-03],\n",
       "        [4.88636364e-01, 1.00115518e-02, 5.00577590e-03],\n",
       "        [6.25000000e-01, 3.65806700e-02, 5.00577590e-03]],\n",
       "\n",
       "       [[5.79545455e-01, 1.61725067e-02, 0.00000000e+00],\n",
       "        [5.00000000e-01, 5.39083558e-03, 8.08625337e-03],\n",
       "        [3.63636364e-01, 6.54601463e-03, 3.85059684e-04],\n",
       "        ...,\n",
       "        [5.90909091e-01, 1.00115518e-02, 1.15517905e-03],\n",
       "        [5.00000000e-01, 1.00115518e-02, 5.00577590e-03],\n",
       "        [6.36363636e-01, 3.65806700e-02, 5.00577590e-03]],\n",
       "\n",
       "       [[5.90909091e-01, 1.61725067e-02, 0.00000000e+00],\n",
       "        [5.11363636e-01, 5.39083558e-03, 8.08625337e-03],\n",
       "        [3.75000000e-01, 6.54601463e-03, 3.85059684e-04],\n",
       "        ...,\n",
       "        [6.02272727e-01, 1.00115518e-02, 1.15517905e-03],\n",
       "        [5.11363636e-01, 1.00115518e-02, 5.00577590e-03],\n",
       "        [6.47727273e-01, 3.65806700e-02, 5.00577590e-03]]])"
      ]
     },
     "execution_count": 63,
     "metadata": {},
     "output_type": "execute_result"
    }
   ],
   "source": [
    "train_data_midi_temp"
   ]
  },
  {
   "cell_type": "code",
   "execution_count": 64,
   "id": "broken-tuner",
   "metadata": {},
   "outputs": [],
   "source": [
    "train_data_midi_temp =np.float32(train_data_midi_temp)"
   ]
  },
  {
   "cell_type": "code",
   "execution_count": 66,
   "id": "scenic-tuning",
   "metadata": {},
   "outputs": [
    {
     "data": {
      "text/plain": [
       "(200, 3)"
      ]
     },
     "execution_count": 66,
     "metadata": {},
     "output_type": "execute_result"
    }
   ],
   "source": [
    "training_data_midi[0].shape"
   ]
  },
  {
   "cell_type": "code",
   "execution_count": 67,
   "id": "light-pacific",
   "metadata": {},
   "outputs": [],
   "source": [
    "train_dataset_midi = tf.data.Dataset.from_tensor_slices(train_data_midi_temp) \\\n",
    "    .shuffle(BUFFER_SIZE).batch(BATCH_SIZE)"
   ]
  },
  {
   "cell_type": "code",
   "execution_count": 68,
   "id": "bound-trunk",
   "metadata": {},
   "outputs": [
    {
     "data": {
      "text/plain": [
       "<BatchDataset shapes: (None, 192, 3), types: tf.float32>"
      ]
     },
     "execution_count": 68,
     "metadata": {},
     "output_type": "execute_result"
    }
   ],
   "source": [
    "train_dataset_midi"
   ]
  },
  {
   "cell_type": "code",
   "execution_count": 69,
   "id": "governing-boston",
   "metadata": {},
   "outputs": [
    {
     "data": {
      "text/plain": [
       "array([[1.81818182e-01, 8.45376135e-03, 0.00000000e+00],\n",
       "       [2.61363636e-01, 9.27628948e-02, 1.71360027e-04],\n",
       "       [1.70454545e-01, 1.23379220e-02, 7.19712115e-03],\n",
       "       [1.25000000e-01, 5.94048095e-02, 7.19712115e-03],\n",
       "       [1.81818182e-01, 6.07756897e-02, 5.27217684e-02],\n",
       "       [2.72727273e-01, 2.09630434e-02, 1.73073628e-02],\n",
       "       [2.50000000e-01, 2.23339236e-02, 1.57651225e-02],\n",
       "       [2.61363636e-01, 9.82464157e-02, 1.97635232e-02],\n",
       "       [1.70454545e-01, 7.59696122e-03, 7.31136117e-03],\n",
       "       [1.25000000e-01, 5.85480094e-02, 8.22528132e-03],\n",
       "       [1.81818182e-01, 6.32318501e-02, 5.12937682e-02],\n",
       "       [2.72727273e-01, 2.51328040e-02, 2.16484835e-02],\n",
       "       [2.50000000e-01, 1.81641629e-02, 1.79356829e-02],\n",
       "       [2.61363636e-01, 2.62809162e-01, 1.58793625e-02],\n",
       "       [1.70454545e-01, 1.02244816e-02, 7.31136117e-03],\n",
       "       [1.25000000e-01, 3.90129662e-02, 8.79648141e-03],\n",
       "       [1.81818182e-01, 2.05632033e-03, 4.03838465e-02],\n",
       "       [1.81818182e-01, 4.16976067e-03, 2.26766436e-02],\n",
       "       [1.70454545e-01, 5.31216085e-03, 6.28320101e-03],\n",
       "       [1.25000000e-01, 1.89067230e-02, 7.76832124e-03],\n",
       "       [1.81818182e-01, 5.42640087e-03, 1.68504027e-02],\n",
       "       [1.70454545e-01, 4.79808077e-03, 6.79728109e-03],\n",
       "       [1.25000000e-01, 1.82784029e-03, 7.88256126e-03],\n",
       "       [1.25000000e-01, 1.94208031e-03, 1.79356829e-02],\n",
       "       [1.81818182e-01, 2.22768036e-03, 1.92494431e-02],\n",
       "       [1.70454545e-01, 1.88496030e-03, 1.50225624e-02],\n",
       "       [1.81818182e-01, 1.99920032e-03, 1.19952019e-02],\n",
       "       [1.70454545e-01, 2.17056035e-03, 1.18809619e-02],\n",
       "       [1.25000000e-01, 2.28480037e-03, 1.59364825e-02],\n",
       "       [1.81818182e-01, 2.05632033e-03, 4.40395270e-02],\n",
       "       [4.54545455e-01, 1.65648027e-03, 7.42560119e-04],\n",
       "       [4.77272727e-01, 3.59856058e-03, 1.81641629e-02],\n",
       "       [1.81818182e-01, 1.71360027e-03, 2.68464043e-03],\n",
       "       [4.88636364e-01, 6.34032101e-03, 1.99920032e-03],\n",
       "       [2.61363636e-01, 2.57040041e-03, 1.02816016e-03],\n",
       "       [3.52272727e-01, 1.59936026e-03, 2.57040041e-03],\n",
       "       [5.11363636e-01, 7.53984121e-03, 3.31296053e-03],\n",
       "       [1.81818182e-01, 1.82784029e-03, 4.56960073e-03],\n",
       "       [5.34090909e-01, 2.74176044e-03, 1.48512024e-03],\n",
       "       [2.61363636e-01, 1.08528017e-03, 6.28320101e-04],\n",
       "       [3.52272727e-01, 7.42560119e-04, 1.14240018e-03],\n",
       "       [4.88636364e-01, 7.99680128e-04, 1.37088022e-03],\n",
       "       [4.77272727e-01, 1.77072028e-03, 9.13920146e-04],\n",
       "       [4.88636364e-01, 4.22688068e-03, 2.11344034e-03],\n",
       "       [4.77272727e-01, 2.74176044e-03, 3.25584052e-03],\n",
       "       [1.81818182e-01, 2.22768036e-03, 1.42800023e-03],\n",
       "       [2.61363636e-01, 2.17056035e-03, 1.37088022e-03],\n",
       "       [4.54545455e-01, 1.48512024e-03, 1.08528017e-03],\n",
       "       [3.52272727e-01, 1.71360027e-03, 6.85440110e-04],\n",
       "       [1.81818182e-01, 1.13097618e-02, 1.10241618e-02],\n",
       "       [2.61363636e-01, 6.34032101e-03, 5.71200091e-03],\n",
       "       [5.90909091e-01, 1.06814417e-02, 4.79808077e-03],\n",
       "       [3.52272727e-01, 2.85600046e-04, 7.99680128e-04],\n",
       "       [5.11363636e-01, 6.28320101e-04, 9.88176158e-03],\n",
       "       [5.34090909e-01, 5.14080082e-03, 1.21094419e-02],\n",
       "       [2.38636364e-01, 2.17056035e-03, 2.68464043e-03],\n",
       "       [3.18181818e-01, 4.56960073e-04, 2.68464043e-03],\n",
       "       [5.45454545e-01, 3.42720055e-03, 3.42720055e-04],\n",
       "       [4.09090909e-01, 7.42560119e-04, 2.85600046e-04],\n",
       "       [5.68181818e-01, 4.16976067e-03, 2.85600046e-03],\n",
       "       [2.38636364e-01, 6.85440110e-04, 3.25584052e-03],\n",
       "       [3.18181818e-01, 8.56800137e-04, 4.56960073e-04],\n",
       "       [5.90909091e-01, 2.62752042e-03, 1.14240018e-04],\n",
       "       [4.09090909e-01, 3.99840064e-04, 5.71200091e-04],\n",
       "       [5.45454545e-01, 0.00000000e+00, 2.28480037e-03],\n",
       "       [5.45454545e-01, 2.22768036e-03, 1.48512024e-03],\n",
       "       [5.68181818e-01, 3.54144057e-03, 3.59856058e-03],\n",
       "       [1.81818182e-01, 1.77072028e-03, 2.57040041e-03],\n",
       "       [5.45454545e-01, 1.42800023e-03, 5.14080082e-04],\n",
       "       [2.61363636e-01, 2.68464043e-03, 7.99680128e-04],\n",
       "       [5.22727273e-01, 1.31376021e-03, 1.99920032e-03],\n",
       "       [3.52272727e-01, 1.31376021e-03, 9.71040155e-04],\n",
       "       [5.34090909e-01, 1.77072028e-03, 2.28480037e-04],\n",
       "       [1.81818182e-01, 4.28400069e-03, 9.42480151e-03],\n",
       "       [2.61363636e-01, 1.99920032e-03, 4.05552065e-03],\n",
       "       [4.88636364e-01, 1.44513623e-02, 8.56800137e-04],\n",
       "       [3.52272727e-01, 6.85440110e-04, 0.00000000e+00],\n",
       "       [5.11363636e-01, 2.05632033e-03, 3.99840064e-04],\n",
       "       [4.54545455e-01, 3.99840064e-04, 1.44513623e-02],\n",
       "       [4.77272727e-01, 3.48432056e-03, 1.08528017e-02],\n",
       "       [1.81818182e-01, 1.99920032e-03, 1.02816016e-03],\n",
       "       [2.61363636e-01, 6.28320101e-04, 2.51328040e-03],\n",
       "       [4.88636364e-01, 5.19792083e-03, 1.71360027e-04],\n",
       "       [3.52272727e-01, 7.42560119e-04, 2.85600046e-04],\n",
       "       [5.11363636e-01, 4.11264066e-03, 2.45616039e-03],\n",
       "       [1.81818182e-01, 7.99680128e-04, 2.39904038e-03],\n",
       "       [2.61363636e-01, 1.14240018e-03, 4.56960073e-04],\n",
       "       [5.34090909e-01, 1.14240018e-03, 3.42720055e-04],\n",
       "       [3.52272727e-01, 3.42720055e-04, 4.56960073e-04],\n",
       "       [4.88636364e-01, 2.79888045e-03, 6.28320101e-04],\n",
       "       [4.77272727e-01, 9.13920146e-04, 3.25584052e-03],\n",
       "       [4.88636364e-01, 4.79808077e-03, 1.71360027e-03],\n",
       "       [4.77272727e-01, 3.02736048e-03, 3.42720055e-03],\n",
       "       [1.81818182e-01, 1.71360027e-03, 2.85600046e-04],\n",
       "       [2.61363636e-01, 2.28480037e-03, 1.71360027e-03],\n",
       "       [4.54545455e-01, 1.19952019e-03, 9.71040155e-04],\n",
       "       [3.52272727e-01, 1.37088022e-03, 9.71040155e-04],\n",
       "       [1.81818182e-01, 5.99760096e-03, 8.68224139e-03],\n",
       "       [2.61363636e-01, 4.62672074e-03, 3.88416062e-03],\n",
       "       [5.34090909e-01, 8.51088136e-03, 5.71200091e-05],\n",
       "       [3.52272727e-01, 3.99840064e-03, 6.28320101e-04],\n",
       "       [5.22727273e-01, 5.71200091e-05, 2.97024048e-03],\n",
       "       [5.34090909e-01, 6.28320101e-04, 9.88176158e-03],\n",
       "       [3.97727273e-01, 1.59936026e-03, 5.14080082e-04],\n",
       "       [4.20454545e-01, 2.74176044e-03, 1.07385617e-02],\n",
       "       [2.95454545e-01, 6.34032101e-03, 1.14240018e-04],\n",
       "       [3.40909091e-01, 3.88416062e-03, 4.56960073e-04],\n",
       "       [4.31818182e-01, 6.51168104e-03, 1.71360027e-04],\n",
       "       [2.04545455e-01, 5.14080082e-03, 5.71200091e-05],\n",
       "       [4.54545455e-01, 5.88336094e-03, 3.99840064e-03],\n",
       "       [3.40909091e-01, 4.11264066e-03, 3.08448049e-03],\n",
       "       [4.77272727e-01, 6.39744102e-03, 1.14240018e-04],\n",
       "       [2.84090909e-01, 4.34112069e-03, 5.71200091e-05],\n",
       "       [2.04545455e-01, 3.82704061e-03, 2.28480037e-04],\n",
       "       [3.86363636e-01, 4.56960073e-03, 4.74096076e-03],\n",
       "       [3.97727273e-01, 7.08288113e-03, 7.42560119e-03],\n",
       "       [2.61363636e-01, 1.25664020e-03, 4.11264066e-03],\n",
       "       [3.40909091e-01, 5.42640087e-03, 5.71200091e-04],\n",
       "       [4.43181818e-01, 4.34112069e-03, 2.97024048e-03],\n",
       "       [3.97727273e-01, 1.34803222e-02, 9.88176158e-03],\n",
       "       [2.61363636e-01, 2.63323242e-02, 3.59856058e-03],\n",
       "       [3.75000000e-01, 1.76500828e-02, 7.08288113e-03],\n",
       "       [4.09090909e-01, 1.59936026e-03, 4.91232079e-03],\n",
       "       [4.43181818e-01, 1.09670418e-02, 1.31376021e-03],\n",
       "       [4.31818182e-01, 4.96944080e-03, 6.28320101e-04],\n",
       "       [4.09090909e-01, 1.11955218e-02, 1.88496030e-03],\n",
       "       [3.97727273e-01, 7.59696122e-03, 1.14811218e-02],\n",
       "       [4.54545455e-01, 1.65648027e-03, 8.22528132e-03],\n",
       "       [4.77272727e-01, 2.57040041e-03, 1.69646427e-02],\n",
       "       [1.81818182e-01, 2.28480037e-03, 1.37088022e-03],\n",
       "       [2.61363636e-01, 1.19952019e-03, 2.51328040e-03],\n",
       "       [4.88636364e-01, 2.22768036e-03, 2.28480037e-04],\n",
       "       [3.52272727e-01, 8.56800137e-04, 8.56800137e-04],\n",
       "       [5.11363636e-01, 4.74096076e-03, 1.31376021e-03],\n",
       "       [1.81818182e-01, 1.88496030e-03, 2.34192037e-03],\n",
       "       [5.34090909e-01, 1.54224025e-03, 1.77072028e-03],\n",
       "       [2.61363636e-01, 6.28320101e-04, 1.71360027e-04],\n",
       "       [3.52272727e-01, 2.85600046e-04, 8.56800137e-04],\n",
       "       [4.88636364e-01, 5.71200091e-05, 1.02816016e-03],\n",
       "       [4.77272727e-01, 1.94208031e-03, 1.19952019e-03],\n",
       "       [4.88636364e-01, 3.71280059e-03, 2.85600046e-03],\n",
       "       [4.77272727e-01, 1.71360027e-03, 3.65568058e-03],\n",
       "       [2.61363636e-01, 2.05632033e-03, 2.85600046e-03],\n",
       "       [4.54545455e-01, 1.37088022e-03, 5.71200091e-04],\n",
       "       [1.81818182e-01, 2.28480037e-03, 5.71200091e-05],\n",
       "       [3.52272727e-01, 1.82784029e-03, 6.85440110e-04],\n",
       "       [1.81818182e-01, 7.36848118e-03, 1.07956817e-02],\n",
       "       [2.61363636e-01, 3.65568058e-03, 6.34032101e-03],\n",
       "       [3.52272727e-01, 4.96944080e-03, 1.14240018e-04],\n",
       "       [5.90909091e-01, 4.22688068e-03, 1.71360027e-04],\n",
       "       [5.90909091e-01, 3.08448049e-03, 8.62512138e-03],\n",
       "       [5.11363636e-01, 1.71360027e-04, 3.76992060e-03],\n",
       "       [5.34090909e-01, 1.09099217e-02, 1.11384018e-02],\n",
       "       [2.38636364e-01, 4.91232079e-03, 4.16976067e-03],\n",
       "       [3.18181818e-01, 2.68464043e-03, 4.74096076e-03],\n",
       "       [5.45454545e-01, 5.02656080e-03, 1.71360027e-04],\n",
       "       [4.09090909e-01, 9.13920146e-04, 2.28480037e-03],\n",
       "       [5.68181818e-01, 1.82784029e-03, 2.11344034e-03],\n",
       "       [2.38636364e-01, 7.99680128e-04, 6.85440110e-04],\n",
       "       [5.90909091e-01, 5.76912092e-03, 6.28320101e-04],\n",
       "       [3.18181818e-01, 1.19952019e-03, 6.28320101e-04],\n",
       "       [4.09090909e-01, 1.31376021e-03, 2.28480037e-04],\n",
       "       [5.45454545e-01, 1.31376021e-03, 3.08448049e-03],\n",
       "       [5.45454545e-01, 9.13920146e-04, 1.65648027e-03],\n",
       "       [5.68181818e-01, 3.65568058e-03, 2.45616039e-03],\n",
       "       [5.45454545e-01, 2.45616039e-03, 2.85600046e-03],\n",
       "       [1.81818182e-01, 2.28480037e-03, 8.56800137e-04],\n",
       "       [5.34090909e-01, 1.14240018e-03, 1.77072028e-03],\n",
       "       [2.61363636e-01, 2.85600046e-03, 3.42720055e-04],\n",
       "       [3.52272727e-01, 1.37088022e-03, 2.05632033e-03],\n",
       "       [1.81818182e-01, 5.42640087e-03, 1.03387217e-02],\n",
       "       [2.61363636e-01, 2.22768036e-03, 3.94128063e-03],\n",
       "       [4.88636364e-01, 1.11384018e-02, 7.99680128e-04],\n",
       "       [3.52272727e-01, 1.25664020e-03, 2.85600046e-04],\n",
       "       [4.54545455e-01, 3.99840064e-04, 1.15953619e-02],\n",
       "       [4.77272727e-01, 4.79808077e-03, 8.51088136e-03],\n",
       "       [1.81818182e-01, 6.85440110e-04, 6.85440110e-04],\n",
       "       [2.61363636e-01, 2.34192037e-03, 5.71200091e-04],\n",
       "       [3.52272727e-01, 1.71360027e-03, 2.51328040e-03],\n",
       "       [4.88636364e-01, 4.45536071e-03, 2.28480037e-04],\n",
       "       [5.11363636e-01, 4.39824070e-03, 2.39904038e-03],\n",
       "       [1.81818182e-01, 9.71040155e-04, 1.37088022e-03],\n",
       "       [2.61363636e-01, 2.79888045e-03, 6.85440110e-04],\n",
       "       [5.34090909e-01, 4.11264066e-03, 6.85440110e-04],\n",
       "       [3.52272727e-01, 7.99680128e-04, 1.65648027e-03],\n",
       "       [4.88636364e-01, 2.74176044e-03, 5.08368081e-03],\n",
       "       [4.77272727e-01, 2.57040041e-03, 3.59856058e-03],\n",
       "       [4.88636364e-01, 2.57040041e-03, 3.08448049e-03],\n",
       "       [4.77272727e-01, 3.02736048e-03, 7.42560119e-04],\n",
       "       [1.81818182e-01, 1.59936026e-03, 1.42800023e-03],\n",
       "       [2.61363636e-01, 2.74176044e-03, 8.56800137e-04],\n",
       "       [4.54545455e-01, 1.14240018e-03, 3.99840064e-04],\n",
       "       [3.52272727e-01, 7.42560119e-04, 1.59936026e-03],\n",
       "       [1.81818182e-01, 2.57040041e-03, 1.31376021e-03],\n",
       "       [2.61363636e-01, 5.19792083e-03, 1.02816016e-03],\n",
       "       [2.27272727e-01, 4.79808077e-03, 5.71200091e-05],\n",
       "       [3.52272727e-01, 2.79888045e-03, 3.31296053e-03],\n",
       "       [5.34090909e-01, 8.51088136e-03, 2.28480037e-04],\n",
       "       [5.34090909e-01, 1.14240018e-03, 1.35374422e-02],\n",
       "       [3.97727273e-01, 6.85440110e-04, 1.08528017e-03]])"
      ]
     },
     "execution_count": 69,
     "metadata": {},
     "output_type": "execute_result"
    }
   ],
   "source": [
    "training_data_midi[0]"
   ]
  },
  {
   "cell_type": "code",
   "execution_count": 70,
   "id": "upset-morgan",
   "metadata": {},
   "outputs": [],
   "source": [
    "training_data_midi[:,:,1] = training_data_midi[:,:,1]*100\n",
    "training_data_midi[:,:,2] = training_data_midi[:,:,2]*100"
   ]
  },
  {
   "cell_type": "code",
   "execution_count": null,
   "id": "adjustable-substance",
   "metadata": {},
   "outputs": [],
   "source": []
  },
  {
   "cell_type": "code",
   "execution_count": null,
   "id": "sharing-payment",
   "metadata": {},
   "outputs": [],
   "source": []
  },
  {
   "cell_type": "code",
   "execution_count": 77,
   "id": "bound-owner",
   "metadata": {},
   "outputs": [],
   "source": [
    "def build_generator(seed_size, channels):\n",
    "    model = Sequential()\n",
    "\n",
    "    model.add(Dense(4*256,activation=\"relu\",input_dim=SEED_SIZE))\n",
    "    model.add(Reshape((4,256)))\n",
    "\n",
    "    model.add(UpSampling1D()) #8\n",
    "    model.add(Conv1D(256,kernel_size=3,padding=\"same\"))\n",
    "    model.add(BatchNormalization(momentum=0.8))\n",
    "    model.add(Activation(\"relu\"))\n",
    "\n",
    "    model.add(UpSampling1D()) #16\n",
    "    model.add(Conv1D(256,kernel_size=3,padding=\"same\"))\n",
    "    model.add(BatchNormalization(momentum=0.8))\n",
    "    model.add(Activation(\"relu\"))\n",
    "\n",
    "    # Output resolution, additional upsampling\n",
    "    model.add(UpSampling1D()) #32\n",
    "    model.add(Conv1D(128,kernel_size=3,padding=\"same\"))\n",
    "    model.add(BatchNormalization(momentum=0.8))\n",
    "    model.add(Activation(\"relu\"))\n",
    "    \n",
    "    \n",
    "    model.add(UpSampling1D()) #64\n",
    "    model.add(Conv1D(64,kernel_size=3,padding=\"same\"))\n",
    "    model.add(BatchNormalization(momentum=0.8))\n",
    "    model.add(Activation(\"relu\"))\n",
    "\n",
    "    model.add(UpSampling1D(size=(3))) #\n",
    "    model.add(Conv1D(32,kernel_size=3,padding=\"same\"))\n",
    "    model.add(BatchNormalization(momentum=0.8))\n",
    "    model.add(Activation(\"relu\"))\n",
    "\n",
    "    # Final CNN layer\n",
    "    model.add(Conv1D(3,kernel_size=3,padding=\"same\"))\n",
    "    model.add(Activation(\"sigmoid\"))\n",
    "    \n",
    "    return model\n",
    "\n",
    "    \n",
    "    \n",
    "def build_discriminator(image_shape):\n",
    "    model = Sequential()\n",
    "\n",
    "    model.add(Conv1D(32, kernel_size=3, strides=2, input_shape=image_shape, padding=\"same\"))\n",
    "    model.add(LeakyReLU(alpha=0.2))\n",
    "\n",
    "    model.add(Dropout(0.25))\n",
    "    model.add(Conv1D(64, kernel_size=3, strides=2, padding=\"same\"))\n",
    "    model.add(ZeroPadding1D(padding=((0,1))))\n",
    "    model.add(BatchNormalization(momentum=0.8))\n",
    "    model.add(LeakyReLU(alpha=0.2))\n",
    "\n",
    "    model.add(Dropout(0.25))\n",
    "    model.add(Conv1D(128, kernel_size=3, strides=2, padding=\"same\"))\n",
    "    model.add(BatchNormalization(momentum=0.8))\n",
    "    model.add(LeakyReLU(alpha=0.2))\n",
    "\n",
    "    model.add(Dropout(0.25))\n",
    "    model.add(Conv1D(256, kernel_size=3, strides=1, padding=\"same\"))\n",
    "    model.add(BatchNormalization(momentum=0.8))\n",
    "    model.add(LeakyReLU(alpha=0.2))\n",
    "\n",
    "    model.add(Dropout(0.25))\n",
    "    model.add(Conv1D(512, kernel_size=3, strides=1, padding=\"same\"))\n",
    "    model.add(BatchNormalization(momentum=0.8))\n",
    "    model.add(LeakyReLU(alpha=0.2))\n",
    "\n",
    "    model.add(Dropout(0.25))\n",
    "    model.add(Flatten())\n",
    "    model.add(Dense(1, activation='sigmoid'))\n",
    "    \n",
    "    return model"
   ]
  },
  {
   "cell_type": "code",
   "execution_count": null,
   "id": "constant-margin",
   "metadata": {},
   "outputs": [],
   "source": []
  },
  {
   "cell_type": "code",
   "execution_count": 78,
   "id": "aggressive-punishment",
   "metadata": {},
   "outputs": [],
   "source": [
    "generator = build_generator(SEED_SIZE, 1)\n",
    "\n",
    "noise = tf.random.normal([1,SEED_SIZE])\n",
    "generated_image = generator(noise, training=False)\n",
    "\n",
    "#plt.imshow(generated_image[0, :, :, 0])"
   ]
  },
  {
   "cell_type": "code",
   "execution_count": 79,
   "id": "interim-first",
   "metadata": {},
   "outputs": [
    {
     "data": {
      "text/plain": [
       "tensorflow.python.keras.engine.sequential.Sequential"
      ]
     },
     "execution_count": 79,
     "metadata": {},
     "output_type": "execute_result"
    }
   ],
   "source": [
    "type(generator)"
   ]
  },
  {
   "cell_type": "code",
   "execution_count": 80,
   "id": "adapted-capture",
   "metadata": {},
   "outputs": [
    {
     "name": "stdout",
     "output_type": "stream",
     "text": [
      "tf.Tensor([[0.49777135]], shape=(1, 1), dtype=float32)\n"
     ]
    }
   ],
   "source": [
    "image_shape = (192,3)\n",
    "\n",
    "discriminator = build_discriminator(image_shape)\n",
    "decision = discriminator(generated_image)\n",
    "print (decision)"
   ]
  },
  {
   "cell_type": "code",
   "execution_count": 81,
   "id": "macro-southwest",
   "metadata": {},
   "outputs": [],
   "source": [
    "# This method returns a helper function to compute cross entropy loss\n",
    "cross_entropy = tf.keras.losses.BinaryCrossentropy()\n",
    "\n",
    "def discriminator_loss(real_output, fake_output):\n",
    "    real_loss = cross_entropy(tf.ones_like(real_output), real_output)\n",
    "    fake_loss = cross_entropy(tf.zeros_like(fake_output), fake_output)\n",
    "    total_loss = real_loss + fake_loss\n",
    "    return total_loss\n",
    "\n",
    "def generator_loss(fake_output):\n",
    "    return cross_entropy(tf.ones_like(fake_output), fake_output)"
   ]
  },
  {
   "cell_type": "code",
   "execution_count": 82,
   "id": "solid-philosophy",
   "metadata": {},
   "outputs": [],
   "source": [
    "generator_optimizer = tf.keras.optimizers.Adam(1.5e-4,0.5)\n",
    "discriminator_optimizer = tf.keras.optimizers.Adam(1.5e-4,0.5)"
   ]
  },
  {
   "cell_type": "code",
   "execution_count": 83,
   "id": "white-impression",
   "metadata": {},
   "outputs": [],
   "source": [
    "# Notice the use of `tf.function`\n",
    "# This annotation causes the function to be \"compiled\".\n",
    "@tf.function\n",
    "def train_step(images):\n",
    "    seed = tf.random.normal([BATCH_SIZE, SEED_SIZE])\n",
    "\n",
    "    with tf.GradientTape() as gen_tape, tf.GradientTape() as disc_tape:\n",
    "        generated_images = generator(seed, training=True)\n",
    "\n",
    "        real_output = discriminator(images, training=True)\n",
    "        fake_output = discriminator(generated_images, training=True)\n",
    "\n",
    "        gen_loss = generator_loss(fake_output)\n",
    "        disc_loss = discriminator_loss(real_output, fake_output)\n",
    "    \n",
    "\n",
    "        gradients_of_generator = gen_tape.gradient(\\\n",
    "            gen_loss, generator.trainable_variables)\n",
    "        gradients_of_discriminator = disc_tape.gradient(\\\n",
    "            disc_loss, discriminator.trainable_variables)\n",
    "\n",
    "        generator_optimizer.apply_gradients(zip(\n",
    "            gradients_of_generator, generator.trainable_variables))\n",
    "        discriminator_optimizer.apply_gradients(zip(\n",
    "            gradients_of_discriminator, \n",
    "            discriminator.trainable_variables))\n",
    "    return gen_loss,disc_loss"
   ]
  },
  {
   "cell_type": "code",
   "execution_count": 85,
   "id": "adequate-protocol",
   "metadata": {},
   "outputs": [],
   "source": [
    "def train(dataset, epochs):\n",
    "    #fixed_seed = np.random.normal(0, 1, (PREVIEW_ROWS * PREVIEW_COLS, \n",
    "    #                                   SEED_SIZE))\n",
    "    start = time.time()\n",
    "\n",
    "    for epoch in range(epochs):\n",
    "        epoch_start = time.time()\n",
    "\n",
    "        gen_loss_list = []\n",
    "        disc_loss_list = []\n",
    "\n",
    "        for image_batch in dataset:\n",
    "            t = train_step(image_batch)\n",
    "            gen_loss_list.append(t[0])\n",
    "            disc_loss_list.append(t[1])\n",
    "\n",
    "        g_loss = sum(gen_loss_list) / len(gen_loss_list)\n",
    "        d_loss = sum(disc_loss_list) / len(disc_loss_list)\n",
    "\n",
    "        epoch_elapsed = time.time()-epoch_start\n",
    "        print (f'Epoch {epoch+1}, gen loss={g_loss},disc loss={d_loss},'\\\n",
    "           ' {hms_string(epoch_elapsed)}')\n",
    "        #save_images(epoch,fixed_seed)\n",
    "\n",
    "    elapsed = time.time()-start\n",
    "    print (f'Training time: {hms_string(elapsed)}')"
   ]
  },
  {
   "cell_type": "code",
   "execution_count": 15,
   "id": "brief-morris",
   "metadata": {},
   "outputs": [],
   "source": [
    "#!pip3 install gast==0.2.2"
   ]
  },
  {
   "cell_type": "code",
   "execution_count": 86,
   "id": "intermediate-suicide",
   "metadata": {
    "scrolled": true
   },
   "outputs": [
    {
     "name": "stdout",
     "output_type": "stream",
     "text": [
      "Epoch 1, gen loss=2.702883720397949,disc loss=0.507816731929779, {hms_string(epoch_elapsed)}\n",
      "Epoch 2, gen loss=5.312332630157471,disc loss=0.04068141430616379, {hms_string(epoch_elapsed)}\n",
      "Epoch 3, gen loss=5.952878952026367,disc loss=0.0418538972735405, {hms_string(epoch_elapsed)}\n",
      "Epoch 4, gen loss=6.1130051612854,disc loss=0.08918022364377975, {hms_string(epoch_elapsed)}\n",
      "Epoch 5, gen loss=3.7477307319641113,disc loss=0.40557876229286194, {hms_string(epoch_elapsed)}\n",
      "Epoch 6, gen loss=2.439633369445801,disc loss=1.2030308246612549, {hms_string(epoch_elapsed)}\n",
      "Epoch 7, gen loss=1.6988714933395386,disc loss=1.38587486743927, {hms_string(epoch_elapsed)}\n",
      "Epoch 8, gen loss=1.5718005895614624,disc loss=1.466781735420227, {hms_string(epoch_elapsed)}\n",
      "Epoch 9, gen loss=1.3363851308822632,disc loss=1.424028754234314, {hms_string(epoch_elapsed)}\n",
      "Epoch 10, gen loss=1.3053491115570068,disc loss=1.4275621175765991, {hms_string(epoch_elapsed)}\n",
      "Epoch 11, gen loss=1.3033792972564697,disc loss=1.3434183597564697, {hms_string(epoch_elapsed)}\n",
      "Epoch 12, gen loss=1.2722625732421875,disc loss=1.3862981796264648, {hms_string(epoch_elapsed)}\n",
      "Epoch 13, gen loss=1.307213544845581,disc loss=1.3213661909103394, {hms_string(epoch_elapsed)}\n",
      "Epoch 14, gen loss=1.2940019369125366,disc loss=1.3275706768035889, {hms_string(epoch_elapsed)}\n",
      "Epoch 15, gen loss=1.2326627969741821,disc loss=1.3267607688903809, {hms_string(epoch_elapsed)}\n",
      "Epoch 16, gen loss=1.3253796100616455,disc loss=1.1744858026504517, {hms_string(epoch_elapsed)}\n",
      "Epoch 17, gen loss=1.2330855131149292,disc loss=1.297730803489685, {hms_string(epoch_elapsed)}\n",
      "Epoch 18, gen loss=1.2520167827606201,disc loss=1.2085415124893188, {hms_string(epoch_elapsed)}\n",
      "Epoch 19, gen loss=1.3616349697113037,disc loss=1.1183182001113892, {hms_string(epoch_elapsed)}\n",
      "Epoch 20, gen loss=1.3218656778335571,disc loss=1.1189154386520386, {hms_string(epoch_elapsed)}\n",
      "Epoch 21, gen loss=1.2841254472732544,disc loss=1.1591297388076782, {hms_string(epoch_elapsed)}\n",
      "Epoch 22, gen loss=1.2355583906173706,disc loss=1.2407950162887573, {hms_string(epoch_elapsed)}\n",
      "Epoch 23, gen loss=1.2693716287612915,disc loss=1.176513433456421, {hms_string(epoch_elapsed)}\n",
      "Epoch 24, gen loss=1.2803714275360107,disc loss=1.1663285493850708, {hms_string(epoch_elapsed)}\n",
      "Epoch 25, gen loss=1.41090989112854,disc loss=1.088445782661438, {hms_string(epoch_elapsed)}\n",
      "Epoch 26, gen loss=1.3706839084625244,disc loss=1.1372243165969849, {hms_string(epoch_elapsed)}\n",
      "Epoch 27, gen loss=1.2960633039474487,disc loss=1.1502811908721924, {hms_string(epoch_elapsed)}\n",
      "Epoch 28, gen loss=1.3279293775558472,disc loss=1.1256951093673706, {hms_string(epoch_elapsed)}\n",
      "Epoch 29, gen loss=1.3161754608154297,disc loss=1.1624950170516968, {hms_string(epoch_elapsed)}\n",
      "Epoch 30, gen loss=1.3215593099594116,disc loss=1.1681069135665894, {hms_string(epoch_elapsed)}\n",
      "Epoch 31, gen loss=1.3834983110427856,disc loss=1.0823473930358887, {hms_string(epoch_elapsed)}\n",
      "Epoch 32, gen loss=1.4870110750198364,disc loss=1.0055369138717651, {hms_string(epoch_elapsed)}\n",
      "Epoch 33, gen loss=1.4627312421798706,disc loss=1.0487440824508667, {hms_string(epoch_elapsed)}\n",
      "Epoch 34, gen loss=1.4244025945663452,disc loss=1.0529853105545044, {hms_string(epoch_elapsed)}\n",
      "Epoch 35, gen loss=1.499988317489624,disc loss=1.0244404077529907, {hms_string(epoch_elapsed)}\n",
      "Epoch 36, gen loss=1.4491273164749146,disc loss=1.0274341106414795, {hms_string(epoch_elapsed)}\n",
      "Epoch 37, gen loss=1.4017263650894165,disc loss=1.0685677528381348, {hms_string(epoch_elapsed)}\n",
      "Epoch 38, gen loss=1.5075610876083374,disc loss=0.9808757901191711, {hms_string(epoch_elapsed)}\n",
      "Epoch 39, gen loss=1.458776593208313,disc loss=1.0110028982162476, {hms_string(epoch_elapsed)}\n",
      "Epoch 40, gen loss=1.5426348447799683,disc loss=0.974157452583313, {hms_string(epoch_elapsed)}\n",
      "Epoch 41, gen loss=1.5261954069137573,disc loss=0.946169912815094, {hms_string(epoch_elapsed)}\n",
      "Epoch 42, gen loss=1.5153497457504272,disc loss=1.0033890008926392, {hms_string(epoch_elapsed)}\n",
      "Epoch 43, gen loss=1.5583970546722412,disc loss=0.9720070362091064, {hms_string(epoch_elapsed)}\n",
      "Epoch 44, gen loss=1.5576848983764648,disc loss=0.9941474199295044, {hms_string(epoch_elapsed)}\n",
      "Epoch 45, gen loss=1.5573982000350952,disc loss=0.9650397896766663, {hms_string(epoch_elapsed)}\n",
      "Epoch 46, gen loss=1.626668095588684,disc loss=0.8835559487342834, {hms_string(epoch_elapsed)}\n",
      "Epoch 47, gen loss=1.6544520854949951,disc loss=0.8601086139678955, {hms_string(epoch_elapsed)}\n",
      "Epoch 48, gen loss=1.6317449808120728,disc loss=0.9343407154083252, {hms_string(epoch_elapsed)}\n",
      "Epoch 49, gen loss=1.6310433149337769,disc loss=0.8992839455604553, {hms_string(epoch_elapsed)}\n",
      "Epoch 50, gen loss=1.7237114906311035,disc loss=0.8373683094978333, {hms_string(epoch_elapsed)}\n",
      "Training time: 0:13:56.11\n"
     ]
    }
   ],
   "source": [
    "train(train_dataset_midi, 50)"
   ]
  },
  {
   "cell_type": "code",
   "execution_count": 17,
   "id": "dated-syracuse",
   "metadata": {},
   "outputs": [],
   "source": [
    "generator.save(os.path.join(DATA_PATH,\"face_generator.h5\"))"
   ]
  },
  {
   "cell_type": "code",
   "execution_count": 100,
   "id": "viral-processor",
   "metadata": {},
   "outputs": [],
   "source": [
    "noise = tf.random.normal([1, SEED_SIZE])\n",
    "generated_image = generator(noise, training=False)\n",
    "\n",
    "#plt.imshow(generated_image[0, :, :, 0])"
   ]
  },
  {
   "cell_type": "code",
   "execution_count": 101,
   "id": "pregnant-diagnosis",
   "metadata": {},
   "outputs": [
    {
     "data": {
      "text/plain": [
       "array([[[6.12866163e-01, 5.05388379e-02, 4.88343835e-03],\n",
       "        [4.25765544e-01, 9.80985165e-03, 6.85393810e-04],\n",
       "        [5.57674766e-01, 5.93489408e-03, 2.58803368e-03],\n",
       "        [3.46866488e-01, 1.98981166e-03, 2.57781148e-03],\n",
       "        [2.50857115e-01, 1.49756670e-03, 4.69464064e-03],\n",
       "        [4.10543084e-01, 1.29908323e-03, 2.44653225e-03],\n",
       "        [4.60865200e-01, 1.26892328e-03, 2.90474296e-03],\n",
       "        [4.34806108e-01, 1.46114826e-03, 1.81552768e-03],\n",
       "        [7.05136120e-01, 9.80705023e-04, 2.06518173e-03],\n",
       "        [5.94105780e-01, 1.46114826e-03, 3.72406840e-03],\n",
       "        [7.45148063e-01, 1.53812766e-03, 2.75519490e-03],\n",
       "        [5.83535910e-01, 2.39512324e-03, 2.37861276e-03],\n",
       "        [5.09982765e-01, 1.95956230e-03, 1.96644664e-03],\n",
       "        [6.90756619e-01, 2.14254856e-03, 7.38978386e-04],\n",
       "        [7.05254257e-01, 1.20320916e-03, 3.91393900e-04],\n",
       "        [6.69434071e-01, 1.26147270e-03, 3.45528126e-04],\n",
       "        [7.35527515e-01, 2.73147225e-03, 3.84747982e-04],\n",
       "        [6.19846344e-01, 3.56447697e-03, 5.96344471e-04],\n",
       "        [6.09557271e-01, 4.74703312e-03, 1.21074915e-03],\n",
       "        [6.77844048e-01, 5.67591190e-03, 2.53659487e-03],\n",
       "        [5.81280231e-01, 7.26816058e-03, 2.11361051e-03],\n",
       "        [5.37879586e-01, 4.96152043e-03, 1.64452195e-03],\n",
       "        [6.85880184e-01, 3.71038914e-03, 1.29401684e-03],\n",
       "        [6.30570590e-01, 2.52363086e-03, 1.10107660e-03],\n",
       "        [6.16051257e-01, 2.48679519e-03, 8.78423452e-04],\n",
       "        [6.45555198e-01, 2.65303254e-03, 1.11359358e-03],\n",
       "        [6.91817641e-01, 2.32228637e-03, 1.56328082e-03],\n",
       "        [4.96683538e-01, 3.29121947e-03, 2.30905414e-03],\n",
       "        [6.33092523e-01, 2.84790993e-03, 1.80575252e-03],\n",
       "        [6.84716940e-01, 2.04652548e-03, 1.34918094e-03],\n",
       "        [4.97788191e-01, 1.85474753e-03, 5.55366278e-04],\n",
       "        [5.40956259e-01, 1.61314011e-03, 9.34273005e-04],\n",
       "        [5.53917646e-01, 1.22705102e-03, 8.13186169e-04],\n",
       "        [5.55733681e-01, 3.38277221e-03, 1.54829025e-03],\n",
       "        [4.32009429e-01, 2.29454041e-03, 2.39601731e-03],\n",
       "        [6.01954758e-01, 3.86613607e-03, 2.75769830e-03],\n",
       "        [5.59916198e-01, 2.83887982e-03, 2.52157450e-03],\n",
       "        [6.42541289e-01, 5.25510311e-03, 3.76388431e-03],\n",
       "        [5.17445803e-01, 5.21346927e-03, 2.67907977e-03],\n",
       "        [5.03048360e-01, 7.98013806e-03, 2.02462077e-03],\n",
       "        [5.53743720e-01, 6.37772679e-03, 3.12474370e-03],\n",
       "        [3.83473039e-01, 8.66928697e-03, 2.69299746e-03],\n",
       "        [5.76039314e-01, 1.52246356e-02, 4.74295020e-03],\n",
       "        [5.74361563e-01, 1.62537396e-02, 6.11335039e-03],\n",
       "        [5.21187901e-01, 1.50243044e-02, 5.53309917e-03],\n",
       "        [4.97863024e-01, 1.43322051e-02, 4.83605266e-03],\n",
       "        [5.04536867e-01, 1.24838650e-02, 3.05294991e-03],\n",
       "        [6.65611982e-01, 1.17669106e-02, 3.48803401e-03],\n",
       "        [5.25580227e-01, 9.80702043e-03, 2.92366743e-03],\n",
       "        [4.48817581e-01, 6.96718693e-03, 3.05837393e-03],\n",
       "        [5.03186703e-01, 5.22828102e-03, 2.21836567e-03],\n",
       "        [7.62072802e-01, 4.01729345e-03, 1.70552731e-03],\n",
       "        [6.27688468e-01, 3.37153673e-03, 8.58277082e-04],\n",
       "        [4.78469729e-01, 2.71162391e-03, 1.21644139e-03],\n",
       "        [5.43498755e-01, 3.76343727e-03, 1.64994597e-03],\n",
       "        [4.35902506e-01, 4.41554189e-03, 2.00194120e-03],\n",
       "        [4.87126797e-01, 6.62729144e-03, 2.19258666e-03],\n",
       "        [4.49220270e-01, 8.59862566e-03, 2.43431330e-03],\n",
       "        [3.46816838e-01, 6.28790259e-03, 2.17443705e-03],\n",
       "        [5.62105358e-01, 6.51735067e-03, 2.53975391e-03],\n",
       "        [5.60499609e-01, 6.33499026e-03, 2.79745460e-03],\n",
       "        [5.39415240e-01, 6.69729710e-03, 2.87505984e-03],\n",
       "        [5.04486322e-01, 6.76307082e-03, 2.74547935e-03],\n",
       "        [4.19604242e-01, 6.01828098e-03, 3.03536654e-03],\n",
       "        [5.87250948e-01, 7.16194510e-03, 3.07470560e-03],\n",
       "        [6.06181026e-01, 9.96461511e-03, 4.63417172e-03],\n",
       "        [4.52156663e-01, 8.96453857e-03, 6.58529997e-03],\n",
       "        [5.86154103e-01, 1.00551248e-02, 7.34743476e-03],\n",
       "        [4.06694919e-01, 1.05355680e-02, 9.07507539e-03],\n",
       "        [5.32892346e-01, 1.21589899e-02, 9.78446007e-03],\n",
       "        [6.20809853e-01, 1.16886795e-02, 1.24892890e-02],\n",
       "        [6.12215161e-01, 1.20528936e-02, 1.13443434e-02],\n",
       "        [4.16005611e-01, 9.15345550e-03, 7.62775540e-03],\n",
       "        [5.80797732e-01, 1.17045641e-02, 9.06246901e-03],\n",
       "        [4.64465320e-01, 1.04008913e-02, 1.08275115e-02],\n",
       "        [4.93742287e-01, 1.08004212e-02, 1.28385723e-02],\n",
       "        [3.98053378e-01, 9.29287076e-03, 1.03020072e-02],\n",
       "        [6.66871428e-01, 9.45112109e-03, 7.59831071e-03],\n",
       "        [3.11984479e-01, 8.44547153e-03, 6.16714358e-03],\n",
       "        [6.16372705e-01, 1.22184753e-02, 7.94529915e-03],\n",
       "        [3.41530949e-01, 1.15576684e-02, 9.30178165e-03],\n",
       "        [4.88971323e-01, 1.03271604e-02, 9.14546847e-03],\n",
       "        [5.32274723e-01, 8.11159611e-03, 5.54370880e-03],\n",
       "        [6.73931122e-01, 1.21688545e-02, 4.70909476e-03],\n",
       "        [2.19106466e-01, 1.10372007e-02, 4.55036759e-03],\n",
       "        [2.30230212e-01, 1.03174746e-02, 4.65086102e-03],\n",
       "        [5.32444894e-01, 1.20682716e-02, 3.67903709e-03],\n",
       "        [5.25950909e-01, 9.43255424e-03, 2.70092487e-03],\n",
       "        [5.33285975e-01, 9.48795676e-03, 3.32355499e-03],\n",
       "        [3.99391264e-01, 5.30791283e-03, 3.36793065e-03],\n",
       "        [5.23025155e-01, 5.19931316e-03, 2.98649073e-03],\n",
       "        [4.27047521e-01, 4.16132808e-03, 1.98554993e-03],\n",
       "        [4.03316408e-01, 3.45987082e-03, 1.56602263e-03],\n",
       "        [6.42299473e-01, 3.47751379e-03, 2.43380666e-03],\n",
       "        [4.15691555e-01, 3.20622325e-03, 2.03388929e-03],\n",
       "        [6.03529811e-01, 4.12151217e-03, 1.89968944e-03],\n",
       "        [4.99676466e-01, 5.34880161e-03, 2.24292278e-03],\n",
       "        [6.20823145e-01, 5.62557578e-03, 1.80822611e-03],\n",
       "        [6.99412107e-01, 4.03118134e-03, 2.03973055e-03],\n",
       "        [2.85269320e-01, 3.12668085e-03, 1.49098039e-03],\n",
       "        [3.78669918e-01, 1.20268464e-02, 3.90321016e-03],\n",
       "        [6.12221897e-01, 1.63342059e-02, 8.64276290e-03],\n",
       "        [4.47858751e-01, 8.77997279e-03, 6.93678856e-03],\n",
       "        [5.49930513e-01, 9.11772251e-03, 5.73548675e-03],\n",
       "        [6.06322229e-01, 9.92926955e-03, 4.77373600e-03],\n",
       "        [5.68183601e-01, 7.47233629e-03, 5.20080328e-03],\n",
       "        [5.80378294e-01, 1.16101503e-02, 5.95614314e-03],\n",
       "        [3.27650070e-01, 1.20614171e-02, 4.23321128e-03],\n",
       "        [6.91498399e-01, 2.17845142e-02, 6.74185157e-03],\n",
       "        [4.84025866e-01, 1.42964423e-02, 7.81092048e-03],\n",
       "        [5.94688177e-01, 1.53722167e-02, 9.38990712e-03],\n",
       "        [6.66289032e-01, 9.86933708e-03, 8.56092572e-03],\n",
       "        [6.25876665e-01, 1.61132216e-02, 8.49425793e-03],\n",
       "        [5.34846127e-01, 2.10569501e-02, 7.59997964e-03],\n",
       "        [5.96055210e-01, 2.54930258e-02, 9.94634628e-03],\n",
       "        [4.15479958e-01, 1.73479617e-02, 1.17815733e-02],\n",
       "        [5.11799932e-01, 1.12260878e-02, 8.12190771e-03],\n",
       "        [5.52527785e-01, 5.46792150e-03, 5.03274798e-03],\n",
       "        [5.87800264e-01, 3.43087316e-03, 2.89449096e-03],\n",
       "        [4.14545566e-01, 3.52883339e-03, 2.52100825e-03],\n",
       "        [6.47549272e-01, 6.90689683e-03, 3.19126248e-03],\n",
       "        [4.21188116e-01, 5.83863258e-03, 2.87902355e-03],\n",
       "        [5.20445466e-01, 7.94601440e-03, 3.11559439e-03],\n",
       "        [5.69472313e-01, 1.06840432e-02, 5.30815125e-03],\n",
       "        [4.55904633e-01, 9.09063220e-03, 5.06696105e-03],\n",
       "        [5.05244017e-01, 5.97438216e-03, 6.59981370e-03],\n",
       "        [5.09860456e-01, 5.45084476e-03, 5.77381253e-03],\n",
       "        [5.46719074e-01, 2.65038013e-03, 4.41268086e-03],\n",
       "        [6.34110093e-01, 1.54039264e-03, 2.99757719e-03],\n",
       "        [4.90357161e-01, 2.16954947e-03, 1.96629763e-03],\n",
       "        [3.87932926e-01, 2.44787335e-03, 1.98253989e-03],\n",
       "        [2.76342869e-01, 3.18521261e-03, 2.16382742e-03],\n",
       "        [3.89022440e-01, 4.47121263e-03, 2.35325098e-03],\n",
       "        [4.39942569e-01, 3.71965766e-03, 2.30693817e-03],\n",
       "        [4.03725207e-01, 1.88481808e-03, 1.16473436e-03],\n",
       "        [6.15446210e-01, 2.53531337e-03, 9.17315483e-04],\n",
       "        [6.54169083e-01, 1.76396966e-03, 6.89744949e-04],\n",
       "        [4.85028923e-01, 2.70813704e-03, 8.71807337e-04],\n",
       "        [4.29514259e-01, 4.81805205e-03, 1.69125199e-03],\n",
       "        [8.29589725e-01, 7.44324923e-03, 3.14500928e-03],\n",
       "        [4.11999404e-01, 5.33533096e-03, 3.81818414e-03],\n",
       "        [4.60653067e-01, 8.83051753e-03, 2.44283676e-03],\n",
       "        [6.67759180e-01, 7.87398219e-03, 3.70347500e-03],\n",
       "        [5.11728764e-01, 6.17873669e-03, 3.65990400e-03],\n",
       "        [4.45095181e-01, 8.91777873e-03, 4.48685884e-03],\n",
       "        [5.02122998e-01, 9.71961021e-03, 6.16949797e-03],\n",
       "        [4.80733722e-01, 8.52620602e-03, 5.31977415e-03],\n",
       "        [5.32299340e-01, 3.67119908e-03, 3.89501452e-03],\n",
       "        [4.15963501e-01, 1.67748332e-03, 7.93546438e-04],\n",
       "        [3.16295236e-01, 5.02526760e-04, 3.51876020e-04],\n",
       "        [2.13331580e-01, 2.70146132e-03, 3.50475311e-04],\n",
       "        [3.86564136e-01, 4.73794341e-03, 6.60032034e-04],\n",
       "        [5.28628111e-01, 8.48773122e-03, 1.42958760e-03],\n",
       "        [3.09505284e-01, 3.23948264e-03, 7.79598951e-04],\n",
       "        [4.24527824e-01, 9.50318575e-03, 6.67423010e-04],\n",
       "        [5.66890597e-01, 1.00950897e-02, 1.10417604e-03],\n",
       "        [3.14767718e-01, 1.01987720e-02, 9.39249992e-04],\n",
       "        [1.83300495e-01, 1.30121410e-02, 1.77955627e-03],\n",
       "        [2.46412098e-01, 6.10420108e-03, 1.83594227e-03],\n",
       "        [3.86414856e-01, 7.21141696e-03, 1.27199292e-03],\n",
       "        [9.71901119e-02, 1.32275224e-02, 3.10212374e-03],\n",
       "        [5.20622313e-01, 1.50815547e-02, 9.57432389e-03],\n",
       "        [4.64994550e-01, 2.09132135e-02, 1.04086101e-02],\n",
       "        [3.64183486e-01, 2.86463201e-02, 9.13104415e-03],\n",
       "        [3.53806555e-01, 2.84656286e-02, 9.36114788e-03],\n",
       "        [4.42367941e-01, 2.12790072e-02, 8.94489884e-03],\n",
       "        [4.05741692e-01, 7.82009959e-03, 6.29606843e-03],\n",
       "        [3.54633957e-01, 6.48418069e-03, 3.79031897e-03],\n",
       "        [2.86566466e-01, 3.60918045e-03, 2.90682912e-03],\n",
       "        [2.04396784e-01, 3.31595540e-03, 4.10544872e-03],\n",
       "        [2.00992107e-01, 1.04396939e-02, 4.16719913e-03],\n",
       "        [2.85187334e-01, 1.99094117e-02, 5.21275401e-03],\n",
       "        [3.14788312e-01, 4.34883237e-02, 1.13632679e-02],\n",
       "        [3.95457953e-01, 5.18267155e-02, 1.38294101e-02],\n",
       "        [5.17912567e-01, 3.61270308e-02, 9.60761309e-03],\n",
       "        [4.26544935e-01, 2.18212605e-02, 9.24763083e-03],\n",
       "        [5.11469007e-01, 2.48430669e-02, 8.16771388e-03],\n",
       "        [3.48053038e-01, 6.12267852e-03, 3.03494930e-03],\n",
       "        [4.78600115e-01, 9.43845510e-03, 3.31327319e-03],\n",
       "        [3.81807864e-01, 8.49774480e-03, 2.94291973e-03],\n",
       "        [3.41788471e-01, 6.00987673e-03, 3.35875154e-03],\n",
       "        [3.80302936e-01, 7.58174062e-03, 4.53117490e-03],\n",
       "        [2.30824202e-01, 4.00990248e-03, 2.56887078e-03],\n",
       "        [2.77826726e-01, 6.37003779e-03, 1.67050958e-03],\n",
       "        [5.89168787e-01, 9.39834118e-03, 1.09839439e-03],\n",
       "        [3.88774157e-01, 4.26992774e-03, 1.27831101e-03],\n",
       "        [4.73183900e-01, 6.18791580e-03, 1.69706345e-03],\n",
       "        [3.55223060e-01, 5.59046865e-03, 8.59141350e-04],\n",
       "        [2.54273176e-01, 1.37373805e-03, 5.53369522e-04],\n",
       "        [3.25744927e-01, 3.91900539e-03, 8.55892897e-04],\n",
       "        [5.86884081e-01, 7.14391470e-04, 8.06748867e-04],\n",
       "        [2.41627067e-01, 7.09760189e-03, 2.83452868e-03]]], dtype=float32)"
      ]
     },
     "execution_count": 101,
     "metadata": {},
     "output_type": "execute_result"
    }
   ],
   "source": [
    "generated_image.numpy()\n"
   ]
  },
  {
   "cell_type": "code",
   "execution_count": 308,
   "id": "regional-tourism",
   "metadata": {},
   "outputs": [
    {
     "data": {
      "text/plain": [
       "(512, 128, 1)"
      ]
     },
     "execution_count": 308,
     "metadata": {},
     "output_type": "execute_result"
    }
   ],
   "source": [
    "generated_image.numpy()[0].shape"
   ]
  },
  {
   "cell_type": "code",
   "execution_count": 230,
   "id": "intense-earthquake",
   "metadata": {
    "scrolled": true
   },
   "outputs": [
    {
     "data": {
      "text/plain": [
       "<tf.Tensor: id=584142, shape=(192, 3), dtype=float32, numpy=\n",
       "array([[5.53601801e-01, 2.35945582e-02, 4.72706556e-03],\n",
       "       [6.00084066e-01, 1.31965578e-02, 1.30796432e-03],\n",
       "       [5.97620964e-01, 1.09574795e-02, 1.84834003e-03],\n",
       "       [6.08771026e-01, 1.31816268e-02, 2.37160921e-03],\n",
       "       [5.47196269e-01, 1.72084570e-02, 2.77766585e-03],\n",
       "       [5.84240794e-01, 2.02982426e-02, 5.81037998e-03],\n",
       "       [5.42351544e-01, 1.95013583e-02, 6.30962849e-03],\n",
       "       [4.26500350e-01, 1.14898980e-02, 3.94293666e-03],\n",
       "       [5.63423872e-01, 1.13964975e-02, 2.85965204e-03],\n",
       "       [5.55652142e-01, 1.08247399e-02, 2.26536393e-03],\n",
       "       [5.39073348e-01, 9.71010327e-03, 2.50259042e-03],\n",
       "       [5.31926632e-01, 1.08327270e-02, 2.83476710e-03],\n",
       "       [5.54143429e-01, 1.02418065e-02, 2.83679366e-03],\n",
       "       [5.19265175e-01, 9.94595885e-03, 3.85132432e-03],\n",
       "       [5.87469578e-01, 9.37476754e-03, 3.44538689e-03],\n",
       "       [5.77217638e-01, 5.47808409e-03, 3.30707431e-03],\n",
       "       [5.40466309e-01, 3.72704864e-03, 1.86917186e-03],\n",
       "       [5.52536845e-01, 3.59767675e-03, 1.27059221e-03],\n",
       "       [5.44510841e-01, 2.97644734e-03, 8.54730606e-04],\n",
       "       [6.07671797e-01, 3.87430191e-03, 1.03849173e-03],\n",
       "       [4.98080939e-01, 3.85615230e-03, 1.04460120e-03],\n",
       "       [4.89297003e-01, 2.97468901e-03, 1.18735433e-03],\n",
       "       [5.73199630e-01, 2.74842978e-03, 1.28024817e-03],\n",
       "       [5.93014121e-01, 3.86333466e-03, 1.78617239e-03],\n",
       "       [3.90317887e-01, 4.55960631e-03, 1.45226717e-03],\n",
       "       [5.28861880e-01, 3.39934230e-03, 8.27282667e-04],\n",
       "       [4.44891602e-01, 2.76744366e-03, 1.18240714e-03],\n",
       "       [6.23717546e-01, 6.07225299e-03, 1.19286776e-03],\n",
       "       [5.51588893e-01, 9.06291604e-03, 3.23057175e-03],\n",
       "       [6.06394589e-01, 4.73216176e-03, 1.89951062e-03],\n",
       "       [5.57314217e-01, 2.86149979e-03, 1.55130029e-03],\n",
       "       [5.83966374e-01, 2.34711170e-03, 8.53002071e-04],\n",
       "       [5.73897004e-01, 3.64837050e-03, 7.30216503e-04],\n",
       "       [4.63489860e-01, 5.91263175e-03, 1.21927261e-03],\n",
       "       [5.06278455e-01, 8.54098797e-03, 1.55976415e-03],\n",
       "       [5.74788868e-01, 1.03206635e-02, 3.13195586e-03],\n",
       "       [4.56465870e-01, 1.10438764e-02, 3.57103348e-03],\n",
       "       [5.06404698e-01, 1.14867389e-02, 3.05527449e-03],\n",
       "       [4.71440315e-01, 1.36739314e-02, 3.96910310e-03],\n",
       "       [4.55058247e-01, 1.74523592e-02, 4.82869148e-03],\n",
       "       [5.20337105e-01, 2.15173066e-02, 2.89362669e-03],\n",
       "       [4.35237259e-01, 1.80869401e-02, 3.12364101e-03],\n",
       "       [5.04409969e-01, 2.18210816e-02, 4.02000546e-03],\n",
       "       [4.50906485e-01, 1.90957189e-02, 3.00538540e-03],\n",
       "       [5.24838805e-01, 1.69154406e-02, 2.94867158e-03],\n",
       "       [4.73314345e-01, 2.05281377e-02, 2.52878666e-03],\n",
       "       [4.98926371e-01, 1.78090334e-02, 2.32908130e-03],\n",
       "       [5.77907205e-01, 1.64601803e-02, 2.59715319e-03],\n",
       "       [5.05874991e-01, 2.05129683e-02, 3.39397788e-03],\n",
       "       [4.98046845e-01, 2.37184465e-02, 5.56769967e-03],\n",
       "       [4.95446831e-01, 2.57669687e-02, 6.81662560e-03],\n",
       "       [5.92199862e-01, 2.71707773e-02, 8.12673569e-03],\n",
       "       [4.72488701e-01, 3.09211314e-02, 6.83853030e-03],\n",
       "       [4.22046512e-01, 2.72245705e-02, 4.44102287e-03],\n",
       "       [5.21130800e-01, 2.13232636e-02, 3.06308270e-03],\n",
       "       [4.62278962e-01, 1.62129700e-02, 2.50539184e-03],\n",
       "       [5.09058475e-01, 1.46408975e-02, 1.65373087e-03],\n",
       "       [3.19911003e-01, 1.23022795e-02, 1.77198648e-03],\n",
       "       [5.17086685e-01, 1.19097531e-02, 1.44833326e-03],\n",
       "       [4.39824641e-01, 1.08634830e-02, 1.35004520e-03],\n",
       "       [4.17293698e-01, 1.27456188e-02, 1.64571404e-03],\n",
       "       [4.17931199e-01, 1.41193271e-02, 2.27200985e-03],\n",
       "       [5.69797635e-01, 1.68023407e-02, 2.73713470e-03],\n",
       "       [4.93041515e-01, 1.38811767e-02, 2.22507119e-03],\n",
       "       [4.78400230e-01, 1.39496326e-02, 2.06315517e-03],\n",
       "       [4.05533105e-01, 1.71086192e-02, 2.42993236e-03],\n",
       "       [3.55425626e-01, 1.84226036e-02, 2.98297405e-03],\n",
       "       [5.53428769e-01, 1.70921087e-02, 2.24328041e-03],\n",
       "       [4.32853937e-01, 1.59695745e-02, 2.13611126e-03],\n",
       "       [5.05831182e-01, 1.57341361e-02, 2.04777718e-03],\n",
       "       [4.44128424e-01, 1.50270760e-02, 3.31684947e-03],\n",
       "       [5.38539648e-01, 1.87277496e-02, 3.54149938e-03],\n",
       "       [4.52708483e-01, 1.69168711e-02, 3.12727690e-03],\n",
       "       [3.30296010e-01, 1.77456439e-02, 3.67909670e-03],\n",
       "       [4.14949477e-01, 1.89587474e-02, 3.09601426e-03],\n",
       "       [4.76437390e-01, 1.91274881e-02, 3.58876586e-03],\n",
       "       [4.92971271e-01, 1.80316269e-02, 3.02800536e-03],\n",
       "       [4.81308460e-01, 1.33313239e-02, 2.49850750e-03],\n",
       "       [4.98426944e-01, 1.18295848e-02, 2.38007307e-03],\n",
       "       [4.05966252e-01, 1.31638050e-02, 2.75549293e-03],\n",
       "       [4.85726714e-01, 1.29942596e-02, 1.95014477e-03],\n",
       "       [4.52783972e-01, 1.51453316e-02, 2.45189667e-03],\n",
       "       [4.80672687e-01, 1.53891444e-02, 3.01036239e-03],\n",
       "       [4.32062030e-01, 1.83104575e-02, 4.09373641e-03],\n",
       "       [4.67189282e-01, 1.85917020e-02, 3.73584032e-03],\n",
       "       [3.97260427e-01, 1.60484910e-02, 4.33415174e-03],\n",
       "       [4.49079394e-01, 1.90615952e-02, 3.81904840e-03],\n",
       "       [4.79854703e-01, 2.05155015e-02, 2.68402696e-03],\n",
       "       [3.67873967e-01, 1.44923031e-02, 2.55808234e-03],\n",
       "       [5.85832775e-01, 1.60840452e-02, 2.72068381e-03],\n",
       "       [5.04541516e-01, 2.01605558e-02, 3.22344899e-03],\n",
       "       [5.10004580e-01, 2.01483369e-02, 2.89785862e-03],\n",
       "       [5.55814087e-01, 2.47076452e-02, 5.95906377e-03],\n",
       "       [5.83509505e-01, 2.47990489e-02, 7.04944134e-03],\n",
       "       [6.44885898e-01, 2.17547119e-02, 3.93053889e-03],\n",
       "       [4.49983478e-01, 1.35402679e-02, 2.75635719e-03],\n",
       "       [4.97011542e-01, 1.52618587e-02, 2.95397639e-03],\n",
       "       [7.10773289e-01, 1.32516921e-02, 1.74078345e-03],\n",
       "       [6.04077697e-01, 1.32065415e-02, 2.09185481e-03],\n",
       "       [4.96254593e-01, 1.98217034e-02, 2.90176272e-03],\n",
       "       [4.24602389e-01, 2.62992382e-02, 4.16690111e-03],\n",
       "       [6.09371424e-01, 3.40277851e-02, 4.56017256e-03],\n",
       "       [5.71968257e-01, 3.21459472e-02, 3.90675664e-03],\n",
       "       [5.38375139e-01, 2.98214257e-02, 4.40624356e-03],\n",
       "       [4.90260541e-01, 2.96364427e-02, 4.39572334e-03],\n",
       "       [6.00950241e-01, 3.17903757e-02, 3.67406011e-03],\n",
       "       [5.41606188e-01, 2.83188820e-02, 3.63031030e-03],\n",
       "       [5.97148299e-01, 2.90232599e-02, 3.45575809e-03],\n",
       "       [4.96795475e-01, 2.62334049e-02, 3.63394618e-03],\n",
       "       [5.17517090e-01, 2.41028368e-02, 4.71878052e-03],\n",
       "       [5.93556464e-01, 2.69404650e-02, 4.59259748e-03],\n",
       "       [5.33968568e-01, 2.63625085e-02, 4.29821014e-03],\n",
       "       [7.39626169e-01, 2.65810788e-02, 3.47504020e-03],\n",
       "       [4.86313373e-01, 2.12275982e-02, 4.51576710e-03],\n",
       "       [6.80709660e-01, 2.18045115e-02, 2.47183442e-03],\n",
       "       [5.68839669e-01, 2.06669569e-02, 2.06726789e-03],\n",
       "       [4.86765981e-01, 2.06526518e-02, 1.45968795e-03],\n",
       "       [3.51410061e-01, 1.47465765e-02, 1.40774250e-03],\n",
       "       [3.93240452e-01, 1.39893889e-02, 1.25384331e-03],\n",
       "       [4.12977695e-01, 1.35515332e-02, 1.35320425e-03],\n",
       "       [3.93419564e-01, 1.31016374e-02, 1.72224641e-03],\n",
       "       [5.98731816e-01, 1.35591328e-02, 1.32432580e-03],\n",
       "       [5.00344932e-01, 1.33029521e-02, 1.66881084e-03],\n",
       "       [4.81037021e-01, 1.31934285e-02, 2.09155679e-03],\n",
       "       [5.16984582e-01, 1.52858794e-02, 1.96847320e-03],\n",
       "       [4.43648249e-01, 1.56318843e-02, 2.33066082e-03],\n",
       "       [4.68952924e-01, 1.71777606e-02, 2.41085887e-03],\n",
       "       [5.33449769e-01, 1.62132084e-02, 1.96149945e-03],\n",
       "       [4.69663173e-01, 1.16729736e-02, 1.65903568e-03],\n",
       "       [3.95777047e-01, 8.78745317e-03, 1.46162510e-03],\n",
       "       [5.72440028e-01, 9.37211514e-03, 1.22025609e-03],\n",
       "       [5.01162469e-01, 8.75708461e-03, 1.64777040e-03],\n",
       "       [6.13222003e-01, 1.11792088e-02, 1.84720755e-03],\n",
       "       [6.66801453e-01, 1.45155191e-02, 1.56870484e-03],\n",
       "       [5.35017133e-01, 1.06745958e-02, 1.84139609e-03],\n",
       "       [5.55049181e-01, 1.06123090e-02, 1.98367238e-03],\n",
       "       [5.38417578e-01, 1.29511356e-02, 2.22596526e-03],\n",
       "       [6.73840463e-01, 1.26624107e-02, 1.98376179e-03],\n",
       "       [6.80574656e-01, 1.04392171e-02, 2.36338377e-03],\n",
       "       [5.94946682e-01, 1.45377219e-02, 2.76803970e-03],\n",
       "       [7.63977945e-01, 1.11432076e-02, 2.41681933e-03],\n",
       "       [8.08085799e-01, 1.47804022e-02, 2.33528018e-03],\n",
       "       [5.19206524e-01, 1.02038383e-02, 3.04299593e-03],\n",
       "       [5.86524248e-01, 1.00950301e-02, 2.28005648e-03],\n",
       "       [5.48951387e-01, 1.01188719e-02, 2.19473243e-03],\n",
       "       [4.03669834e-01, 9.38850641e-03, 2.68232822e-03],\n",
       "       [5.79058647e-01, 1.04124546e-02, 1.82655454e-03],\n",
       "       [4.62949514e-01, 7.99873471e-03, 1.64899230e-03],\n",
       "       [6.00159645e-01, 1.10412538e-02, 1.38419867e-03],\n",
       "       [3.30810666e-01, 1.04858875e-02, 1.79120898e-03],\n",
       "       [5.36286235e-01, 1.07358098e-02, 1.38303638e-03],\n",
       "       [5.46858728e-01, 8.39540362e-03, 1.06176734e-03],\n",
       "       [3.64684731e-01, 6.01604581e-03, 6.60628080e-04],\n",
       "       [5.66685855e-01, 5.93912601e-03, 4.00722027e-04],\n",
       "       [5.14725745e-01, 7.81714916e-03, 1.43831968e-03],\n",
       "       [5.02993882e-01, 1.12249851e-02, 1.35815144e-03],\n",
       "       [4.63503838e-01, 1.10841393e-02, 2.17255950e-03],\n",
       "       [5.13734102e-01, 1.13275647e-02, 1.96701288e-03],\n",
       "       [4.85428452e-01, 7.15836883e-03, 8.14437866e-04],\n",
       "       [4.74240929e-01, 5.58844209e-03, 6.77675009e-04],\n",
       "       [5.45866430e-01, 6.63301349e-03, 8.68558884e-04],\n",
       "       [5.76069236e-01, 5.78901172e-03, 1.11672282e-03],\n",
       "       [5.11623442e-01, 5.12379408e-03, 1.61913037e-03],\n",
       "       [5.40098071e-01, 6.42204285e-03, 1.15594268e-03],\n",
       "       [6.14620388e-01, 5.75321913e-03, 1.96406245e-03],\n",
       "       [5.88881671e-01, 7.80749321e-03, 3.70135903e-03],\n",
       "       [6.71050906e-01, 1.10772848e-02, 1.86321139e-03],\n",
       "       [7.10727930e-01, 7.89889693e-03, 1.29249692e-03],\n",
       "       [7.22781241e-01, 8.53303075e-03, 1.81275606e-03],\n",
       "       [6.89039409e-01, 8.71202350e-03, 8.75264406e-04],\n",
       "       [5.58176935e-01, 1.04216337e-02, 8.48025084e-04],\n",
       "       [5.64942300e-01, 1.29543841e-02, 1.45855546e-03],\n",
       "       [5.90071499e-01, 1.22519732e-02, 8.53002071e-04],\n",
       "       [3.55429620e-01, 5.51477075e-03, 9.19938087e-04],\n",
       "       [5.76294541e-01, 6.49842620e-03, 7.34686852e-04],\n",
       "       [4.87753123e-01, 8.24025273e-03, 6.86734915e-04],\n",
       "       [4.20838147e-01, 1.12459958e-02, 4.50015068e-04],\n",
       "       [4.41278577e-01, 8.71276855e-03, 6.24954700e-04],\n",
       "       [3.70616496e-01, 9.36856866e-03, 6.79939985e-04],\n",
       "       [3.28964144e-01, 1.02008581e-02, 8.92907381e-04],\n",
       "       [3.06698352e-01, 7.42396712e-03, 4.75168228e-04],\n",
       "       [3.81755829e-01, 6.40231371e-03, 1.15931034e-03],\n",
       "       [3.18052411e-01, 1.16956234e-02, 1.58882141e-03],\n",
       "       [2.99987197e-01, 1.37474239e-02, 2.53474712e-03],\n",
       "       [4.67549443e-01, 7.82430172e-03, 7.75068998e-03],\n",
       "       [3.34569693e-01, 3.79881263e-03, 5.45746088e-03],\n",
       "       [4.13267136e-01, 5.53902984e-03, 9.94175673e-04],\n",
       "       [5.16774654e-01, 4.20260429e-03, 4.22298908e-04],\n",
       "       [7.14930177e-01, 5.99119067e-03, 6.16490841e-04],\n",
       "       [7.03492284e-01, 3.86029482e-03, 2.31468678e-03],\n",
       "       [2.91981518e-01, 2.22384930e-03, 1.88967586e-03],\n",
       "       [4.79299247e-01, 7.96326995e-03, 3.23602557e-03]], dtype=float32)>"
      ]
     },
     "execution_count": 230,
     "metadata": {},
     "output_type": "execute_result"
    }
   ],
   "source": [
    "generated_image[0]"
   ]
  },
  {
   "cell_type": "code",
   "execution_count": 102,
   "id": "equivalent-religious",
   "metadata": {},
   "outputs": [],
   "source": [
    "from mido import MidiFile, MidiTrack, Message\n",
    "from music21 import *\n",
    "from IPython.display import Image\n",
    "import pandas as pd\n",
    "import numpy as np\n",
    "import math\n",
    "import glob"
   ]
  },
  {
   "cell_type": "code",
   "execution_count": 34,
   "id": "vertical-surprise",
   "metadata": {},
   "outputs": [],
   "source": [
    "def recreate_midi(df_first_notes, speed=20000):\n",
    "    # function to take a dataframe created by something like parse_notes() or a gan and return a midi\n",
    "    \n",
    "    # Can start by reverse scaling the note:\n",
    "    df_reversed = df_first_notes.copy()\n",
    "    df_reversed['note'] = round(df_reversed['note'] * 88 + 20)  # might want to have something more special than round()\n",
    "    df_reversed.note = df_reversed.note.astype(int)\n",
    "    df_reversed['velocity'] = 60  # create a uniform middling velocity\n",
    "\n",
    "    # recreate the absolute time index and drop time_since_last (we'll recreate it with the stop signals)\n",
    "    df_reversed['time_index'] = df_reversed.time_since_last.cumsum()\n",
    "    df_reversed = df_reversed.drop(columns = 'time_since_last')\n",
    "\n",
    "    # create a stop signal for each note at the appropriate time_index:\n",
    "    for i in range(len(df_reversed)):\n",
    "        stop_note = pd.DataFrame([[df_reversed.note[i], 0, 0, df_reversed.duration[i] + df_reversed.time_index[i]]],\n",
    "                                 columns=['note', 'duration', 'velocity', 'time_index'])\n",
    "        df_reversed = df_reversed.append(stop_note, ignore_index=True)\n",
    "    df_reversed = df_reversed.sort_values('time_index').reset_index(drop=True)\n",
    "\n",
    "    # recreate time_since last with the stop note signals\n",
    "    df_reversed['time'] = [0] + [df_reversed.time_index[i+1] - df_reversed.time_index[i] \n",
    "                                 for i in range(len(df_reversed)-1)]\n",
    "    # and now we don't need duration or time_index so can drop those\n",
    "    df_reversed = df_reversed.drop(columns = {'time_index','duration'})\n",
    "\n",
    "    # finally, we need to scale the time since last note appropriately:\n",
    "    df_reversed['time'] = round(df_reversed['time'] * speed)\n",
    "    df_reversed.time = df_reversed.time.astype(int)\n",
    "\n",
    "    # finally, recreate the midi and return\n",
    "    mid_remade = MidiFile()\n",
    "    track = MidiTrack()\n",
    "    mid_remade.tracks.append(track)\n",
    "    track.append(Message('program_change', program=0, time=0))\n",
    "    for i in range(len(df_reversed)):\n",
    "        track.append(Message('note_on', note=df_reversed.note[i], velocity=df_reversed.velocity[i], time=df_reversed.time[i]))\n",
    "\n",
    "    return mid_remade"
   ]
  },
  {
   "cell_type": "code",
   "execution_count": 29,
   "id": "initial-trick",
   "metadata": {},
   "outputs": [],
   "source": [
    "import pandas as pd"
   ]
  },
  {
   "cell_type": "code",
   "execution_count": 103,
   "id": "smoking-government",
   "metadata": {},
   "outputs": [],
   "source": [
    "midi_dat = generated_image.numpy()\n",
    "midi_dat[0].shape\n",
    "\n",
    "midi_df = pd.DataFrame(midi_dat[0],columns=[\"note\", \"duration\",'time_since_last'])"
   ]
  },
  {
   "cell_type": "code",
   "execution_count": 104,
   "id": "cellular-minority",
   "metadata": {
    "scrolled": true
   },
   "outputs": [
    {
     "data": {
      "text/html": [
       "<div>\n",
       "<style scoped>\n",
       "    .dataframe tbody tr th:only-of-type {\n",
       "        vertical-align: middle;\n",
       "    }\n",
       "\n",
       "    .dataframe tbody tr th {\n",
       "        vertical-align: top;\n",
       "    }\n",
       "\n",
       "    .dataframe thead th {\n",
       "        text-align: right;\n",
       "    }\n",
       "</style>\n",
       "<table border=\"1\" class=\"dataframe\">\n",
       "  <thead>\n",
       "    <tr style=\"text-align: right;\">\n",
       "      <th></th>\n",
       "      <th>note</th>\n",
       "      <th>duration</th>\n",
       "      <th>time_since_last</th>\n",
       "    </tr>\n",
       "  </thead>\n",
       "  <tbody>\n",
       "    <tr>\n",
       "      <th>0</th>\n",
       "      <td>0.612866</td>\n",
       "      <td>0.050539</td>\n",
       "      <td>0.004883</td>\n",
       "    </tr>\n",
       "    <tr>\n",
       "      <th>1</th>\n",
       "      <td>0.425766</td>\n",
       "      <td>0.009810</td>\n",
       "      <td>0.000685</td>\n",
       "    </tr>\n",
       "    <tr>\n",
       "      <th>2</th>\n",
       "      <td>0.557675</td>\n",
       "      <td>0.005935</td>\n",
       "      <td>0.002588</td>\n",
       "    </tr>\n",
       "    <tr>\n",
       "      <th>3</th>\n",
       "      <td>0.346866</td>\n",
       "      <td>0.001990</td>\n",
       "      <td>0.002578</td>\n",
       "    </tr>\n",
       "    <tr>\n",
       "      <th>4</th>\n",
       "      <td>0.250857</td>\n",
       "      <td>0.001498</td>\n",
       "      <td>0.004695</td>\n",
       "    </tr>\n",
       "  </tbody>\n",
       "</table>\n",
       "</div>"
      ],
      "text/plain": [
       "       note  duration  time_since_last\n",
       "0  0.612866  0.050539         0.004883\n",
       "1  0.425766  0.009810         0.000685\n",
       "2  0.557675  0.005935         0.002588\n",
       "3  0.346866  0.001990         0.002578\n",
       "4  0.250857  0.001498         0.004695"
      ]
     },
     "execution_count": 104,
     "metadata": {},
     "output_type": "execute_result"
    }
   ],
   "source": [
    "midi_df.head()"
   ]
  },
  {
   "cell_type": "code",
   "execution_count": 105,
   "id": "latest-period",
   "metadata": {
    "scrolled": true
   },
   "outputs": [],
   "source": [
    "mid_remade = recreate_midi(midi_df)"
   ]
  },
  {
   "cell_type": "code",
   "execution_count": 106,
   "id": "developing-class",
   "metadata": {},
   "outputs": [],
   "source": [
    "mid_remade.save('mid_test_2.mid')"
   ]
  },
  {
   "cell_type": "code",
   "execution_count": 107,
   "id": "monthly-therapist",
   "metadata": {},
   "outputs": [
    {
     "data": {
      "text/html": [
       "\n",
       "                <div id='midiPlayerDiv19255'></div>\n",
       "                <link rel=\"stylesheet\" href=\"//cuthbertLab.github.io/music21j/css/m21.css\"\n",
       "                    type=\"text/css\" />\n",
       "                <script>\n",
       "                require.config({\n",
       "                    paths: {'music21': '//cuthbertLab.github.io/music21j/src/music21'}\n",
       "                });\n",
       "                require(['music21'], function() {\n",
       "                               mp = new music21.miditools.MidiPlayer();\n",
       "                               mp.addPlayer('#midiPlayerDiv19255');\n",
       "                               mp.base64Load('data:audio/midi;base64,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');\n",
       "                        });\n",
       "                </script>"
      ],
      "text/plain": [
       "<IPython.core.display.HTML object>"
      ]
     },
     "metadata": {},
     "output_type": "display_data"
    }
   ],
   "source": [
    "# see if we can play in jupyter notebook\n",
    "mf = midi.MidiFile()\n",
    "mf.open('mid_test_2.mid')\n",
    "mf.read()\n",
    "mf.close()\n",
    "s = midi.translate.midiFileToStream(mf)\n",
    "s.show('midi')"
   ]
  },
  {
   "cell_type": "code",
   "execution_count": null,
   "id": "printable-technical",
   "metadata": {},
   "outputs": [],
   "source": []
  },
  {
   "cell_type": "code",
   "execution_count": null,
   "id": "matched-turtle",
   "metadata": {},
   "outputs": [],
   "source": []
  }
 ],
 "metadata": {
  "kernelspec": {
   "display_name": "Python 3",
   "language": "python",
   "name": "python3"
  },
  "language_info": {
   "codemirror_mode": {
    "name": "ipython",
    "version": 3
   },
   "file_extension": ".py",
   "mimetype": "text/x-python",
   "name": "python",
   "nbconvert_exporter": "python",
   "pygments_lexer": "ipython3",
   "version": "3.7.1"
  }
 },
 "nbformat": 4,
 "nbformat_minor": 5
}
